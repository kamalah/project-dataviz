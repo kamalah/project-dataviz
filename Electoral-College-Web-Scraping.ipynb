{
 "cells": [
  {
   "cell_type": "code",
   "execution_count": 1,
   "metadata": {},
   "outputs": [],
   "source": [
    "import requests\n",
    "from bs4 import BeautifulSoup\n",
    "import pandas as pd\n",
    "# from pprint import pprint\n",
    "# from lxml import html\n",
    "# from lxml.html import fromstring\n",
    "#import urllib.request\n",
    "#from urllib.request import urlopen\n",
    "#from selenium import webdriver\n",
    "# import random\n",
    "#import re\n",
    "# import scrapy\n",
    "#"
   ]
  },
  {
   "cell_type": "code",
   "execution_count": 70,
   "metadata": {},
   "outputs": [],
   "source": [
    "url = 'https://www.archives.gov/electoral-college/1980'\n",
    "html = requests.get(url).content\n",
    "table = pd.read_html(html)\n",
    "#soup = BeautifulSoup(html, \"lxml\")\n",
    "#soup"
   ]
  },
  {
   "cell_type": "code",
   "execution_count": 72,
   "metadata": {},
   "outputs": [],
   "source": [
    "results_df = table[1]"
   ]
  },
  {
   "cell_type": "code",
   "execution_count": 74,
   "metadata": {},
   "outputs": [],
   "source": [
    "results_df.columns = ['state','electoral_votes'] + list(results_df.iloc[0,0:4])"
   ]
  },
  {
   "cell_type": "code",
   "execution_count": 75,
   "metadata": {},
   "outputs": [],
   "source": [
    "results_df.insert(0,'year',1980)"
   ]
  },
  {
   "cell_type": "code",
   "execution_count": 76,
   "metadata": {},
   "outputs": [],
   "source": [
    "# drop header row\n",
    "results_df = results_df.drop(results_df.index[0])"
   ]
  },
  {
   "cell_type": "code",
   "execution_count": 78,
   "metadata": {},
   "outputs": [],
   "source": [
    "# drop VP Columns\n",
    "num_veeps = int((results_df.shape[1]-3)/2)\n",
    "veep_names = results_df.columns[-num_veeps:]\n",
    "results_df = results_df.drop(veep_names, axis = 1)"
   ]
  },
  {
   "cell_type": "code",
   "execution_count": 36,
   "metadata": {},
   "outputs": [
    {
     "data": {
      "text/plain": [
       "Index(['Ronald Reagan,  of  California', 'Jimmy Carter,  of  Georgia',\n",
       "       'George Bush,  of  Texas', 'Walter F. Mondale,  of  Minnesota'],\n",
       "      dtype='object')"
      ]
     },
     "execution_count": 36,
     "metadata": {},
     "output_type": "execute_result"
    }
   ],
   "source": [
    "results_df.columns[2:6]"
   ]
  },
  {
   "cell_type": "code",
   "execution_count": 40,
   "metadata": {},
   "outputs": [
    {
     "data": {
      "text/html": [
       "<div>\n",
       "<style scoped>\n",
       "    .dataframe tbody tr th:only-of-type {\n",
       "        vertical-align: middle;\n",
       "    }\n",
       "\n",
       "    .dataframe tbody tr th {\n",
       "        vertical-align: top;\n",
       "    }\n",
       "\n",
       "    .dataframe thead th {\n",
       "        text-align: right;\n",
       "    }\n",
       "</style>\n",
       "<table border=\"1\" class=\"dataframe\">\n",
       "  <thead>\n",
       "    <tr style=\"text-align: right;\">\n",
       "      <th></th>\n",
       "      <th>year</th>\n",
       "      <th>state</th>\n",
       "      <th>variable</th>\n",
       "      <th>value</th>\n",
       "    </tr>\n",
       "  </thead>\n",
       "  <tbody>\n",
       "    <tr>\n",
       "      <th>0</th>\n",
       "      <td>1980</td>\n",
       "      <td>Alabama</td>\n",
       "      <td>Ronald Reagan,  of  California</td>\n",
       "      <td>9</td>\n",
       "    </tr>\n",
       "    <tr>\n",
       "      <th>1</th>\n",
       "      <td>1980</td>\n",
       "      <td>Alaska</td>\n",
       "      <td>Ronald Reagan,  of  California</td>\n",
       "      <td>3</td>\n",
       "    </tr>\n",
       "    <tr>\n",
       "      <th>2</th>\n",
       "      <td>1980</td>\n",
       "      <td>Arizona</td>\n",
       "      <td>Ronald Reagan,  of  California</td>\n",
       "      <td>6</td>\n",
       "    </tr>\n",
       "    <tr>\n",
       "      <th>3</th>\n",
       "      <td>1980</td>\n",
       "      <td>Arkansas</td>\n",
       "      <td>Ronald Reagan,  of  California</td>\n",
       "      <td>6</td>\n",
       "    </tr>\n",
       "    <tr>\n",
       "      <th>4</th>\n",
       "      <td>1980</td>\n",
       "      <td>California</td>\n",
       "      <td>Ronald Reagan,  of  California</td>\n",
       "      <td>45</td>\n",
       "    </tr>\n",
       "    <tr>\n",
       "      <th>...</th>\n",
       "      <td>...</td>\n",
       "      <td>...</td>\n",
       "      <td>...</td>\n",
       "      <td>...</td>\n",
       "    </tr>\n",
       "    <tr>\n",
       "      <th>203</th>\n",
       "      <td>1980</td>\n",
       "      <td>Washington</td>\n",
       "      <td>Walter F. Mondale,  of  Minnesota</td>\n",
       "      <td>-</td>\n",
       "    </tr>\n",
       "    <tr>\n",
       "      <th>204</th>\n",
       "      <td>1980</td>\n",
       "      <td>West Virginia</td>\n",
       "      <td>Walter F. Mondale,  of  Minnesota</td>\n",
       "      <td>6</td>\n",
       "    </tr>\n",
       "    <tr>\n",
       "      <th>205</th>\n",
       "      <td>1980</td>\n",
       "      <td>Wisconsin</td>\n",
       "      <td>Walter F. Mondale,  of  Minnesota</td>\n",
       "      <td>-</td>\n",
       "    </tr>\n",
       "    <tr>\n",
       "      <th>206</th>\n",
       "      <td>1980</td>\n",
       "      <td>Wyoming</td>\n",
       "      <td>Walter F. Mondale,  of  Minnesota</td>\n",
       "      <td>-</td>\n",
       "    </tr>\n",
       "    <tr>\n",
       "      <th>207</th>\n",
       "      <td>1980</td>\n",
       "      <td>Total</td>\n",
       "      <td>Walter F. Mondale,  of  Minnesota</td>\n",
       "      <td>49</td>\n",
       "    </tr>\n",
       "  </tbody>\n",
       "</table>\n",
       "<p>208 rows × 4 columns</p>\n",
       "</div>"
      ],
      "text/plain": [
       "     year          state                           variable value\n",
       "0    1980        Alabama     Ronald Reagan,  of  California     9\n",
       "1    1980         Alaska     Ronald Reagan,  of  California     3\n",
       "2    1980        Arizona     Ronald Reagan,  of  California     6\n",
       "3    1980       Arkansas     Ronald Reagan,  of  California     6\n",
       "4    1980     California     Ronald Reagan,  of  California    45\n",
       "..    ...            ...                                ...   ...\n",
       "203  1980     Washington  Walter F. Mondale,  of  Minnesota     -\n",
       "204  1980  West Virginia  Walter F. Mondale,  of  Minnesota     6\n",
       "205  1980      Wisconsin  Walter F. Mondale,  of  Minnesota     -\n",
       "206  1980        Wyoming  Walter F. Mondale,  of  Minnesota     -\n",
       "207  1980          Total  Walter F. Mondale,  of  Minnesota    49\n",
       "\n",
       "[208 rows x 4 columns]"
      ]
     },
     "execution_count": 40,
     "metadata": {},
     "output_type": "execute_result"
    }
   ],
   "source": [
    "pd.melt(results_df,id_vars =['year', 'state'], value_vars = results_df.columns[2:6])"
   ]
  },
  {
   "cell_type": "code",
   "execution_count": 58,
   "metadata": {},
   "outputs": [
    {
     "data": {
      "text/html": [
       "<div>\n",
       "<style scoped>\n",
       "    .dataframe tbody tr th:only-of-type {\n",
       "        vertical-align: middle;\n",
       "    }\n",
       "\n",
       "    .dataframe tbody tr th {\n",
       "        vertical-align: top;\n",
       "    }\n",
       "\n",
       "    .dataframe thead th {\n",
       "        text-align: right;\n",
       "    }\n",
       "</style>\n",
       "<table border=\"1\" class=\"dataframe\">\n",
       "  <thead>\n",
       "    <tr style=\"text-align: right;\">\n",
       "      <th></th>\n",
       "      <th>year</th>\n",
       "      <th>state</th>\n",
       "      <th>electoral_votes</th>\n",
       "      <th>Ronald Reagan,  of  California</th>\n",
       "      <th>Jimmy Carter,  of  Georgia</th>\n",
       "      <th>George Bush,  of  Texas</th>\n",
       "      <th>Walter F. Mondale,  of  Minnesota</th>\n",
       "    </tr>\n",
       "  </thead>\n",
       "  <tbody>\n",
       "    <tr>\n",
       "      <th>51</th>\n",
       "      <td>1980</td>\n",
       "      <td>Wyoming</td>\n",
       "      <td>3</td>\n",
       "      <td>3</td>\n",
       "      <td>-</td>\n",
       "      <td>3</td>\n",
       "      <td>-</td>\n",
       "    </tr>\n",
       "    <tr>\n",
       "      <th>52</th>\n",
       "      <td>1980</td>\n",
       "      <td>Total</td>\n",
       "      <td>538</td>\n",
       "      <td>489</td>\n",
       "      <td>49</td>\n",
       "      <td>489</td>\n",
       "      <td>49</td>\n",
       "    </tr>\n",
       "  </tbody>\n",
       "</table>\n",
       "</div>"
      ],
      "text/plain": [
       "    year    state electoral_votes Ronald Reagan,  of  California  \\\n",
       "51  1980  Wyoming               3                              3   \n",
       "52  1980    Total             538                            489   \n",
       "\n",
       "   Jimmy Carter,  of  Georgia George Bush,  of  Texas  \\\n",
       "51                          -                       3   \n",
       "52                         49                     489   \n",
       "\n",
       "   Walter F. Mondale,  of  Minnesota  \n",
       "51                                 -  \n",
       "52                                49  "
      ]
     },
     "execution_count": 58,
     "metadata": {},
     "output_type": "execute_result"
    }
   ],
   "source": [
    "results_df.head()"
   ]
  },
  {
   "cell_type": "code",
   "execution_count": 59,
   "metadata": {},
   "outputs": [
    {
     "data": {
      "text/plain": [
       "7"
      ]
     },
     "execution_count": 59,
     "metadata": {},
     "output_type": "execute_result"
    }
   ],
   "source": [
    "results_df.shape[1]"
   ]
  },
  {
   "cell_type": "code",
   "execution_count": 62,
   "metadata": {},
   "outputs": [],
   "source": [
    "r1 = list(range(10))"
   ]
  },
  {
   "cell_type": "code",
   "execution_count": 63,
   "metadata": {},
   "outputs": [
    {
     "data": {
      "text/plain": [
       "[0, 1, 2, 3, 4, 5, 6]"
      ]
     },
     "execution_count": 63,
     "metadata": {},
     "output_type": "execute_result"
    }
   ],
   "source": [
    "r1[:-3]"
   ]
  },
  {
   "cell_type": "code",
   "execution_count": 88,
   "metadata": {},
   "outputs": [
    {
     "data": {
      "text/plain": [
       "[0, 1, 2, 3, 4, 5, 6, 7]"
      ]
     },
     "execution_count": 88,
     "metadata": {},
     "output_type": "execute_result"
    }
   ],
   "source": [
    "r1[0:-2]"
   ]
  },
  {
   "cell_type": "code",
   "execution_count": 79,
   "metadata": {},
   "outputs": [
    {
     "data": {
      "text/html": [
       "<div>\n",
       "<style scoped>\n",
       "    .dataframe tbody tr th:only-of-type {\n",
       "        vertical-align: middle;\n",
       "    }\n",
       "\n",
       "    .dataframe tbody tr th {\n",
       "        vertical-align: top;\n",
       "    }\n",
       "\n",
       "    .dataframe thead th {\n",
       "        text-align: right;\n",
       "    }\n",
       "</style>\n",
       "<table border=\"1\" class=\"dataframe\">\n",
       "  <thead>\n",
       "    <tr style=\"text-align: right;\">\n",
       "      <th></th>\n",
       "      <th>year</th>\n",
       "      <th>state</th>\n",
       "      <th>electoral_votes</th>\n",
       "      <th>Ronald Reagan,  of  California</th>\n",
       "      <th>Jimmy Carter,  of  Georgia</th>\n",
       "    </tr>\n",
       "  </thead>\n",
       "  <tbody>\n",
       "    <tr>\n",
       "      <th>1</th>\n",
       "      <td>1980</td>\n",
       "      <td>Alabama</td>\n",
       "      <td>9</td>\n",
       "      <td>9</td>\n",
       "      <td>-</td>\n",
       "    </tr>\n",
       "    <tr>\n",
       "      <th>2</th>\n",
       "      <td>1980</td>\n",
       "      <td>Alaska</td>\n",
       "      <td>3</td>\n",
       "      <td>3</td>\n",
       "      <td>-</td>\n",
       "    </tr>\n",
       "    <tr>\n",
       "      <th>3</th>\n",
       "      <td>1980</td>\n",
       "      <td>Arizona</td>\n",
       "      <td>6</td>\n",
       "      <td>6</td>\n",
       "      <td>-</td>\n",
       "    </tr>\n",
       "    <tr>\n",
       "      <th>4</th>\n",
       "      <td>1980</td>\n",
       "      <td>Arkansas</td>\n",
       "      <td>6</td>\n",
       "      <td>6</td>\n",
       "      <td>-</td>\n",
       "    </tr>\n",
       "    <tr>\n",
       "      <th>5</th>\n",
       "      <td>1980</td>\n",
       "      <td>California</td>\n",
       "      <td>45</td>\n",
       "      <td>45</td>\n",
       "      <td>-</td>\n",
       "    </tr>\n",
       "  </tbody>\n",
       "</table>\n",
       "</div>"
      ],
      "text/plain": [
       "   year       state electoral_votes Ronald Reagan,  of  California  \\\n",
       "1  1980     Alabama               9                              9   \n",
       "2  1980      Alaska               3                              3   \n",
       "3  1980     Arizona               6                              6   \n",
       "4  1980    Arkansas               6                              6   \n",
       "5  1980  California              45                             45   \n",
       "\n",
       "  Jimmy Carter,  of  Georgia  \n",
       "1                          -  \n",
       "2                          -  \n",
       "3                          -  \n",
       "4                          -  \n",
       "5                          -  "
      ]
     },
     "execution_count": 79,
     "metadata": {},
     "output_type": "execute_result"
    }
   ],
   "source": [
    "results_df.head()"
   ]
  },
  {
   "cell_type": "code",
   "execution_count": 85,
   "metadata": {},
   "outputs": [
    {
     "data": {
      "text/html": [
       "<div>\n",
       "<style scoped>\n",
       "    .dataframe tbody tr th:only-of-type {\n",
       "        vertical-align: middle;\n",
       "    }\n",
       "\n",
       "    .dataframe tbody tr th {\n",
       "        vertical-align: top;\n",
       "    }\n",
       "\n",
       "    .dataframe thead th {\n",
       "        text-align: right;\n",
       "    }\n",
       "</style>\n",
       "<table border=\"1\" class=\"dataframe\">\n",
       "  <thead>\n",
       "    <tr style=\"text-align: right;\">\n",
       "      <th></th>\n",
       "      <th>year</th>\n",
       "      <th>state</th>\n",
       "      <th>candidate</th>\n",
       "      <th>electoral_votes</th>\n",
       "    </tr>\n",
       "  </thead>\n",
       "  <tbody>\n",
       "    <tr>\n",
       "      <th>0</th>\n",
       "      <td>1980</td>\n",
       "      <td>Alabama</td>\n",
       "      <td>Ronald Reagan,  of  California</td>\n",
       "      <td>9</td>\n",
       "    </tr>\n",
       "    <tr>\n",
       "      <th>1</th>\n",
       "      <td>1980</td>\n",
       "      <td>Alaska</td>\n",
       "      <td>Ronald Reagan,  of  California</td>\n",
       "      <td>3</td>\n",
       "    </tr>\n",
       "    <tr>\n",
       "      <th>2</th>\n",
       "      <td>1980</td>\n",
       "      <td>Arizona</td>\n",
       "      <td>Ronald Reagan,  of  California</td>\n",
       "      <td>6</td>\n",
       "    </tr>\n",
       "    <tr>\n",
       "      <th>3</th>\n",
       "      <td>1980</td>\n",
       "      <td>Arkansas</td>\n",
       "      <td>Ronald Reagan,  of  California</td>\n",
       "      <td>6</td>\n",
       "    </tr>\n",
       "    <tr>\n",
       "      <th>4</th>\n",
       "      <td>1980</td>\n",
       "      <td>California</td>\n",
       "      <td>Ronald Reagan,  of  California</td>\n",
       "      <td>45</td>\n",
       "    </tr>\n",
       "    <tr>\n",
       "      <th>...</th>\n",
       "      <td>...</td>\n",
       "      <td>...</td>\n",
       "      <td>...</td>\n",
       "      <td>...</td>\n",
       "    </tr>\n",
       "    <tr>\n",
       "      <th>99</th>\n",
       "      <td>1980</td>\n",
       "      <td>Washington</td>\n",
       "      <td>Jimmy Carter,  of  Georgia</td>\n",
       "      <td>-</td>\n",
       "    </tr>\n",
       "    <tr>\n",
       "      <th>100</th>\n",
       "      <td>1980</td>\n",
       "      <td>West Virginia</td>\n",
       "      <td>Jimmy Carter,  of  Georgia</td>\n",
       "      <td>6</td>\n",
       "    </tr>\n",
       "    <tr>\n",
       "      <th>101</th>\n",
       "      <td>1980</td>\n",
       "      <td>Wisconsin</td>\n",
       "      <td>Jimmy Carter,  of  Georgia</td>\n",
       "      <td>-</td>\n",
       "    </tr>\n",
       "    <tr>\n",
       "      <th>102</th>\n",
       "      <td>1980</td>\n",
       "      <td>Wyoming</td>\n",
       "      <td>Jimmy Carter,  of  Georgia</td>\n",
       "      <td>-</td>\n",
       "    </tr>\n",
       "    <tr>\n",
       "      <th>103</th>\n",
       "      <td>1980</td>\n",
       "      <td>Total</td>\n",
       "      <td>Jimmy Carter,  of  Georgia</td>\n",
       "      <td>49</td>\n",
       "    </tr>\n",
       "  </tbody>\n",
       "</table>\n",
       "<p>104 rows × 4 columns</p>\n",
       "</div>"
      ],
      "text/plain": [
       "     year          state                       candidate electoral_votes\n",
       "0    1980        Alabama  Ronald Reagan,  of  California               9\n",
       "1    1980         Alaska  Ronald Reagan,  of  California               3\n",
       "2    1980        Arizona  Ronald Reagan,  of  California               6\n",
       "3    1980       Arkansas  Ronald Reagan,  of  California               6\n",
       "4    1980     California  Ronald Reagan,  of  California              45\n",
       "..    ...            ...                             ...             ...\n",
       "99   1980     Washington      Jimmy Carter,  of  Georgia               -\n",
       "100  1980  West Virginia      Jimmy Carter,  of  Georgia               6\n",
       "101  1980      Wisconsin      Jimmy Carter,  of  Georgia               -\n",
       "102  1980        Wyoming      Jimmy Carter,  of  Georgia               -\n",
       "103  1980          Total      Jimmy Carter,  of  Georgia              49\n",
       "\n",
       "[104 rows x 4 columns]"
      ]
     },
     "execution_count": 85,
     "metadata": {},
     "output_type": "execute_result"
    }
   ],
   "source": [
    "results_df.melt(id_vars =['year', 'state'], value_vars = results_df.columns[3:], var_name = 'candidate',value_name='electoral_votes')"
   ]
  },
  {
   "cell_type": "code",
   "execution_count": 91,
   "metadata": {},
   "outputs": [],
   "source": [
    "df = pd.DataFrame()\n",
    "for year in range(1976,2020,4):\n",
    "    url = f'https://www.archives.gov/electoral-college/{year}'\n",
    "    html = requests.get(url).content\n",
    "    table = pd.read_html(html)\n",
    "    results_df = table[1]\n",
    "    results_df.columns = ['state','electoral_votes'] + list(results_df.iloc[0,0:-2])\n",
    "    results_df.insert(0,'year',year)\n",
    "    \n",
    "    # drop header row\n",
    "    results_df = results_df.drop(results_df.index[0])\n",
    "    \n",
    "    # drop VP Columns\n",
    "    num_veeps = int((results_df.shape[1]-3)/2)\n",
    "    veep_names = results_df.columns[-num_veeps:]\n",
    "    results_df.drop(veep_names, axis = 1, inplace = True)\n",
    "    \n",
    "    df = df.append(results_df.melt(id_vars =['year', 'state'], value_vars = results_df.columns[3:], var_name = 'candidate',value_name='electoral_votes'))"
   ]
  },
  {
   "cell_type": "code",
   "execution_count": 92,
   "metadata": {},
   "outputs": [
    {
     "data": {
      "text/plain": [
       "array([1976, 1980, 1984, 1988, 1992, 1996, 2000, 2004, 2008, 2012, 2016],\n",
       "      dtype=int64)"
      ]
     },
     "execution_count": 92,
     "metadata": {},
     "output_type": "execute_result"
    }
   ],
   "source": [
    "df['year'].unique()"
   ]
  },
  {
   "cell_type": "code",
   "execution_count": 96,
   "metadata": {},
   "outputs": [
    {
     "data": {
      "text/html": [
       "<div>\n",
       "<style scoped>\n",
       "    .dataframe tbody tr th:only-of-type {\n",
       "        vertical-align: middle;\n",
       "    }\n",
       "\n",
       "    .dataframe tbody tr th {\n",
       "        vertical-align: top;\n",
       "    }\n",
       "\n",
       "    .dataframe thead th {\n",
       "        text-align: right;\n",
       "    }\n",
       "</style>\n",
       "<table border=\"1\" class=\"dataframe\">\n",
       "  <thead>\n",
       "    <tr style=\"text-align: right;\">\n",
       "      <th></th>\n",
       "      <th>year</th>\n",
       "      <th>state</th>\n",
       "      <th>candidate</th>\n",
       "      <th>electoral_votes</th>\n",
       "    </tr>\n",
       "  </thead>\n",
       "  <tbody>\n",
       "    <tr>\n",
       "      <th>0</th>\n",
       "      <td>2012</td>\n",
       "      <td>Alabama</td>\n",
       "      <td>Barack Obama, of Illinois</td>\n",
       "      <td>-</td>\n",
       "    </tr>\n",
       "    <tr>\n",
       "      <th>1</th>\n",
       "      <td>2012</td>\n",
       "      <td>Alaska</td>\n",
       "      <td>Barack Obama, of Illinois</td>\n",
       "      <td>-</td>\n",
       "    </tr>\n",
       "    <tr>\n",
       "      <th>2</th>\n",
       "      <td>2012</td>\n",
       "      <td>Arizona</td>\n",
       "      <td>Barack Obama, of Illinois</td>\n",
       "      <td>-</td>\n",
       "    </tr>\n",
       "    <tr>\n",
       "      <th>3</th>\n",
       "      <td>2012</td>\n",
       "      <td>Arkansas</td>\n",
       "      <td>Barack Obama, of Illinois</td>\n",
       "      <td>-</td>\n",
       "    </tr>\n",
       "    <tr>\n",
       "      <th>4</th>\n",
       "      <td>2012</td>\n",
       "      <td>California</td>\n",
       "      <td>Barack Obama, of Illinois</td>\n",
       "      <td>55</td>\n",
       "    </tr>\n",
       "    <tr>\n",
       "      <th>...</th>\n",
       "      <td>...</td>\n",
       "      <td>...</td>\n",
       "      <td>...</td>\n",
       "      <td>...</td>\n",
       "    </tr>\n",
       "    <tr>\n",
       "      <th>99</th>\n",
       "      <td>2012</td>\n",
       "      <td>Washington</td>\n",
       "      <td>Mitt Romney, of Massachusetts</td>\n",
       "      <td>-</td>\n",
       "    </tr>\n",
       "    <tr>\n",
       "      <th>100</th>\n",
       "      <td>2012</td>\n",
       "      <td>West Virginia</td>\n",
       "      <td>Mitt Romney, of Massachusetts</td>\n",
       "      <td>5</td>\n",
       "    </tr>\n",
       "    <tr>\n",
       "      <th>101</th>\n",
       "      <td>2012</td>\n",
       "      <td>Wisconsin</td>\n",
       "      <td>Mitt Romney, of Massachusetts</td>\n",
       "      <td>-</td>\n",
       "    </tr>\n",
       "    <tr>\n",
       "      <th>102</th>\n",
       "      <td>2012</td>\n",
       "      <td>Wyoming</td>\n",
       "      <td>Mitt Romney, of Massachusetts</td>\n",
       "      <td>3</td>\n",
       "    </tr>\n",
       "    <tr>\n",
       "      <th>103</th>\n",
       "      <td>2012</td>\n",
       "      <td>Total</td>\n",
       "      <td>Mitt Romney, of Massachusetts</td>\n",
       "      <td>206</td>\n",
       "    </tr>\n",
       "  </tbody>\n",
       "</table>\n",
       "<p>104 rows × 4 columns</p>\n",
       "</div>"
      ],
      "text/plain": [
       "     year          state                      candidate electoral_votes\n",
       "0    2012        Alabama      Barack Obama, of Illinois               -\n",
       "1    2012         Alaska      Barack Obama, of Illinois               -\n",
       "2    2012        Arizona      Barack Obama, of Illinois               -\n",
       "3    2012       Arkansas      Barack Obama, of Illinois               -\n",
       "4    2012     California      Barack Obama, of Illinois              55\n",
       "..    ...            ...                            ...             ...\n",
       "99   2012     Washington  Mitt Romney, of Massachusetts               -\n",
       "100  2012  West Virginia  Mitt Romney, of Massachusetts               5\n",
       "101  2012      Wisconsin  Mitt Romney, of Massachusetts               -\n",
       "102  2012        Wyoming  Mitt Romney, of Massachusetts               3\n",
       "103  2012          Total  Mitt Romney, of Massachusetts             206\n",
       "\n",
       "[104 rows x 4 columns]"
      ]
     },
     "execution_count": 96,
     "metadata": {},
     "output_type": "execute_result"
    }
   ],
   "source": [
    "df[df['year'] == 2012]"
   ]
  },
  {
   "cell_type": "code",
   "execution_count": null,
   "metadata": {},
   "outputs": [],
   "source": []
  }
 ],
 "metadata": {
  "kernelspec": {
   "display_name": "Python 3",
   "language": "python",
   "name": "python3"
  },
  "language_info": {
   "codemirror_mode": {
    "name": "ipython",
    "version": 3
   },
   "file_extension": ".py",
   "mimetype": "text/x-python",
   "name": "python",
   "nbconvert_exporter": "python",
   "pygments_lexer": "ipython3",
   "version": "3.8.3"
  }
 },
 "nbformat": 4,
 "nbformat_minor": 4
}
