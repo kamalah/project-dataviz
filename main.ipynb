{
 "cells": [
  {
   "cell_type": "code",
   "execution_count": 1,
   "metadata": {},
   "outputs": [],
   "source": [
    "# import all of the libraries\n",
    "import pandas as pd\n",
    "import numpy as np\n",
    "import requests\n",
    "import plotly.graph_objs as go\n",
    "import plotly.offline as py\n",
    "import plotly.express as px\n",
    "from plotly.subplots import make_subplots\n",
    "import re\n",
    "#import dash\n",
    "#import dash_core_components as dcc\n",
    "#import dash_html_components as html\n",
    "#import chart_studio.plotly as py\n",
    "#import matplotlib.pyplot as plt\n",
    "#import seaborn as sns\n",
    "#%matplotlib inline\n",
    "#import folium\n",
    "#from folium import plugins\n",
    "#import ipywidgets\n",
    "#import geocoder\n",
    "#from branca.element import Figure"
   ]
  },
  {
   "cell_type": "code",
   "execution_count": 2,
   "metadata": {},
   "outputs": [],
   "source": [
    "# https://dataverse.harvard.edu/dataset.xhtml?persistentId=doi:10.7910/DVN/42MVDX\n",
    "df = pd.read_csv('data/1976-2016-president.csv')\n",
    "#df.head()"
   ]
  },
  {
   "cell_type": "code",
   "execution_count": 3,
   "metadata": {},
   "outputs": [],
   "source": [
    "# add column for the percentage of votes that each candidate get \n",
    "df['pct_vote'] = (df['candidatevotes'] / df['totalvotes']).astype('float64')\n",
    "\n",
    "# democratic-farmer-labor is a special case for MN\n",
    "df.replace({'party': 'democratic-farmer-labor'}, 'democrat', inplace = True)\n",
    "\n",
    "# replace all minor parties with 'other'\n",
    "df.loc[~df['party'].isin(['republican','democrat']),'party'] = 'other'\n",
    "\n",
    "# change Candidate Name formatting from LastName, FirstName to FirstName LastName\n",
    "df['candidate'] = df['candidate'].str.split(', ').str[::-1].str.join(' ')\n",
    "\n",
    "# drop unneccessary columns\n",
    "df.drop(columns = ['version','notes'], inplace = True)\n",
    "\n",
    "# drop duplicates error rows from dataset (year/state/candidate)\n",
    "df.drop_duplicates(subset = ['year','state','candidate'], inplace = True)"
   ]
  },
  {
   "cell_type": "code",
   "execution_count": 4,
   "metadata": {},
   "outputs": [],
   "source": [
    "# load electoral results csv\n",
    "results_ec = pd.read_csv('data/electoral_college.csv')\n",
    "\n",
    "# extract names for easier matching in main dataset\n",
    "results_ec['candidate'] = results_ec['candidate'].str.extract(r'((\\w+ (\\w. )?\\w+)|Other)')\n",
    "\n",
    "# fix a couple of names to match main Dataset\n",
    "results_ec.replace({'candidate': {'John F. Kerry': 'John Kerry','George Bush': 'George H.W. Bush', \\\n",
    "                                  'Gerald R. Ford': 'Gerald Ford', 'Michael S. Dukakis': 'Michael Dukakis',\\\n",
    "                                  'Walter F. Mondale': 'Walter Mondale','William J. Clinton':'Bill Clinton',\\\n",
    "                                 'Albert Gore':'Al Gore', 'Barack Obama':'Barack H. Obama',\n",
    "                                 'Donald Trump':'Donald J. Trump'}}, inplace = True)\n",
    "\n"
   ]
  },
  {
   "cell_type": "code",
   "execution_count": 5,
   "metadata": {},
   "outputs": [],
   "source": [
    "# add electoral votes results into main dataframe\n",
    "df = df.merge(results_ec,on = ['year','state','candidate'], how = 'left')\n",
    "df['electoral_votes'].fillna(0,inplace = True)\n",
    "\n",
    "# popoulate total_electoral_votes\n",
    "df[\"total_electoral_votes\"] = df.groupby([\"year\",\"state\"])['total_electoral_votes'].transform(lambda x: x.fillna(x.max()))\n",
    "\n",
    "#df.head()"
   ]
  },
  {
   "cell_type": "code",
   "execution_count": 11,
   "metadata": {},
   "outputs": [
    {
     "data": {
      "text/html": [
       "<div>\n",
       "<style scoped>\n",
       "    .dataframe tbody tr th:only-of-type {\n",
       "        vertical-align: middle;\n",
       "    }\n",
       "\n",
       "    .dataframe tbody tr th {\n",
       "        vertical-align: top;\n",
       "    }\n",
       "\n",
       "    .dataframe thead th {\n",
       "        text-align: right;\n",
       "    }\n",
       "</style>\n",
       "<table border=\"1\" class=\"dataframe\">\n",
       "  <thead>\n",
       "    <tr style=\"text-align: right;\">\n",
       "      <th></th>\n",
       "      <th>year</th>\n",
       "      <th>state_po</th>\n",
       "      <th>candidatevotes</th>\n",
       "      <th>pct_vote</th>\n",
       "      <th>party</th>\n",
       "      <th>party_id</th>\n",
       "    </tr>\n",
       "  </thead>\n",
       "  <tbody>\n",
       "    <tr>\n",
       "      <th>0</th>\n",
       "      <td>1976</td>\n",
       "      <td>AK</td>\n",
       "      <td>7</td>\n",
       "      <td>0.356531</td>\n",
       "      <td>republican</td>\n",
       "      <td>0.0</td>\n",
       "    </tr>\n",
       "    <tr>\n",
       "      <th>1</th>\n",
       "      <td>1976</td>\n",
       "      <td>AL</td>\n",
       "      <td>0</td>\n",
       "      <td>0.557273</td>\n",
       "      <td>democrat</td>\n",
       "      <td>1.0</td>\n",
       "    </tr>\n",
       "    <tr>\n",
       "      <th>2</th>\n",
       "      <td>1976</td>\n",
       "      <td>AR</td>\n",
       "      <td>19</td>\n",
       "      <td>0.649617</td>\n",
       "      <td>democrat</td>\n",
       "      <td>1.0</td>\n",
       "    </tr>\n",
       "    <tr>\n",
       "      <th>3</th>\n",
       "      <td>1976</td>\n",
       "      <td>AZ</td>\n",
       "      <td>11</td>\n",
       "      <td>0.398000</td>\n",
       "      <td>republican</td>\n",
       "      <td>0.0</td>\n",
       "    </tr>\n",
       "    <tr>\n",
       "      <th>4</th>\n",
       "      <td>1976</td>\n",
       "      <td>CA</td>\n",
       "      <td>23</td>\n",
       "      <td>0.479548</td>\n",
       "      <td>republican</td>\n",
       "      <td>0.0</td>\n",
       "    </tr>\n",
       "  </tbody>\n",
       "</table>\n",
       "</div>"
      ],
      "text/plain": [
       "   year state_po  candidatevotes  pct_vote       party  party_id\n",
       "0  1976       AK               7  0.356531  republican       0.0\n",
       "1  1976       AL               0  0.557273    democrat       1.0\n",
       "2  1976       AR              19  0.649617    democrat       1.0\n",
       "3  1976       AZ              11  0.398000  republican       0.0\n",
       "4  1976       CA              23  0.479548  republican       0.0"
      ]
     },
     "execution_count": 11,
     "metadata": {},
     "output_type": "execute_result"
    }
   ],
   "source": [
    "# retrieve corresponding id for candidate with max votes by year and state as well as create pct_vote of democrats for plotting \n",
    "winner = df.groupby(['year','state_po'], as_index = False).agg({'candidatevotes':'idxmax',\\\n",
    "                                                              'pct_vote': lambda g: sum(df.loc[g.index].query(\"party == 'democrat'\").pct_vote)})\n",
    "\n",
    "\n",
    "# add column for corresponding party for max votes for candidate\n",
    "winner['party'] = [df.loc[id,'party'] for id in winner['candidatevotes']]\n",
    "\n",
    "# map parties to colors for plotting later on. \n",
    "winner['party_id'] = winner['party'].map({'democrat': 1.0, 'republican': 0.0}) \n",
    "winner.head()"
   ]
  },
  {
   "cell_type": "code",
   "execution_count": 14,
   "metadata": {},
   "outputs": [],
   "source": [
    "# add column to calculate electoral vote as percentage of totalvotes\n",
    "df['new_electoral_vote'] = df['pct_vote']*df['total_electoral_votes']\n",
    "df['new_electoral_vote'].fillna(0, inplace = True)\n",
    "df['new_electoral_vote'] = df['new_electoral_vote'].round().astype('int')"
   ]
  },
  {
   "cell_type": "code",
   "execution_count": 20,
   "metadata": {},
   "outputs": [],
   "source": [
    "# electoral college winner current method\n",
    "gp = results_ec.groupby(['year','candidate'], as_index = False).agg({'electoral_votes':'sum'})\n",
    "electoral_winner = gp.groupby('year').agg({'electoral_votes':['idxmax','max']})\n",
    "electoral_winner['candidate'] = [gp.loc[id,'candidate'] for id in electoral_winner['electoral_votes']['idxmax']]\n",
    "electoral_winner.columns = [''.join(t) for t in electoral_winner.columns]"
   ]
  },
  {
   "cell_type": "code",
   "execution_count": 21,
   "metadata": {},
   "outputs": [],
   "source": [
    "# determine national popular vote winner\n",
    "gp = df.groupby(['year','candidate'], as_index = False).agg({'candidatevotes':'sum'})\n",
    "popular_winner = gp.groupby(['year']).agg({'candidatevotes':['idxmax','max']})\n",
    "popular_winner['candidate'] = [gp.loc[id,'candidate'] for id in popular_winner['candidatevotes']['idxmax']]\n",
    "popular_winner.columns = [''.join(t) for t in popular_winner.columns]"
   ]
  },
  {
   "cell_type": "code",
   "execution_count": 22,
   "metadata": {},
   "outputs": [],
   "source": [
    "# electoral college winner by popular vote\n",
    "gp = df.groupby(['year','candidate'], as_index = False).agg({'new_electoral_vote':'sum'})\n",
    "new_electoral_winner = gp.groupby('year').agg({'new_electoral_vote':['idxmax','max']})\n",
    "new_electoral_winner['candidate'] = [gp.loc[id,'candidate'] for id in new_electoral_winner['new_electoral_vote']['idxmax']]\n",
    "new_electoral_winner.columns = [''.join(t) for t in new_electoral_winner.columns]"
   ]
  },
  {
   "cell_type": "code",
   "execution_count": 24,
   "metadata": {},
   "outputs": [
    {
     "data": {
      "text/html": [
       "<div>\n",
       "<style scoped>\n",
       "    .dataframe tbody tr th:only-of-type {\n",
       "        vertical-align: middle;\n",
       "    }\n",
       "\n",
       "    .dataframe tbody tr th {\n",
       "        vertical-align: top;\n",
       "    }\n",
       "\n",
       "    .dataframe thead th {\n",
       "        text-align: right;\n",
       "    }\n",
       "</style>\n",
       "<table border=\"1\" class=\"dataframe\">\n",
       "  <thead>\n",
       "    <tr style=\"text-align: right;\">\n",
       "      <th></th>\n",
       "      <th>electoral_votesmax</th>\n",
       "      <th>candidate_electoral</th>\n",
       "      <th>candidatevotesmax</th>\n",
       "      <th>candidate_popular</th>\n",
       "      <th>new_electoral_votemax</th>\n",
       "      <th>candidate</th>\n",
       "    </tr>\n",
       "    <tr>\n",
       "      <th>year</th>\n",
       "      <th></th>\n",
       "      <th></th>\n",
       "      <th></th>\n",
       "      <th></th>\n",
       "      <th></th>\n",
       "      <th></th>\n",
       "    </tr>\n",
       "  </thead>\n",
       "  <tbody>\n",
       "    <tr>\n",
       "      <th>1976</th>\n",
       "      <td>297</td>\n",
       "      <td>Jimmy Carter</td>\n",
       "      <td>40680446</td>\n",
       "      <td>Jimmy Carter</td>\n",
       "      <td>266</td>\n",
       "      <td>Jimmy Carter</td>\n",
       "    </tr>\n",
       "    <tr>\n",
       "      <th>1980</th>\n",
       "      <td>489</td>\n",
       "      <td>Ronald Reagan</td>\n",
       "      <td>43642639</td>\n",
       "      <td>Ronald Reagan</td>\n",
       "      <td>266</td>\n",
       "      <td>Ronald Reagan</td>\n",
       "    </tr>\n",
       "    <tr>\n",
       "      <th>1984</th>\n",
       "      <td>525</td>\n",
       "      <td>Ronald Reagan</td>\n",
       "      <td>54166829</td>\n",
       "      <td>Ronald Reagan</td>\n",
       "      <td>315</td>\n",
       "      <td>Ronald Reagan</td>\n",
       "    </tr>\n",
       "    <tr>\n",
       "      <th>1988</th>\n",
       "      <td>426</td>\n",
       "      <td>George H.W. Bush</td>\n",
       "      <td>48642640</td>\n",
       "      <td>George H.W. Bush</td>\n",
       "      <td>287</td>\n",
       "      <td>George H.W. Bush</td>\n",
       "    </tr>\n",
       "    <tr>\n",
       "      <th>1992</th>\n",
       "      <td>370</td>\n",
       "      <td>Bill Clinton</td>\n",
       "      <td>44856747</td>\n",
       "      <td>Bill Clinton</td>\n",
       "      <td>229</td>\n",
       "      <td>Bill Clinton</td>\n",
       "    </tr>\n",
       "  </tbody>\n",
       "</table>\n",
       "</div>"
      ],
      "text/plain": [
       "      electoral_votesmax candidate_electoral  candidatevotesmax  \\\n",
       "year                                                              \n",
       "1976                 297        Jimmy Carter           40680446   \n",
       "1980                 489       Ronald Reagan           43642639   \n",
       "1984                 525       Ronald Reagan           54166829   \n",
       "1988                 426    George H.W. Bush           48642640   \n",
       "1992                 370        Bill Clinton           44856747   \n",
       "\n",
       "     candidate_popular  new_electoral_votemax         candidate  \n",
       "year                                                             \n",
       "1976      Jimmy Carter                    266      Jimmy Carter  \n",
       "1980     Ronald Reagan                    266     Ronald Reagan  \n",
       "1984     Ronald Reagan                    315     Ronald Reagan  \n",
       "1988  George H.W. Bush                    287  George H.W. Bush  \n",
       "1992      Bill Clinton                    229      Bill Clinton  "
      ]
     },
     "execution_count": 24,
     "metadata": {},
     "output_type": "execute_result"
    }
   ],
   "source": [
    "# create winner matrix\n",
    "winner_matrix = electoral_winner[['electoral_votesmax','candidate']].join(popular_winner[['candidatevotesmax','candidate']], lsuffix = \"_electoral\", rsuffix = \"_popular\")\n",
    "winner_matrix = winner_matrix.join(new_electoral_winner[['new_electoral_votemax','candidate']])\n",
    "\n"
   ]
  },
  {
   "cell_type": "code",
   "execution_count": 29,
   "metadata": {},
   "outputs": [],
   "source": [
    "# clean-up winning matrix\n",
    "winner_matrix.columns = ['electoral_votes','electoral_candidate','popular_votes','popular_candidate','new_electoral_votes','new_electoral_candidate']\n",
    "winner_matrix.reset_index(inplace = True)"
   ]
  },
  {
   "cell_type": "code",
   "execution_count": null,
   "metadata": {},
   "outputs": [],
   "source": [
    "#https://support.sisense.com/hc/en-us/community/posts/360038301533-Plotly-Choropleth-With-Slider-Map-Charts-Over-Time-\n",
    "min_year = 1976\n",
    "\n",
    "# your color-scale\n",
    "scl = [[0.0, 'red'],[.50, '#5700c9'], [1,'#0515a8']]\n",
    "#scl = [[0.0, 'red'], [1,'blue']]\n",
    "data_slider = []\n",
    "for year in winner['year'].unique():\n",
    "    df_segmented =  winner[(winner['year']== year)]\n",
    "    data_each_yr = dict(\n",
    "                        type='choropleth',\n",
    "                        locations = df_segmented['state_po'],\n",
    "                        z=df_segmented['pct_vote'].astype(float),\n",
    "                        locationmode='USA-states',\n",
    "                        colorscale = scl,\n",
    "                        colorbar= {'title':'Party'})\n",
    "\n",
    "    data_slider.append(data_each_yr)\n",
    "\n",
    "steps = []\n",
    "\n",
    "for i in range(len(data_slider)):\n",
    "    step = dict(method='restyle',\n",
    "                args=['visible', [False] * len(data_slider)],\n",
    "                label='Year {}'.format(i*4 + min_year))\n",
    "    step['args'][1][i] = True\n",
    "    steps.append(step)\n",
    "\n",
    "sliders = [dict(active=0, pad={\"t\": 1}, steps=steps)]\n",
    "\n",
    "layout = dict(title ='Presidential Wins', geo=dict(scope='usa',\n",
    "                       projection={'type': 'albers usa'}),\n",
    "              sliders=sliders)\n",
    "\n",
    "fig = dict(data=data_slider, layout=layout)\n",
    "py.plot(fig)"
   ]
  },
  {
   "cell_type": "code",
   "execution_count": null,
   "metadata": {},
   "outputs": [],
   "source": [
    "min_year = 1976\n",
    "fig = make_subplots(rows=2, cols=2, specs=[[{\"type\": \"pie\"},{\"type\": \"choropleth\",\"rowspan\":2}], \n",
    "                                           [{\"type\": \"indicator\"},None ]],\n",
    "                   subplot_titles=(\"National Split\", \"% Democratic Vote\"), )\n",
    "\n",
    "scl = [[0.0, 'red'],[.50, '#5700c9'], [1,'#0515a8']]\n",
    "\n",
    "\n",
    "data_slider = []\n",
    "for year in winner['year'].unique():\n",
    "    \n",
    "    # Choropleth for each year\n",
    "    df_segmented =  winner[winner['year']== year]\n",
    "    fig.append_trace(\n",
    "        go.Choropleth(\n",
    "            locations = df_segmented['state_po'],\n",
    "            z=df_segmented['pct_vote'].astype(float),\n",
    "            locationmode='USA-states',\n",
    "            colorscale = scl,\n",
    "            colorbar= {'title':'Party'}, text = df_segmented['party'], \n",
    "            hoverinfo = [\"location\", \"z\", \"text\"]),row = 1, col = 2)\n",
    "\n",
    "    # Pie Chart for each year\n",
    "    full_election_year = df[df['year'] == year].groupby('party',as_index = False).agg({'candidatevotes':'sum'}).sort_values(by = 'party')\n",
    "    fig.append_trace(go.Pie(values = full_election_year['candidatevotes'], \n",
    "           labels = full_election_year['party'], marker = {'colors':['blue','green','red']}), row = 1, col = 1)\n",
    "    \n",
    "    # Card\n",
    "    fig.append_trace(\n",
    "        go.Indicator(\n",
    "            mode = \"number\",\n",
    "            value = year,\n",
    "#                 title = {\"text\": \"Accounts<br><span style='font-size:0.8em;color:gray'>Subtitle</span><br><span style='font-size:0.8em;color:gray'>Subsubtitle</span>\"},\n",
    "#                 delta = {'reference': 400, 'relative': True},\n",
    "            title = {\"text\": f\"Popular Vote Winner <br><span style='font-size:0.8em;color:gray'>{national_winner.loc[year,'candidate']} </span>\"}), row =2, col = 1)\n",
    "    \n",
    "steps = []\n",
    "for i in range(0,len(fig.data),3):\n",
    "    step = dict(method='restyle',\n",
    "                args=['visible', [False] * len(fig.data)],\n",
    "                label='Year {}'.format(int(i*(4/3) + min_year)))\n",
    "    step[\"args\"][1][i:i+3] = [True, True, True]\n",
    "    steps.append(step)\n",
    "\n",
    "sliders = [dict(active=0, pad={\"t\": 1}, steps=steps)]\n",
    "\n",
    "fig.update_layout(sliders=sliders, title ='Presidential Wins')\n",
    "fig.update_geos(scope='usa', projection={'type': 'albers usa'})\n",
    "fig.update_layout(legend= {'yanchor':\"top\",  'y':0.99, 'xanchor':\"left\",'x':0.01})\n",
    "#fig.update_layout(showlegend = False)\n",
    "#fig.update_layout(width=1000,height=800)\n",
    "py.plot(fig)"
   ]
  },
  {
   "cell_type": "code",
   "execution_count": null,
   "metadata": {},
   "outputs": [],
   "source": [
    "# scl = [[0.0, 'red'],[.50, '#5700c9'], [1,'#0515a8']]\n",
    "# px.choropleth(winner,locations='state_po', locationmode=\"USA-states\", color='pct_vote', \n",
    "#               scope=\"usa\", animation_frame =\"year\", color_continuous_scale = scl)"
   ]
  },
  {
   "cell_type": "code",
   "execution_count": 19,
   "metadata": {},
   "outputs": [
    {
     "data": {
      "text/html": [
       "<div>\n",
       "<style scoped>\n",
       "    .dataframe tbody tr th:only-of-type {\n",
       "        vertical-align: middle;\n",
       "    }\n",
       "\n",
       "    .dataframe tbody tr th {\n",
       "        vertical-align: top;\n",
       "    }\n",
       "\n",
       "    .dataframe thead th {\n",
       "        text-align: right;\n",
       "    }\n",
       "</style>\n",
       "<table border=\"1\" class=\"dataframe\">\n",
       "  <thead>\n",
       "    <tr style=\"text-align: right;\">\n",
       "      <th></th>\n",
       "      <th>new_electoral_vote</th>\n",
       "    </tr>\n",
       "    <tr>\n",
       "      <th>year</th>\n",
       "      <th></th>\n",
       "    </tr>\n",
       "  </thead>\n",
       "  <tbody>\n",
       "    <tr>\n",
       "      <th>1976</th>\n",
       "      <td>523</td>\n",
       "    </tr>\n",
       "    <tr>\n",
       "      <th>1980</th>\n",
       "      <td>519</td>\n",
       "    </tr>\n",
       "    <tr>\n",
       "      <th>1984</th>\n",
       "      <td>529</td>\n",
       "    </tr>\n",
       "    <tr>\n",
       "      <th>1988</th>\n",
       "      <td>531</td>\n",
       "    </tr>\n",
       "    <tr>\n",
       "      <th>1992</th>\n",
       "      <td>533</td>\n",
       "    </tr>\n",
       "    <tr>\n",
       "      <th>1996</th>\n",
       "      <td>531</td>\n",
       "    </tr>\n",
       "    <tr>\n",
       "      <th>2000</th>\n",
       "      <td>524</td>\n",
       "    </tr>\n",
       "    <tr>\n",
       "      <th>2004</th>\n",
       "      <td>531</td>\n",
       "    </tr>\n",
       "    <tr>\n",
       "      <th>2008</th>\n",
       "      <td>523</td>\n",
       "    </tr>\n",
       "    <tr>\n",
       "      <th>2012</th>\n",
       "      <td>530</td>\n",
       "    </tr>\n",
       "    <tr>\n",
       "      <th>2016</th>\n",
       "      <td>518</td>\n",
       "    </tr>\n",
       "  </tbody>\n",
       "</table>\n",
       "</div>"
      ],
      "text/plain": [
       "      new_electoral_vote\n",
       "year                    \n",
       "1976                 523\n",
       "1980                 519\n",
       "1984                 529\n",
       "1988                 531\n",
       "1992                 533\n",
       "1996                 531\n",
       "2000                 524\n",
       "2004                 531\n",
       "2008                 523\n",
       "2012                 530\n",
       "2016                 518"
      ]
     },
     "execution_count": 19,
     "metadata": {},
     "output_type": "execute_result"
    }
   ],
   "source": [
    "df.groupby(['year']).agg({'new_electoral_vote':'sum'})"
   ]
  },
  {
   "cell_type": "code",
   "execution_count": 25,
   "metadata": {},
   "outputs": [],
   "source": [
    "winner_matrix.columns = ['electoral_votes','electoral_candidate','popular_votes','popular_candidate','new_electoral_votes','new_electoral_candidate']"
   ]
  },
  {
   "cell_type": "code",
   "execution_count": 28,
   "metadata": {},
   "outputs": [
    {
     "data": {
      "text/html": [
       "<div>\n",
       "<style scoped>\n",
       "    .dataframe tbody tr th:only-of-type {\n",
       "        vertical-align: middle;\n",
       "    }\n",
       "\n",
       "    .dataframe tbody tr th {\n",
       "        vertical-align: top;\n",
       "    }\n",
       "\n",
       "    .dataframe thead th {\n",
       "        text-align: right;\n",
       "    }\n",
       "</style>\n",
       "<table border=\"1\" class=\"dataframe\">\n",
       "  <thead>\n",
       "    <tr style=\"text-align: right;\">\n",
       "      <th></th>\n",
       "      <th>electoral_votes</th>\n",
       "      <th>electoral_candidate</th>\n",
       "      <th>popular_votes</th>\n",
       "      <th>popular_candidate</th>\n",
       "      <th>new_electoral_votes</th>\n",
       "      <th>new_electoral_candidate</th>\n",
       "    </tr>\n",
       "    <tr>\n",
       "      <th>year</th>\n",
       "      <th></th>\n",
       "      <th></th>\n",
       "      <th></th>\n",
       "      <th></th>\n",
       "      <th></th>\n",
       "      <th></th>\n",
       "    </tr>\n",
       "  </thead>\n",
       "  <tbody>\n",
       "    <tr>\n",
       "      <th>1976</th>\n",
       "      <td>297</td>\n",
       "      <td>Jimmy Carter</td>\n",
       "      <td>40680446</td>\n",
       "      <td>Jimmy Carter</td>\n",
       "      <td>266</td>\n",
       "      <td>Jimmy Carter</td>\n",
       "    </tr>\n",
       "    <tr>\n",
       "      <th>1980</th>\n",
       "      <td>489</td>\n",
       "      <td>Ronald Reagan</td>\n",
       "      <td>43642639</td>\n",
       "      <td>Ronald Reagan</td>\n",
       "      <td>266</td>\n",
       "      <td>Ronald Reagan</td>\n",
       "    </tr>\n",
       "    <tr>\n",
       "      <th>1984</th>\n",
       "      <td>525</td>\n",
       "      <td>Ronald Reagan</td>\n",
       "      <td>54166829</td>\n",
       "      <td>Ronald Reagan</td>\n",
       "      <td>315</td>\n",
       "      <td>Ronald Reagan</td>\n",
       "    </tr>\n",
       "    <tr>\n",
       "      <th>1988</th>\n",
       "      <td>426</td>\n",
       "      <td>George H.W. Bush</td>\n",
       "      <td>48642640</td>\n",
       "      <td>George H.W. Bush</td>\n",
       "      <td>287</td>\n",
       "      <td>George H.W. Bush</td>\n",
       "    </tr>\n",
       "    <tr>\n",
       "      <th>1992</th>\n",
       "      <td>370</td>\n",
       "      <td>Bill Clinton</td>\n",
       "      <td>44856747</td>\n",
       "      <td>Bill Clinton</td>\n",
       "      <td>229</td>\n",
       "      <td>Bill Clinton</td>\n",
       "    </tr>\n",
       "    <tr>\n",
       "      <th>1996</th>\n",
       "      <td>379</td>\n",
       "      <td>Bill Clinton</td>\n",
       "      <td>47295351</td>\n",
       "      <td>Bill Clinton</td>\n",
       "      <td>262</td>\n",
       "      <td>Bill Clinton</td>\n",
       "    </tr>\n",
       "    <tr>\n",
       "      <th>2000</th>\n",
       "      <td>271</td>\n",
       "      <td>George W. Bush</td>\n",
       "      <td>50830580</td>\n",
       "      <td>Al Gore</td>\n",
       "      <td>258</td>\n",
       "      <td>George W. Bush</td>\n",
       "    </tr>\n",
       "    <tr>\n",
       "      <th>2004</th>\n",
       "      <td>286</td>\n",
       "      <td>George W. Bush</td>\n",
       "      <td>61872711</td>\n",
       "      <td>George W. Bush</td>\n",
       "      <td>275</td>\n",
       "      <td>George W. Bush</td>\n",
       "    </tr>\n",
       "    <tr>\n",
       "      <th>2008</th>\n",
       "      <td>365</td>\n",
       "      <td>Barack H. Obama</td>\n",
       "      <td>69338846</td>\n",
       "      <td>Barack H. Obama</td>\n",
       "      <td>281</td>\n",
       "      <td>Barack H. Obama</td>\n",
       "    </tr>\n",
       "    <tr>\n",
       "      <th>2012</th>\n",
       "      <td>332</td>\n",
       "      <td>Barack H. Obama</td>\n",
       "      <td>65752017</td>\n",
       "      <td>Barack H. Obama</td>\n",
       "      <td>271</td>\n",
       "      <td>Barack H. Obama</td>\n",
       "    </tr>\n",
       "    <tr>\n",
       "      <th>2016</th>\n",
       "      <td>304</td>\n",
       "      <td>Donald J. Trump</td>\n",
       "      <td>65677168</td>\n",
       "      <td>Hillary Clinton</td>\n",
       "      <td>257</td>\n",
       "      <td>Hillary Clinton</td>\n",
       "    </tr>\n",
       "  </tbody>\n",
       "</table>\n",
       "</div>"
      ],
      "text/plain": [
       "      electoral_votes electoral_candidate  popular_votes popular_candidate  \\\n",
       "year                                                                         \n",
       "1976              297        Jimmy Carter       40680446      Jimmy Carter   \n",
       "1980              489       Ronald Reagan       43642639     Ronald Reagan   \n",
       "1984              525       Ronald Reagan       54166829     Ronald Reagan   \n",
       "1988              426    George H.W. Bush       48642640  George H.W. Bush   \n",
       "1992              370        Bill Clinton       44856747      Bill Clinton   \n",
       "1996              379        Bill Clinton       47295351      Bill Clinton   \n",
       "2000              271      George W. Bush       50830580           Al Gore   \n",
       "2004              286      George W. Bush       61872711    George W. Bush   \n",
       "2008              365     Barack H. Obama       69338846   Barack H. Obama   \n",
       "2012              332     Barack H. Obama       65752017   Barack H. Obama   \n",
       "2016              304     Donald J. Trump       65677168   Hillary Clinton   \n",
       "\n",
       "      new_electoral_votes new_electoral_candidate  \n",
       "year                                               \n",
       "1976                  266            Jimmy Carter  \n",
       "1980                  266           Ronald Reagan  \n",
       "1984                  315           Ronald Reagan  \n",
       "1988                  287        George H.W. Bush  \n",
       "1992                  229            Bill Clinton  \n",
       "1996                  262            Bill Clinton  \n",
       "2000                  258          George W. Bush  \n",
       "2004                  275          George W. Bush  \n",
       "2008                  281         Barack H. Obama  \n",
       "2012                  271         Barack H. Obama  \n",
       "2016                  257         Hillary Clinton  "
      ]
     },
     "execution_count": 28,
     "metadata": {},
     "output_type": "execute_result"
    }
   ],
   "source": [
    "winner_matrix"
   ]
  },
  {
   "cell_type": "code",
   "execution_count": 39,
   "metadata": {},
   "outputs": [
    {
     "data": {
      "application/vnd.plotly.v1+json": {
       "config": {
        "plotlyServerURL": "https://plot.ly"
       },
       "data": [
        {
         "hovertemplate": "variable=electoral_votes<br>year=%{x}<br>value=%{y}<extra></extra>",
         "legendgroup": "electoral_votes",
         "marker": {
          "color": "#636efa",
          "symbol": "circle"
         },
         "mode": "markers",
         "name": "electoral_votes",
         "orientation": "v",
         "showlegend": true,
         "type": "scatter",
         "x": [
          1976,
          1976,
          1976,
          1976,
          1976,
          1976,
          1976,
          1976,
          1976,
          1976,
          1976,
          1976,
          1976,
          1976,
          1976,
          1980,
          1980,
          1980,
          1980,
          1980,
          1980,
          1980,
          1980,
          1980,
          1980,
          1980,
          1980,
          1980,
          1980,
          1980,
          1980,
          1980,
          1980,
          1980,
          1980,
          1980,
          1984,
          1984,
          1984,
          1984,
          1984,
          1984,
          1984,
          1984,
          1984,
          1984,
          1984,
          1984,
          1984,
          1984,
          1984,
          1984,
          1984,
          1988,
          1988,
          1988,
          1988,
          1988,
          1988,
          1988,
          1988,
          1988,
          1988,
          1988,
          1988,
          1988,
          1988,
          1988,
          1988,
          1988,
          1988,
          1992,
          1992,
          1992,
          1992,
          1992,
          1992,
          1992,
          1992,
          1992,
          1992,
          1992,
          1992,
          1992,
          1992,
          1992,
          1992,
          1992,
          1992,
          1992,
          1992,
          1992,
          1992,
          1992,
          1992,
          1992,
          1996,
          1996,
          1996,
          1996,
          1996,
          1996,
          1996,
          1996,
          1996,
          1996,
          1996,
          1996,
          1996,
          1996,
          1996,
          1996,
          1996,
          1996,
          1996,
          1996,
          1996,
          1996,
          1996,
          1996,
          2000,
          2000,
          2000,
          2000,
          2000,
          2000,
          2000,
          2000,
          2000,
          2000,
          2000,
          2000,
          2000,
          2000,
          2000,
          2000,
          2000,
          2000,
          2000,
          2000,
          2004,
          2004,
          2004,
          2004,
          2004,
          2004,
          2004,
          2004,
          2004,
          2004,
          2004,
          2004,
          2004,
          2004,
          2004,
          2004,
          2004,
          2004,
          2004,
          2004,
          2004,
          2004,
          2004,
          2008,
          2008,
          2008,
          2008,
          2008,
          2008,
          2008,
          2008,
          2008,
          2008,
          2008,
          2008,
          2008,
          2008,
          2008,
          2008,
          2008,
          2008,
          2008,
          2008,
          2008,
          2008,
          2008,
          2008,
          2008,
          2008,
          2008,
          2012,
          2012,
          2012,
          2012,
          2012,
          2012,
          2012,
          2012,
          2012,
          2012,
          2012,
          2012,
          2012,
          2012,
          2012,
          2012,
          2012,
          2012,
          2012,
          2012,
          2012,
          2012,
          2012,
          2012,
          2012,
          2012,
          2012,
          2012,
          2012,
          2012,
          2012,
          2012,
          2012,
          2012,
          2012,
          2012,
          2016,
          2016,
          2016,
          2016,
          2016,
          2016,
          2016,
          2016,
          2016,
          2016,
          2016,
          2016,
          2016,
          2016,
          2016,
          2016,
          2016,
          2016,
          2016,
          2016,
          2016,
          2016,
          2016,
          2016,
          2016,
          2016,
          2016,
          2016,
          2016,
          2016,
          2016,
          2016
         ],
         "xaxis": "x",
         "y": [
          0,
          0,
          0,
          240,
          0,
          297,
          0,
          0,
          0,
          0,
          0,
          0,
          0,
          0,
          0,
          0,
          0,
          0,
          0,
          0,
          0,
          0,
          0,
          0,
          0,
          49,
          0,
          0,
          0,
          0,
          0,
          0,
          0,
          0,
          489,
          0,
          0,
          0,
          0,
          0,
          0,
          0,
          0,
          0,
          0,
          0,
          0,
          0,
          0,
          0,
          525,
          0,
          13,
          0,
          0,
          0,
          0,
          0,
          426,
          0,
          0,
          0,
          0,
          0,
          0,
          0,
          111,
          0,
          0,
          0,
          0,
          0,
          370,
          0,
          0,
          0,
          168,
          0,
          0,
          0,
          0,
          0,
          0,
          0,
          0,
          0,
          0,
          0,
          0,
          0,
          0,
          0,
          0,
          0,
          0,
          0,
          379,
          0,
          0,
          0,
          0,
          0,
          0,
          0,
          0,
          0,
          0,
          0,
          0,
          0,
          0,
          0,
          0,
          0,
          0,
          0,
          0,
          159,
          0,
          0,
          266,
          0,
          0,
          0,
          0,
          271,
          0,
          0,
          0,
          0,
          0,
          0,
          0,
          0,
          0,
          0,
          0,
          0,
          0,
          0,
          0,
          0,
          0,
          0,
          0,
          0,
          286,
          0,
          251,
          0,
          0,
          0,
          0,
          0,
          0,
          0,
          0,
          0,
          0,
          0,
          0,
          0,
          0,
          0,
          365,
          0,
          0,
          0,
          0,
          0,
          0,
          0,
          0,
          0,
          0,
          0,
          0,
          0,
          0,
          173,
          0,
          0,
          0,
          0,
          0,
          0,
          0,
          0,
          0,
          0,
          0,
          332,
          0,
          0,
          0,
          0,
          0,
          0,
          0,
          0,
          0,
          0,
          0,
          0,
          0,
          0,
          0,
          0,
          0,
          0,
          206,
          0,
          0,
          0,
          0,
          0,
          0,
          0,
          0,
          0,
          0,
          0,
          0,
          0,
          0,
          0,
          0,
          0,
          0,
          0,
          0,
          0,
          304,
          0,
          0,
          0,
          0,
          227,
          0,
          0,
          0,
          0,
          0,
          0,
          0,
          0,
          0,
          0,
          0,
          0,
          0,
          0,
          0,
          0,
          0,
          0,
          0,
          0
         ],
         "yaxis": "y"
        },
        {
         "hovertemplate": "variable=new_electoral_vote<br>year=%{x}<br>value=%{y}<extra></extra>",
         "legendgroup": "new_electoral_vote",
         "marker": {
          "color": "#EF553B",
          "symbol": "circle"
         },
         "mode": "markers",
         "name": "new_electoral_vote",
         "orientation": "v",
         "showlegend": true,
         "type": "scatter",
         "x": [
          1976,
          1976,
          1976,
          1976,
          1976,
          1976,
          1976,
          1976,
          1976,
          1976,
          1976,
          1976,
          1976,
          1976,
          1976,
          1980,
          1980,
          1980,
          1980,
          1980,
          1980,
          1980,
          1980,
          1980,
          1980,
          1980,
          1980,
          1980,
          1980,
          1980,
          1980,
          1980,
          1980,
          1980,
          1980,
          1980,
          1984,
          1984,
          1984,
          1984,
          1984,
          1984,
          1984,
          1984,
          1984,
          1984,
          1984,
          1984,
          1984,
          1984,
          1984,
          1984,
          1984,
          1988,
          1988,
          1988,
          1988,
          1988,
          1988,
          1988,
          1988,
          1988,
          1988,
          1988,
          1988,
          1988,
          1988,
          1988,
          1988,
          1988,
          1988,
          1992,
          1992,
          1992,
          1992,
          1992,
          1992,
          1992,
          1992,
          1992,
          1992,
          1992,
          1992,
          1992,
          1992,
          1992,
          1992,
          1992,
          1992,
          1992,
          1992,
          1992,
          1992,
          1992,
          1992,
          1992,
          1996,
          1996,
          1996,
          1996,
          1996,
          1996,
          1996,
          1996,
          1996,
          1996,
          1996,
          1996,
          1996,
          1996,
          1996,
          1996,
          1996,
          1996,
          1996,
          1996,
          1996,
          1996,
          1996,
          1996,
          2000,
          2000,
          2000,
          2000,
          2000,
          2000,
          2000,
          2000,
          2000,
          2000,
          2000,
          2000,
          2000,
          2000,
          2000,
          2000,
          2000,
          2000,
          2000,
          2000,
          2004,
          2004,
          2004,
          2004,
          2004,
          2004,
          2004,
          2004,
          2004,
          2004,
          2004,
          2004,
          2004,
          2004,
          2004,
          2004,
          2004,
          2004,
          2004,
          2004,
          2004,
          2004,
          2004,
          2008,
          2008,
          2008,
          2008,
          2008,
          2008,
          2008,
          2008,
          2008,
          2008,
          2008,
          2008,
          2008,
          2008,
          2008,
          2008,
          2008,
          2008,
          2008,
          2008,
          2008,
          2008,
          2008,
          2008,
          2008,
          2008,
          2008,
          2012,
          2012,
          2012,
          2012,
          2012,
          2012,
          2012,
          2012,
          2012,
          2012,
          2012,
          2012,
          2012,
          2012,
          2012,
          2012,
          2012,
          2012,
          2012,
          2012,
          2012,
          2012,
          2012,
          2012,
          2012,
          2012,
          2012,
          2012,
          2012,
          2012,
          2012,
          2012,
          2012,
          2012,
          2012,
          2012,
          2016,
          2016,
          2016,
          2016,
          2016,
          2016,
          2016,
          2016,
          2016,
          2016,
          2016,
          2016,
          2016,
          2016,
          2016,
          2016,
          2016,
          2016,
          2016,
          2016,
          2016,
          2016,
          2016,
          2016,
          2016,
          2016,
          2016,
          2016,
          2016,
          2016,
          2016,
          2016
         ],
         "xaxis": "x",
         "y": [
          0,
          0,
          0,
          256,
          0,
          266,
          0,
          0,
          0,
          0,
          1,
          0,
          0,
          0,
          0,
          0,
          0,
          0,
          0,
          0,
          0,
          1,
          0,
          0,
          0,
          221,
          31,
          0,
          0,
          0,
          0,
          0,
          0,
          0,
          266,
          0,
          0,
          0,
          0,
          0,
          0,
          0,
          0,
          0,
          0,
          0,
          0,
          0,
          0,
          0,
          315,
          0,
          214,
          0,
          0,
          0,
          0,
          0,
          287,
          0,
          0,
          0,
          0,
          0,
          0,
          0,
          244,
          0,
          0,
          0,
          0,
          0,
          229,
          1,
          0,
          0,
          200,
          0,
          0,
          0,
          0,
          0,
          0,
          0,
          0,
          0,
          0,
          0,
          0,
          0,
          0,
          0,
          0,
          0,
          103,
          0,
          262,
          1,
          0,
          0,
          0,
          0,
          0,
          0,
          0,
          0,
          0,
          0,
          0,
          0,
          0,
          0,
          0,
          0,
          0,
          0,
          1,
          221,
          42,
          0,
          257,
          0,
          1,
          0,
          0,
          258,
          0,
          0,
          0,
          0,
          0,
          0,
          0,
          1,
          0,
          0,
          0,
          6,
          0,
          0,
          0,
          0,
          0,
          0,
          0,
          0,
          275,
          0,
          256,
          0,
          0,
          0,
          0,
          0,
          0,
          0,
          0,
          0,
          0,
          0,
          0,
          0,
          0,
          0,
          281,
          0,
          0,
          0,
          0,
          0,
          0,
          0,
          0,
          0,
          0,
          0,
          0,
          0,
          0,
          242,
          0,
          0,
          0,
          0,
          0,
          0,
          0,
          0,
          0,
          0,
          0,
          271,
          0,
          0,
          0,
          0,
          0,
          0,
          1,
          0,
          0,
          0,
          0,
          0,
          0,
          0,
          0,
          0,
          0,
          0,
          253,
          0,
          0,
          0,
          0,
          0,
          0,
          5,
          0,
          0,
          0,
          0,
          0,
          0,
          0,
          0,
          0,
          0,
          0,
          0,
          0,
          0,
          250,
          1,
          0,
          8,
          0,
          257,
          0,
          1,
          0,
          0,
          0,
          0,
          0,
          0,
          0,
          0,
          0,
          0,
          0,
          0,
          0,
          0,
          0,
          0,
          0,
          0
         ],
         "yaxis": "y"
        },
        {
         "mode": "lines",
         "type": "scatter",
         "x": [
          1974,
          1978,
          1982,
          1986,
          1990,
          1994,
          1998,
          2002,
          2006,
          2010,
          2014,
          2018
         ],
         "y": [
          270,
          270,
          270,
          270,
          270,
          270,
          270,
          270,
          270,
          270,
          270,
          270
         ]
        }
       ],
       "layout": {
        "legend": {
         "title": {
          "text": "variable"
         },
         "tracegroupgap": 0
        },
        "margin": {
         "t": 60
        },
        "template": {
         "data": {
          "bar": [
           {
            "error_x": {
             "color": "#2a3f5f"
            },
            "error_y": {
             "color": "#2a3f5f"
            },
            "marker": {
             "line": {
              "color": "#E5ECF6",
              "width": 0.5
             }
            },
            "type": "bar"
           }
          ],
          "barpolar": [
           {
            "marker": {
             "line": {
              "color": "#E5ECF6",
              "width": 0.5
             }
            },
            "type": "barpolar"
           }
          ],
          "carpet": [
           {
            "aaxis": {
             "endlinecolor": "#2a3f5f",
             "gridcolor": "white",
             "linecolor": "white",
             "minorgridcolor": "white",
             "startlinecolor": "#2a3f5f"
            },
            "baxis": {
             "endlinecolor": "#2a3f5f",
             "gridcolor": "white",
             "linecolor": "white",
             "minorgridcolor": "white",
             "startlinecolor": "#2a3f5f"
            },
            "type": "carpet"
           }
          ],
          "choropleth": [
           {
            "colorbar": {
             "outlinewidth": 0,
             "ticks": ""
            },
            "type": "choropleth"
           }
          ],
          "contour": [
           {
            "colorbar": {
             "outlinewidth": 0,
             "ticks": ""
            },
            "colorscale": [
             [
              0,
              "#0d0887"
             ],
             [
              0.1111111111111111,
              "#46039f"
             ],
             [
              0.2222222222222222,
              "#7201a8"
             ],
             [
              0.3333333333333333,
              "#9c179e"
             ],
             [
              0.4444444444444444,
              "#bd3786"
             ],
             [
              0.5555555555555556,
              "#d8576b"
             ],
             [
              0.6666666666666666,
              "#ed7953"
             ],
             [
              0.7777777777777778,
              "#fb9f3a"
             ],
             [
              0.8888888888888888,
              "#fdca26"
             ],
             [
              1,
              "#f0f921"
             ]
            ],
            "type": "contour"
           }
          ],
          "contourcarpet": [
           {
            "colorbar": {
             "outlinewidth": 0,
             "ticks": ""
            },
            "type": "contourcarpet"
           }
          ],
          "heatmap": [
           {
            "colorbar": {
             "outlinewidth": 0,
             "ticks": ""
            },
            "colorscale": [
             [
              0,
              "#0d0887"
             ],
             [
              0.1111111111111111,
              "#46039f"
             ],
             [
              0.2222222222222222,
              "#7201a8"
             ],
             [
              0.3333333333333333,
              "#9c179e"
             ],
             [
              0.4444444444444444,
              "#bd3786"
             ],
             [
              0.5555555555555556,
              "#d8576b"
             ],
             [
              0.6666666666666666,
              "#ed7953"
             ],
             [
              0.7777777777777778,
              "#fb9f3a"
             ],
             [
              0.8888888888888888,
              "#fdca26"
             ],
             [
              1,
              "#f0f921"
             ]
            ],
            "type": "heatmap"
           }
          ],
          "heatmapgl": [
           {
            "colorbar": {
             "outlinewidth": 0,
             "ticks": ""
            },
            "colorscale": [
             [
              0,
              "#0d0887"
             ],
             [
              0.1111111111111111,
              "#46039f"
             ],
             [
              0.2222222222222222,
              "#7201a8"
             ],
             [
              0.3333333333333333,
              "#9c179e"
             ],
             [
              0.4444444444444444,
              "#bd3786"
             ],
             [
              0.5555555555555556,
              "#d8576b"
             ],
             [
              0.6666666666666666,
              "#ed7953"
             ],
             [
              0.7777777777777778,
              "#fb9f3a"
             ],
             [
              0.8888888888888888,
              "#fdca26"
             ],
             [
              1,
              "#f0f921"
             ]
            ],
            "type": "heatmapgl"
           }
          ],
          "histogram": [
           {
            "marker": {
             "colorbar": {
              "outlinewidth": 0,
              "ticks": ""
             }
            },
            "type": "histogram"
           }
          ],
          "histogram2d": [
           {
            "colorbar": {
             "outlinewidth": 0,
             "ticks": ""
            },
            "colorscale": [
             [
              0,
              "#0d0887"
             ],
             [
              0.1111111111111111,
              "#46039f"
             ],
             [
              0.2222222222222222,
              "#7201a8"
             ],
             [
              0.3333333333333333,
              "#9c179e"
             ],
             [
              0.4444444444444444,
              "#bd3786"
             ],
             [
              0.5555555555555556,
              "#d8576b"
             ],
             [
              0.6666666666666666,
              "#ed7953"
             ],
             [
              0.7777777777777778,
              "#fb9f3a"
             ],
             [
              0.8888888888888888,
              "#fdca26"
             ],
             [
              1,
              "#f0f921"
             ]
            ],
            "type": "histogram2d"
           }
          ],
          "histogram2dcontour": [
           {
            "colorbar": {
             "outlinewidth": 0,
             "ticks": ""
            },
            "colorscale": [
             [
              0,
              "#0d0887"
             ],
             [
              0.1111111111111111,
              "#46039f"
             ],
             [
              0.2222222222222222,
              "#7201a8"
             ],
             [
              0.3333333333333333,
              "#9c179e"
             ],
             [
              0.4444444444444444,
              "#bd3786"
             ],
             [
              0.5555555555555556,
              "#d8576b"
             ],
             [
              0.6666666666666666,
              "#ed7953"
             ],
             [
              0.7777777777777778,
              "#fb9f3a"
             ],
             [
              0.8888888888888888,
              "#fdca26"
             ],
             [
              1,
              "#f0f921"
             ]
            ],
            "type": "histogram2dcontour"
           }
          ],
          "mesh3d": [
           {
            "colorbar": {
             "outlinewidth": 0,
             "ticks": ""
            },
            "type": "mesh3d"
           }
          ],
          "parcoords": [
           {
            "line": {
             "colorbar": {
              "outlinewidth": 0,
              "ticks": ""
             }
            },
            "type": "parcoords"
           }
          ],
          "pie": [
           {
            "automargin": true,
            "type": "pie"
           }
          ],
          "scatter": [
           {
            "marker": {
             "colorbar": {
              "outlinewidth": 0,
              "ticks": ""
             }
            },
            "type": "scatter"
           }
          ],
          "scatter3d": [
           {
            "line": {
             "colorbar": {
              "outlinewidth": 0,
              "ticks": ""
             }
            },
            "marker": {
             "colorbar": {
              "outlinewidth": 0,
              "ticks": ""
             }
            },
            "type": "scatter3d"
           }
          ],
          "scattercarpet": [
           {
            "marker": {
             "colorbar": {
              "outlinewidth": 0,
              "ticks": ""
             }
            },
            "type": "scattercarpet"
           }
          ],
          "scattergeo": [
           {
            "marker": {
             "colorbar": {
              "outlinewidth": 0,
              "ticks": ""
             }
            },
            "type": "scattergeo"
           }
          ],
          "scattergl": [
           {
            "marker": {
             "colorbar": {
              "outlinewidth": 0,
              "ticks": ""
             }
            },
            "type": "scattergl"
           }
          ],
          "scattermapbox": [
           {
            "marker": {
             "colorbar": {
              "outlinewidth": 0,
              "ticks": ""
             }
            },
            "type": "scattermapbox"
           }
          ],
          "scatterpolar": [
           {
            "marker": {
             "colorbar": {
              "outlinewidth": 0,
              "ticks": ""
             }
            },
            "type": "scatterpolar"
           }
          ],
          "scatterpolargl": [
           {
            "marker": {
             "colorbar": {
              "outlinewidth": 0,
              "ticks": ""
             }
            },
            "type": "scatterpolargl"
           }
          ],
          "scatterternary": [
           {
            "marker": {
             "colorbar": {
              "outlinewidth": 0,
              "ticks": ""
             }
            },
            "type": "scatterternary"
           }
          ],
          "surface": [
           {
            "colorbar": {
             "outlinewidth": 0,
             "ticks": ""
            },
            "colorscale": [
             [
              0,
              "#0d0887"
             ],
             [
              0.1111111111111111,
              "#46039f"
             ],
             [
              0.2222222222222222,
              "#7201a8"
             ],
             [
              0.3333333333333333,
              "#9c179e"
             ],
             [
              0.4444444444444444,
              "#bd3786"
             ],
             [
              0.5555555555555556,
              "#d8576b"
             ],
             [
              0.6666666666666666,
              "#ed7953"
             ],
             [
              0.7777777777777778,
              "#fb9f3a"
             ],
             [
              0.8888888888888888,
              "#fdca26"
             ],
             [
              1,
              "#f0f921"
             ]
            ],
            "type": "surface"
           }
          ],
          "table": [
           {
            "cells": {
             "fill": {
              "color": "#EBF0F8"
             },
             "line": {
              "color": "white"
             }
            },
            "header": {
             "fill": {
              "color": "#C8D4E3"
             },
             "line": {
              "color": "white"
             }
            },
            "type": "table"
           }
          ]
         },
         "layout": {
          "annotationdefaults": {
           "arrowcolor": "#2a3f5f",
           "arrowhead": 0,
           "arrowwidth": 1
          },
          "coloraxis": {
           "colorbar": {
            "outlinewidth": 0,
            "ticks": ""
           }
          },
          "colorscale": {
           "diverging": [
            [
             0,
             "#8e0152"
            ],
            [
             0.1,
             "#c51b7d"
            ],
            [
             0.2,
             "#de77ae"
            ],
            [
             0.3,
             "#f1b6da"
            ],
            [
             0.4,
             "#fde0ef"
            ],
            [
             0.5,
             "#f7f7f7"
            ],
            [
             0.6,
             "#e6f5d0"
            ],
            [
             0.7,
             "#b8e186"
            ],
            [
             0.8,
             "#7fbc41"
            ],
            [
             0.9,
             "#4d9221"
            ],
            [
             1,
             "#276419"
            ]
           ],
           "sequential": [
            [
             0,
             "#0d0887"
            ],
            [
             0.1111111111111111,
             "#46039f"
            ],
            [
             0.2222222222222222,
             "#7201a8"
            ],
            [
             0.3333333333333333,
             "#9c179e"
            ],
            [
             0.4444444444444444,
             "#bd3786"
            ],
            [
             0.5555555555555556,
             "#d8576b"
            ],
            [
             0.6666666666666666,
             "#ed7953"
            ],
            [
             0.7777777777777778,
             "#fb9f3a"
            ],
            [
             0.8888888888888888,
             "#fdca26"
            ],
            [
             1,
             "#f0f921"
            ]
           ],
           "sequentialminus": [
            [
             0,
             "#0d0887"
            ],
            [
             0.1111111111111111,
             "#46039f"
            ],
            [
             0.2222222222222222,
             "#7201a8"
            ],
            [
             0.3333333333333333,
             "#9c179e"
            ],
            [
             0.4444444444444444,
             "#bd3786"
            ],
            [
             0.5555555555555556,
             "#d8576b"
            ],
            [
             0.6666666666666666,
             "#ed7953"
            ],
            [
             0.7777777777777778,
             "#fb9f3a"
            ],
            [
             0.8888888888888888,
             "#fdca26"
            ],
            [
             1,
             "#f0f921"
            ]
           ]
          },
          "colorway": [
           "#636efa",
           "#EF553B",
           "#00cc96",
           "#ab63fa",
           "#FFA15A",
           "#19d3f3",
           "#FF6692",
           "#B6E880",
           "#FF97FF",
           "#FECB52"
          ],
          "font": {
           "color": "#2a3f5f"
          },
          "geo": {
           "bgcolor": "white",
           "lakecolor": "white",
           "landcolor": "#E5ECF6",
           "showlakes": true,
           "showland": true,
           "subunitcolor": "white"
          },
          "hoverlabel": {
           "align": "left"
          },
          "hovermode": "closest",
          "mapbox": {
           "style": "light"
          },
          "paper_bgcolor": "white",
          "plot_bgcolor": "#E5ECF6",
          "polar": {
           "angularaxis": {
            "gridcolor": "white",
            "linecolor": "white",
            "ticks": ""
           },
           "bgcolor": "#E5ECF6",
           "radialaxis": {
            "gridcolor": "white",
            "linecolor": "white",
            "ticks": ""
           }
          },
          "scene": {
           "xaxis": {
            "backgroundcolor": "#E5ECF6",
            "gridcolor": "white",
            "gridwidth": 2,
            "linecolor": "white",
            "showbackground": true,
            "ticks": "",
            "zerolinecolor": "white"
           },
           "yaxis": {
            "backgroundcolor": "#E5ECF6",
            "gridcolor": "white",
            "gridwidth": 2,
            "linecolor": "white",
            "showbackground": true,
            "ticks": "",
            "zerolinecolor": "white"
           },
           "zaxis": {
            "backgroundcolor": "#E5ECF6",
            "gridcolor": "white",
            "gridwidth": 2,
            "linecolor": "white",
            "showbackground": true,
            "ticks": "",
            "zerolinecolor": "white"
           }
          },
          "shapedefaults": {
           "line": {
            "color": "#2a3f5f"
           }
          },
          "ternary": {
           "aaxis": {
            "gridcolor": "white",
            "linecolor": "white",
            "ticks": ""
           },
           "baxis": {
            "gridcolor": "white",
            "linecolor": "white",
            "ticks": ""
           },
           "bgcolor": "#E5ECF6",
           "caxis": {
            "gridcolor": "white",
            "linecolor": "white",
            "ticks": ""
           }
          },
          "title": {
           "x": 0.05
          },
          "xaxis": {
           "automargin": true,
           "gridcolor": "white",
           "linecolor": "white",
           "ticks": "",
           "title": {
            "standoff": 15
           },
           "zerolinecolor": "white",
           "zerolinewidth": 2
          },
          "yaxis": {
           "automargin": true,
           "gridcolor": "white",
           "linecolor": "white",
           "ticks": "",
           "title": {
            "standoff": 15
           },
           "zerolinecolor": "white",
           "zerolinewidth": 2
          }
         }
        },
        "xaxis": {
         "anchor": "y",
         "domain": [
          0,
          1
         ],
         "title": {
          "text": "year"
         }
        },
        "yaxis": {
         "anchor": "x",
         "domain": [
          0,
          1
         ],
         "title": {
          "text": "value"
         }
        }
       }
      },
      "text/html": [
       "<div>                            <div id=\"f86823ba-671d-4dc2-9c51-aa360336ed71\" class=\"plotly-graph-div\" style=\"height:525px; width:100%;\"></div>            <script type=\"text/javascript\">                require([\"plotly\"], function(Plotly) {                    window.PLOTLYENV=window.PLOTLYENV || {};                                    if (document.getElementById(\"f86823ba-671d-4dc2-9c51-aa360336ed71\")) {                    Plotly.newPlot(                        \"f86823ba-671d-4dc2-9c51-aa360336ed71\",                        [{\"hovertemplate\": \"variable=electoral_votes<br>year=%{x}<br>value=%{y}<extra></extra>\", \"legendgroup\": \"electoral_votes\", \"marker\": {\"color\": \"#636efa\", \"symbol\": \"circle\"}, \"mode\": \"markers\", \"name\": \"electoral_votes\", \"orientation\": \"v\", \"showlegend\": true, \"type\": \"scatter\", \"x\": [1976, 1976, 1976, 1976, 1976, 1976, 1976, 1976, 1976, 1976, 1976, 1976, 1976, 1976, 1976, 1980, 1980, 1980, 1980, 1980, 1980, 1980, 1980, 1980, 1980, 1980, 1980, 1980, 1980, 1980, 1980, 1980, 1980, 1980, 1980, 1980, 1984, 1984, 1984, 1984, 1984, 1984, 1984, 1984, 1984, 1984, 1984, 1984, 1984, 1984, 1984, 1984, 1984, 1988, 1988, 1988, 1988, 1988, 1988, 1988, 1988, 1988, 1988, 1988, 1988, 1988, 1988, 1988, 1988, 1988, 1988, 1992, 1992, 1992, 1992, 1992, 1992, 1992, 1992, 1992, 1992, 1992, 1992, 1992, 1992, 1992, 1992, 1992, 1992, 1992, 1992, 1992, 1992, 1992, 1992, 1992, 1996, 1996, 1996, 1996, 1996, 1996, 1996, 1996, 1996, 1996, 1996, 1996, 1996, 1996, 1996, 1996, 1996, 1996, 1996, 1996, 1996, 1996, 1996, 1996, 2000, 2000, 2000, 2000, 2000, 2000, 2000, 2000, 2000, 2000, 2000, 2000, 2000, 2000, 2000, 2000, 2000, 2000, 2000, 2000, 2004, 2004, 2004, 2004, 2004, 2004, 2004, 2004, 2004, 2004, 2004, 2004, 2004, 2004, 2004, 2004, 2004, 2004, 2004, 2004, 2004, 2004, 2004, 2008, 2008, 2008, 2008, 2008, 2008, 2008, 2008, 2008, 2008, 2008, 2008, 2008, 2008, 2008, 2008, 2008, 2008, 2008, 2008, 2008, 2008, 2008, 2008, 2008, 2008, 2008, 2012, 2012, 2012, 2012, 2012, 2012, 2012, 2012, 2012, 2012, 2012, 2012, 2012, 2012, 2012, 2012, 2012, 2012, 2012, 2012, 2012, 2012, 2012, 2012, 2012, 2012, 2012, 2012, 2012, 2012, 2012, 2012, 2012, 2012, 2012, 2012, 2016, 2016, 2016, 2016, 2016, 2016, 2016, 2016, 2016, 2016, 2016, 2016, 2016, 2016, 2016, 2016, 2016, 2016, 2016, 2016, 2016, 2016, 2016, 2016, 2016, 2016, 2016, 2016, 2016, 2016, 2016, 2016], \"xaxis\": \"x\", \"y\": [0.0, 0.0, 0.0, 240.0, 0.0, 297.0, 0.0, 0.0, 0.0, 0.0, 0.0, 0.0, 0.0, 0.0, 0.0, 0.0, 0.0, 0.0, 0.0, 0.0, 0.0, 0.0, 0.0, 0.0, 0.0, 49.0, 0.0, 0.0, 0.0, 0.0, 0.0, 0.0, 0.0, 0.0, 489.0, 0.0, 0.0, 0.0, 0.0, 0.0, 0.0, 0.0, 0.0, 0.0, 0.0, 0.0, 0.0, 0.0, 0.0, 0.0, 525.0, 0.0, 13.0, 0.0, 0.0, 0.0, 0.0, 0.0, 426.0, 0.0, 0.0, 0.0, 0.0, 0.0, 0.0, 0.0, 111.0, 0.0, 0.0, 0.0, 0.0, 0.0, 370.0, 0.0, 0.0, 0.0, 168.0, 0.0, 0.0, 0.0, 0.0, 0.0, 0.0, 0.0, 0.0, 0.0, 0.0, 0.0, 0.0, 0.0, 0.0, 0.0, 0.0, 0.0, 0.0, 0.0, 379.0, 0.0, 0.0, 0.0, 0.0, 0.0, 0.0, 0.0, 0.0, 0.0, 0.0, 0.0, 0.0, 0.0, 0.0, 0.0, 0.0, 0.0, 0.0, 0.0, 0.0, 159.0, 0.0, 0.0, 266.0, 0.0, 0.0, 0.0, 0.0, 271.0, 0.0, 0.0, 0.0, 0.0, 0.0, 0.0, 0.0, 0.0, 0.0, 0.0, 0.0, 0.0, 0.0, 0.0, 0.0, 0.0, 0.0, 0.0, 0.0, 0.0, 286.0, 0.0, 251.0, 0.0, 0.0, 0.0, 0.0, 0.0, 0.0, 0.0, 0.0, 0.0, 0.0, 0.0, 0.0, 0.0, 0.0, 0.0, 365.0, 0.0, 0.0, 0.0, 0.0, 0.0, 0.0, 0.0, 0.0, 0.0, 0.0, 0.0, 0.0, 0.0, 0.0, 173.0, 0.0, 0.0, 0.0, 0.0, 0.0, 0.0, 0.0, 0.0, 0.0, 0.0, 0.0, 332.0, 0.0, 0.0, 0.0, 0.0, 0.0, 0.0, 0.0, 0.0, 0.0, 0.0, 0.0, 0.0, 0.0, 0.0, 0.0, 0.0, 0.0, 0.0, 206.0, 0.0, 0.0, 0.0, 0.0, 0.0, 0.0, 0.0, 0.0, 0.0, 0.0, 0.0, 0.0, 0.0, 0.0, 0.0, 0.0, 0.0, 0.0, 0.0, 0.0, 0.0, 304.0, 0.0, 0.0, 0.0, 0.0, 227.0, 0.0, 0.0, 0.0, 0.0, 0.0, 0.0, 0.0, 0.0, 0.0, 0.0, 0.0, 0.0, 0.0, 0.0, 0.0, 0.0, 0.0, 0.0, 0.0, 0.0], \"yaxis\": \"y\"}, {\"hovertemplate\": \"variable=new_electoral_vote<br>year=%{x}<br>value=%{y}<extra></extra>\", \"legendgroup\": \"new_electoral_vote\", \"marker\": {\"color\": \"#EF553B\", \"symbol\": \"circle\"}, \"mode\": \"markers\", \"name\": \"new_electoral_vote\", \"orientation\": \"v\", \"showlegend\": true, \"type\": \"scatter\", \"x\": [1976, 1976, 1976, 1976, 1976, 1976, 1976, 1976, 1976, 1976, 1976, 1976, 1976, 1976, 1976, 1980, 1980, 1980, 1980, 1980, 1980, 1980, 1980, 1980, 1980, 1980, 1980, 1980, 1980, 1980, 1980, 1980, 1980, 1980, 1980, 1980, 1984, 1984, 1984, 1984, 1984, 1984, 1984, 1984, 1984, 1984, 1984, 1984, 1984, 1984, 1984, 1984, 1984, 1988, 1988, 1988, 1988, 1988, 1988, 1988, 1988, 1988, 1988, 1988, 1988, 1988, 1988, 1988, 1988, 1988, 1988, 1992, 1992, 1992, 1992, 1992, 1992, 1992, 1992, 1992, 1992, 1992, 1992, 1992, 1992, 1992, 1992, 1992, 1992, 1992, 1992, 1992, 1992, 1992, 1992, 1992, 1996, 1996, 1996, 1996, 1996, 1996, 1996, 1996, 1996, 1996, 1996, 1996, 1996, 1996, 1996, 1996, 1996, 1996, 1996, 1996, 1996, 1996, 1996, 1996, 2000, 2000, 2000, 2000, 2000, 2000, 2000, 2000, 2000, 2000, 2000, 2000, 2000, 2000, 2000, 2000, 2000, 2000, 2000, 2000, 2004, 2004, 2004, 2004, 2004, 2004, 2004, 2004, 2004, 2004, 2004, 2004, 2004, 2004, 2004, 2004, 2004, 2004, 2004, 2004, 2004, 2004, 2004, 2008, 2008, 2008, 2008, 2008, 2008, 2008, 2008, 2008, 2008, 2008, 2008, 2008, 2008, 2008, 2008, 2008, 2008, 2008, 2008, 2008, 2008, 2008, 2008, 2008, 2008, 2008, 2012, 2012, 2012, 2012, 2012, 2012, 2012, 2012, 2012, 2012, 2012, 2012, 2012, 2012, 2012, 2012, 2012, 2012, 2012, 2012, 2012, 2012, 2012, 2012, 2012, 2012, 2012, 2012, 2012, 2012, 2012, 2012, 2012, 2012, 2012, 2012, 2016, 2016, 2016, 2016, 2016, 2016, 2016, 2016, 2016, 2016, 2016, 2016, 2016, 2016, 2016, 2016, 2016, 2016, 2016, 2016, 2016, 2016, 2016, 2016, 2016, 2016, 2016, 2016, 2016, 2016, 2016, 2016], \"xaxis\": \"x\", \"y\": [0.0, 0.0, 0.0, 256.0, 0.0, 266.0, 0.0, 0.0, 0.0, 0.0, 1.0, 0.0, 0.0, 0.0, 0.0, 0.0, 0.0, 0.0, 0.0, 0.0, 0.0, 1.0, 0.0, 0.0, 0.0, 221.0, 31.0, 0.0, 0.0, 0.0, 0.0, 0.0, 0.0, 0.0, 266.0, 0.0, 0.0, 0.0, 0.0, 0.0, 0.0, 0.0, 0.0, 0.0, 0.0, 0.0, 0.0, 0.0, 0.0, 0.0, 315.0, 0.0, 214.0, 0.0, 0.0, 0.0, 0.0, 0.0, 287.0, 0.0, 0.0, 0.0, 0.0, 0.0, 0.0, 0.0, 244.0, 0.0, 0.0, 0.0, 0.0, 0.0, 229.0, 1.0, 0.0, 0.0, 200.0, 0.0, 0.0, 0.0, 0.0, 0.0, 0.0, 0.0, 0.0, 0.0, 0.0, 0.0, 0.0, 0.0, 0.0, 0.0, 0.0, 0.0, 103.0, 0.0, 262.0, 1.0, 0.0, 0.0, 0.0, 0.0, 0.0, 0.0, 0.0, 0.0, 0.0, 0.0, 0.0, 0.0, 0.0, 0.0, 0.0, 0.0, 0.0, 0.0, 1.0, 221.0, 42.0, 0.0, 257.0, 0.0, 1.0, 0.0, 0.0, 258.0, 0.0, 0.0, 0.0, 0.0, 0.0, 0.0, 0.0, 1.0, 0.0, 0.0, 0.0, 6.0, 0.0, 0.0, 0.0, 0.0, 0.0, 0.0, 0.0, 0.0, 275.0, 0.0, 256.0, 0.0, 0.0, 0.0, 0.0, 0.0, 0.0, 0.0, 0.0, 0.0, 0.0, 0.0, 0.0, 0.0, 0.0, 0.0, 281.0, 0.0, 0.0, 0.0, 0.0, 0.0, 0.0, 0.0, 0.0, 0.0, 0.0, 0.0, 0.0, 0.0, 0.0, 242.0, 0.0, 0.0, 0.0, 0.0, 0.0, 0.0, 0.0, 0.0, 0.0, 0.0, 0.0, 271.0, 0.0, 0.0, 0.0, 0.0, 0.0, 0.0, 1.0, 0.0, 0.0, 0.0, 0.0, 0.0, 0.0, 0.0, 0.0, 0.0, 0.0, 0.0, 253.0, 0.0, 0.0, 0.0, 0.0, 0.0, 0.0, 5.0, 0.0, 0.0, 0.0, 0.0, 0.0, 0.0, 0.0, 0.0, 0.0, 0.0, 0.0, 0.0, 0.0, 0.0, 250.0, 1.0, 0.0, 8.0, 0.0, 257.0, 0.0, 1.0, 0.0, 0.0, 0.0, 0.0, 0.0, 0.0, 0.0, 0.0, 0.0, 0.0, 0.0, 0.0, 0.0, 0.0, 0.0, 0.0, 0.0, 0.0], \"yaxis\": \"y\"}, {\"mode\": \"lines\", \"type\": \"scatter\", \"x\": [1974, 1978, 1982, 1986, 1990, 1994, 1998, 2002, 2006, 2010, 2014, 2018], \"y\": [270, 270, 270, 270, 270, 270, 270, 270, 270, 270, 270, 270]}],                        {\"legend\": {\"title\": {\"text\": \"variable\"}, \"tracegroupgap\": 0}, \"margin\": {\"t\": 60}, \"template\": {\"data\": {\"bar\": [{\"error_x\": {\"color\": \"#2a3f5f\"}, \"error_y\": {\"color\": \"#2a3f5f\"}, \"marker\": {\"line\": {\"color\": \"#E5ECF6\", \"width\": 0.5}}, \"type\": \"bar\"}], \"barpolar\": [{\"marker\": {\"line\": {\"color\": \"#E5ECF6\", \"width\": 0.5}}, \"type\": \"barpolar\"}], \"carpet\": [{\"aaxis\": {\"endlinecolor\": \"#2a3f5f\", \"gridcolor\": \"white\", \"linecolor\": \"white\", \"minorgridcolor\": \"white\", \"startlinecolor\": \"#2a3f5f\"}, \"baxis\": {\"endlinecolor\": \"#2a3f5f\", \"gridcolor\": \"white\", \"linecolor\": \"white\", \"minorgridcolor\": \"white\", \"startlinecolor\": \"#2a3f5f\"}, \"type\": \"carpet\"}], \"choropleth\": [{\"colorbar\": {\"outlinewidth\": 0, \"ticks\": \"\"}, \"type\": \"choropleth\"}], \"contour\": [{\"colorbar\": {\"outlinewidth\": 0, \"ticks\": \"\"}, \"colorscale\": [[0.0, \"#0d0887\"], [0.1111111111111111, \"#46039f\"], [0.2222222222222222, \"#7201a8\"], [0.3333333333333333, \"#9c179e\"], [0.4444444444444444, \"#bd3786\"], [0.5555555555555556, \"#d8576b\"], [0.6666666666666666, \"#ed7953\"], [0.7777777777777778, \"#fb9f3a\"], [0.8888888888888888, \"#fdca26\"], [1.0, \"#f0f921\"]], \"type\": \"contour\"}], \"contourcarpet\": [{\"colorbar\": {\"outlinewidth\": 0, \"ticks\": \"\"}, \"type\": \"contourcarpet\"}], \"heatmap\": [{\"colorbar\": {\"outlinewidth\": 0, \"ticks\": \"\"}, \"colorscale\": [[0.0, \"#0d0887\"], [0.1111111111111111, \"#46039f\"], [0.2222222222222222, \"#7201a8\"], [0.3333333333333333, \"#9c179e\"], [0.4444444444444444, \"#bd3786\"], [0.5555555555555556, \"#d8576b\"], [0.6666666666666666, \"#ed7953\"], [0.7777777777777778, \"#fb9f3a\"], [0.8888888888888888, \"#fdca26\"], [1.0, \"#f0f921\"]], \"type\": \"heatmap\"}], \"heatmapgl\": [{\"colorbar\": {\"outlinewidth\": 0, \"ticks\": \"\"}, \"colorscale\": [[0.0, \"#0d0887\"], [0.1111111111111111, \"#46039f\"], [0.2222222222222222, \"#7201a8\"], [0.3333333333333333, \"#9c179e\"], [0.4444444444444444, \"#bd3786\"], [0.5555555555555556, \"#d8576b\"], [0.6666666666666666, \"#ed7953\"], [0.7777777777777778, \"#fb9f3a\"], [0.8888888888888888, \"#fdca26\"], [1.0, \"#f0f921\"]], \"type\": \"heatmapgl\"}], \"histogram\": [{\"marker\": {\"colorbar\": {\"outlinewidth\": 0, \"ticks\": \"\"}}, \"type\": \"histogram\"}], \"histogram2d\": [{\"colorbar\": {\"outlinewidth\": 0, \"ticks\": \"\"}, \"colorscale\": [[0.0, \"#0d0887\"], [0.1111111111111111, \"#46039f\"], [0.2222222222222222, \"#7201a8\"], [0.3333333333333333, \"#9c179e\"], [0.4444444444444444, \"#bd3786\"], [0.5555555555555556, \"#d8576b\"], [0.6666666666666666, \"#ed7953\"], [0.7777777777777778, \"#fb9f3a\"], [0.8888888888888888, \"#fdca26\"], [1.0, \"#f0f921\"]], \"type\": \"histogram2d\"}], \"histogram2dcontour\": [{\"colorbar\": {\"outlinewidth\": 0, \"ticks\": \"\"}, \"colorscale\": [[0.0, \"#0d0887\"], [0.1111111111111111, \"#46039f\"], [0.2222222222222222, \"#7201a8\"], [0.3333333333333333, \"#9c179e\"], [0.4444444444444444, \"#bd3786\"], [0.5555555555555556, \"#d8576b\"], [0.6666666666666666, \"#ed7953\"], [0.7777777777777778, \"#fb9f3a\"], [0.8888888888888888, \"#fdca26\"], [1.0, \"#f0f921\"]], \"type\": \"histogram2dcontour\"}], \"mesh3d\": [{\"colorbar\": {\"outlinewidth\": 0, \"ticks\": \"\"}, \"type\": \"mesh3d\"}], \"parcoords\": [{\"line\": {\"colorbar\": {\"outlinewidth\": 0, \"ticks\": \"\"}}, \"type\": \"parcoords\"}], \"pie\": [{\"automargin\": true, \"type\": \"pie\"}], \"scatter\": [{\"marker\": {\"colorbar\": {\"outlinewidth\": 0, \"ticks\": \"\"}}, \"type\": \"scatter\"}], \"scatter3d\": [{\"line\": {\"colorbar\": {\"outlinewidth\": 0, \"ticks\": \"\"}}, \"marker\": {\"colorbar\": {\"outlinewidth\": 0, \"ticks\": \"\"}}, \"type\": \"scatter3d\"}], \"scattercarpet\": [{\"marker\": {\"colorbar\": {\"outlinewidth\": 0, \"ticks\": \"\"}}, \"type\": \"scattercarpet\"}], \"scattergeo\": [{\"marker\": {\"colorbar\": {\"outlinewidth\": 0, \"ticks\": \"\"}}, \"type\": \"scattergeo\"}], \"scattergl\": [{\"marker\": {\"colorbar\": {\"outlinewidth\": 0, \"ticks\": \"\"}}, \"type\": \"scattergl\"}], \"scattermapbox\": [{\"marker\": {\"colorbar\": {\"outlinewidth\": 0, \"ticks\": \"\"}}, \"type\": \"scattermapbox\"}], \"scatterpolar\": [{\"marker\": {\"colorbar\": {\"outlinewidth\": 0, \"ticks\": \"\"}}, \"type\": \"scatterpolar\"}], \"scatterpolargl\": [{\"marker\": {\"colorbar\": {\"outlinewidth\": 0, \"ticks\": \"\"}}, \"type\": \"scatterpolargl\"}], \"scatterternary\": [{\"marker\": {\"colorbar\": {\"outlinewidth\": 0, \"ticks\": \"\"}}, \"type\": \"scatterternary\"}], \"surface\": [{\"colorbar\": {\"outlinewidth\": 0, \"ticks\": \"\"}, \"colorscale\": [[0.0, \"#0d0887\"], [0.1111111111111111, \"#46039f\"], [0.2222222222222222, \"#7201a8\"], [0.3333333333333333, \"#9c179e\"], [0.4444444444444444, \"#bd3786\"], [0.5555555555555556, \"#d8576b\"], [0.6666666666666666, \"#ed7953\"], [0.7777777777777778, \"#fb9f3a\"], [0.8888888888888888, \"#fdca26\"], [1.0, \"#f0f921\"]], \"type\": \"surface\"}], \"table\": [{\"cells\": {\"fill\": {\"color\": \"#EBF0F8\"}, \"line\": {\"color\": \"white\"}}, \"header\": {\"fill\": {\"color\": \"#C8D4E3\"}, \"line\": {\"color\": \"white\"}}, \"type\": \"table\"}]}, \"layout\": {\"annotationdefaults\": {\"arrowcolor\": \"#2a3f5f\", \"arrowhead\": 0, \"arrowwidth\": 1}, \"coloraxis\": {\"colorbar\": {\"outlinewidth\": 0, \"ticks\": \"\"}}, \"colorscale\": {\"diverging\": [[0, \"#8e0152\"], [0.1, \"#c51b7d\"], [0.2, \"#de77ae\"], [0.3, \"#f1b6da\"], [0.4, \"#fde0ef\"], [0.5, \"#f7f7f7\"], [0.6, \"#e6f5d0\"], [0.7, \"#b8e186\"], [0.8, \"#7fbc41\"], [0.9, \"#4d9221\"], [1, \"#276419\"]], \"sequential\": [[0.0, \"#0d0887\"], [0.1111111111111111, \"#46039f\"], [0.2222222222222222, \"#7201a8\"], [0.3333333333333333, \"#9c179e\"], [0.4444444444444444, \"#bd3786\"], [0.5555555555555556, \"#d8576b\"], [0.6666666666666666, \"#ed7953\"], [0.7777777777777778, \"#fb9f3a\"], [0.8888888888888888, \"#fdca26\"], [1.0, \"#f0f921\"]], \"sequentialminus\": [[0.0, \"#0d0887\"], [0.1111111111111111, \"#46039f\"], [0.2222222222222222, \"#7201a8\"], [0.3333333333333333, \"#9c179e\"], [0.4444444444444444, \"#bd3786\"], [0.5555555555555556, \"#d8576b\"], [0.6666666666666666, \"#ed7953\"], [0.7777777777777778, \"#fb9f3a\"], [0.8888888888888888, \"#fdca26\"], [1.0, \"#f0f921\"]]}, \"colorway\": [\"#636efa\", \"#EF553B\", \"#00cc96\", \"#ab63fa\", \"#FFA15A\", \"#19d3f3\", \"#FF6692\", \"#B6E880\", \"#FF97FF\", \"#FECB52\"], \"font\": {\"color\": \"#2a3f5f\"}, \"geo\": {\"bgcolor\": \"white\", \"lakecolor\": \"white\", \"landcolor\": \"#E5ECF6\", \"showlakes\": true, \"showland\": true, \"subunitcolor\": \"white\"}, \"hoverlabel\": {\"align\": \"left\"}, \"hovermode\": \"closest\", \"mapbox\": {\"style\": \"light\"}, \"paper_bgcolor\": \"white\", \"plot_bgcolor\": \"#E5ECF6\", \"polar\": {\"angularaxis\": {\"gridcolor\": \"white\", \"linecolor\": \"white\", \"ticks\": \"\"}, \"bgcolor\": \"#E5ECF6\", \"radialaxis\": {\"gridcolor\": \"white\", \"linecolor\": \"white\", \"ticks\": \"\"}}, \"scene\": {\"xaxis\": {\"backgroundcolor\": \"#E5ECF6\", \"gridcolor\": \"white\", \"gridwidth\": 2, \"linecolor\": \"white\", \"showbackground\": true, \"ticks\": \"\", \"zerolinecolor\": \"white\"}, \"yaxis\": {\"backgroundcolor\": \"#E5ECF6\", \"gridcolor\": \"white\", \"gridwidth\": 2, \"linecolor\": \"white\", \"showbackground\": true, \"ticks\": \"\", \"zerolinecolor\": \"white\"}, \"zaxis\": {\"backgroundcolor\": \"#E5ECF6\", \"gridcolor\": \"white\", \"gridwidth\": 2, \"linecolor\": \"white\", \"showbackground\": true, \"ticks\": \"\", \"zerolinecolor\": \"white\"}}, \"shapedefaults\": {\"line\": {\"color\": \"#2a3f5f\"}}, \"ternary\": {\"aaxis\": {\"gridcolor\": \"white\", \"linecolor\": \"white\", \"ticks\": \"\"}, \"baxis\": {\"gridcolor\": \"white\", \"linecolor\": \"white\", \"ticks\": \"\"}, \"bgcolor\": \"#E5ECF6\", \"caxis\": {\"gridcolor\": \"white\", \"linecolor\": \"white\", \"ticks\": \"\"}}, \"title\": {\"x\": 0.05}, \"xaxis\": {\"automargin\": true, \"gridcolor\": \"white\", \"linecolor\": \"white\", \"ticks\": \"\", \"title\": {\"standoff\": 15}, \"zerolinecolor\": \"white\", \"zerolinewidth\": 2}, \"yaxis\": {\"automargin\": true, \"gridcolor\": \"white\", \"linecolor\": \"white\", \"ticks\": \"\", \"title\": {\"standoff\": 15}, \"zerolinecolor\": \"white\", \"zerolinewidth\": 2}}}, \"xaxis\": {\"anchor\": \"y\", \"domain\": [0.0, 1.0], \"title\": {\"text\": \"year\"}}, \"yaxis\": {\"anchor\": \"x\", \"domain\": [0.0, 1.0], \"title\": {\"text\": \"value\"}}},                        {\"responsive\": true}                    ).then(function(){\n",
       "                            \n",
       "var gd = document.getElementById('f86823ba-671d-4dc2-9c51-aa360336ed71');\n",
       "var x = new MutationObserver(function (mutations, observer) {{\n",
       "        var display = window.getComputedStyle(gd).display;\n",
       "        if (!display || display === 'none') {{\n",
       "            console.log([gd, 'removed!']);\n",
       "            Plotly.purge(gd);\n",
       "            observer.disconnect();\n",
       "        }}\n",
       "}});\n",
       "\n",
       "// Listen for the removal of the full notebook cells\n",
       "var notebookContainer = gd.closest('#notebook-container');\n",
       "if (notebookContainer) {{\n",
       "    x.observe(notebookContainer, {childList: true});\n",
       "}}\n",
       "\n",
       "// Listen for the clearing of the current output cell\n",
       "var outputEl = gd.closest('.output');\n",
       "if (outputEl) {{\n",
       "    x.observe(outputEl, {childList: true});\n",
       "}}\n",
       "\n",
       "                        })                };                });            </script>        </div>"
      ]
     },
     "metadata": {},
     "output_type": "display_data"
    }
   ],
   "source": [
    "compare_electoral_college = df.groupby(['year','candidate'], as_index = False).agg({'electoral_votes':'sum','new_electoral_vote':'sum'})\n",
    "fig = px.scatter(compare_electoral_college,x = 'year', y = ['electoral_votes','new_electoral_vote'])\n",
    "x = list(range(1974,2020,4))\n",
    "y = [270]*len(x)\n",
    "fig.add_trace(go.Scatter(x=x, y=y, mode='lines'))\n",
    "#px.scatter(df,x = 'year', y = ['electoral_votes','new_electoral_vote'])"
   ]
  },
  {
   "cell_type": "code",
   "execution_count": null,
   "metadata": {},
   "outputs": [],
   "source": []
  },
  {
   "cell_type": "code",
   "execution_count": null,
   "metadata": {},
   "outputs": [],
   "source": []
  }
 ],
 "metadata": {
  "kernelspec": {
   "display_name": "Python 3",
   "language": "python",
   "name": "python3"
  },
  "language_info": {
   "codemirror_mode": {
    "name": "ipython",
    "version": 3
   },
   "file_extension": ".py",
   "mimetype": "text/x-python",
   "name": "python",
   "nbconvert_exporter": "python",
   "pygments_lexer": "ipython3",
   "version": "3.8.3"
  }
 },
 "nbformat": 4,
 "nbformat_minor": 4
}
