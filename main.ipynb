{
 "cells": [
  {
   "cell_type": "code",
   "execution_count": 23,
   "metadata": {},
   "outputs": [],
   "source": [
    "# import all of the libraries\n",
    "import pandas as pd\n",
    "import numpy as np\n",
    "import folium\n",
    "from folium import plugins\n",
    "import ipywidgets\n",
    "import geocoder\n",
    "from branca.element import Figure\n",
    "import plotly.graph_objs as go\n",
    "import plotly.offline as py\n",
    "import plotly.express as px\n",
    "from plotly.subplots import make_subplots\n",
    "import dash\n",
    "import dash_core_components as dcc\n",
    "import dash_html_components as html\n",
    "#import chart_studio.plotly as py\n",
    "#import matplotlib.pyplot as plt\n",
    "#import seaborn as sns\n",
    "#%matplotlib inline"
   ]
  },
  {
   "cell_type": "code",
   "execution_count": 5,
   "metadata": {},
   "outputs": [
    {
     "data": {
      "text/html": [
       "<div>\n",
       "<style scoped>\n",
       "    .dataframe tbody tr th:only-of-type {\n",
       "        vertical-align: middle;\n",
       "    }\n",
       "\n",
       "    .dataframe tbody tr th {\n",
       "        vertical-align: top;\n",
       "    }\n",
       "\n",
       "    .dataframe thead th {\n",
       "        text-align: right;\n",
       "    }\n",
       "</style>\n",
       "<table border=\"1\" class=\"dataframe\">\n",
       "  <thead>\n",
       "    <tr style=\"text-align: right;\">\n",
       "      <th></th>\n",
       "      <th>year</th>\n",
       "      <th>state</th>\n",
       "      <th>state_po</th>\n",
       "      <th>state_fips</th>\n",
       "      <th>state_cen</th>\n",
       "      <th>state_ic</th>\n",
       "      <th>office</th>\n",
       "      <th>candidate</th>\n",
       "      <th>party</th>\n",
       "      <th>writein</th>\n",
       "      <th>candidatevotes</th>\n",
       "      <th>totalvotes</th>\n",
       "      <th>version</th>\n",
       "      <th>notes</th>\n",
       "    </tr>\n",
       "  </thead>\n",
       "  <tbody>\n",
       "    <tr>\n",
       "      <th>0</th>\n",
       "      <td>1976</td>\n",
       "      <td>Alabama</td>\n",
       "      <td>AL</td>\n",
       "      <td>1</td>\n",
       "      <td>63</td>\n",
       "      <td>41</td>\n",
       "      <td>US President</td>\n",
       "      <td>Carter, Jimmy</td>\n",
       "      <td>democrat</td>\n",
       "      <td>False</td>\n",
       "      <td>659170</td>\n",
       "      <td>1182850</td>\n",
       "      <td>20171015</td>\n",
       "      <td>NaN</td>\n",
       "    </tr>\n",
       "    <tr>\n",
       "      <th>1</th>\n",
       "      <td>1976</td>\n",
       "      <td>Alabama</td>\n",
       "      <td>AL</td>\n",
       "      <td>1</td>\n",
       "      <td>63</td>\n",
       "      <td>41</td>\n",
       "      <td>US President</td>\n",
       "      <td>Ford, Gerald</td>\n",
       "      <td>republican</td>\n",
       "      <td>False</td>\n",
       "      <td>504070</td>\n",
       "      <td>1182850</td>\n",
       "      <td>20171015</td>\n",
       "      <td>NaN</td>\n",
       "    </tr>\n",
       "    <tr>\n",
       "      <th>2</th>\n",
       "      <td>1976</td>\n",
       "      <td>Alabama</td>\n",
       "      <td>AL</td>\n",
       "      <td>1</td>\n",
       "      <td>63</td>\n",
       "      <td>41</td>\n",
       "      <td>US President</td>\n",
       "      <td>Maddox, Lester</td>\n",
       "      <td>american independent party</td>\n",
       "      <td>False</td>\n",
       "      <td>9198</td>\n",
       "      <td>1182850</td>\n",
       "      <td>20171015</td>\n",
       "      <td>NaN</td>\n",
       "    </tr>\n",
       "    <tr>\n",
       "      <th>3</th>\n",
       "      <td>1976</td>\n",
       "      <td>Alabama</td>\n",
       "      <td>AL</td>\n",
       "      <td>1</td>\n",
       "      <td>63</td>\n",
       "      <td>41</td>\n",
       "      <td>US President</td>\n",
       "      <td>Bubar, Benjamin \"\"Ben\"\"</td>\n",
       "      <td>prohibition</td>\n",
       "      <td>False</td>\n",
       "      <td>6669</td>\n",
       "      <td>1182850</td>\n",
       "      <td>20171015</td>\n",
       "      <td>NaN</td>\n",
       "    </tr>\n",
       "    <tr>\n",
       "      <th>4</th>\n",
       "      <td>1976</td>\n",
       "      <td>Alabama</td>\n",
       "      <td>AL</td>\n",
       "      <td>1</td>\n",
       "      <td>63</td>\n",
       "      <td>41</td>\n",
       "      <td>US President</td>\n",
       "      <td>Hall, Gus</td>\n",
       "      <td>communist party use</td>\n",
       "      <td>False</td>\n",
       "      <td>1954</td>\n",
       "      <td>1182850</td>\n",
       "      <td>20171015</td>\n",
       "      <td>NaN</td>\n",
       "    </tr>\n",
       "  </tbody>\n",
       "</table>\n",
       "</div>"
      ],
      "text/plain": [
       "   year    state state_po  state_fips  state_cen  state_ic        office  \\\n",
       "0  1976  Alabama       AL           1         63        41  US President   \n",
       "1  1976  Alabama       AL           1         63        41  US President   \n",
       "2  1976  Alabama       AL           1         63        41  US President   \n",
       "3  1976  Alabama       AL           1         63        41  US President   \n",
       "4  1976  Alabama       AL           1         63        41  US President   \n",
       "\n",
       "                 candidate                       party  writein  \\\n",
       "0            Carter, Jimmy                    democrat    False   \n",
       "1             Ford, Gerald                  republican    False   \n",
       "2           Maddox, Lester  american independent party    False   \n",
       "3  Bubar, Benjamin \"\"Ben\"\"                 prohibition    False   \n",
       "4                Hall, Gus         communist party use    False   \n",
       "\n",
       "   candidatevotes  totalvotes   version  notes  \n",
       "0          659170     1182850  20171015    NaN  \n",
       "1          504070     1182850  20171015    NaN  \n",
       "2            9198     1182850  20171015    NaN  \n",
       "3            6669     1182850  20171015    NaN  \n",
       "4            1954     1182850  20171015    NaN  "
      ]
     },
     "execution_count": 5,
     "metadata": {},
     "output_type": "execute_result"
    }
   ],
   "source": [
    "df = pd.read_csv('data/1976-2016-president.csv')\n",
    "df.head()"
   ]
  },
  {
   "cell_type": "code",
   "execution_count": 53,
   "metadata": {},
   "outputs": [
    {
     "data": {
      "text/html": [
       "<div>\n",
       "<style scoped>\n",
       "    .dataframe tbody tr th:only-of-type {\n",
       "        vertical-align: middle;\n",
       "    }\n",
       "\n",
       "    .dataframe tbody tr th {\n",
       "        vertical-align: top;\n",
       "    }\n",
       "\n",
       "    .dataframe thead th {\n",
       "        text-align: right;\n",
       "    }\n",
       "</style>\n",
       "<table border=\"1\" class=\"dataframe\">\n",
       "  <thead>\n",
       "    <tr style=\"text-align: right;\">\n",
       "      <th></th>\n",
       "      <th>year</th>\n",
       "      <th>candidate</th>\n",
       "      <th>candidatevotes</th>\n",
       "    </tr>\n",
       "  </thead>\n",
       "  <tbody>\n",
       "    <tr>\n",
       "      <th>0</th>\n",
       "      <td>1976</td>\n",
       "      <td>Anderson, Thomas J.</td>\n",
       "      <td>21325</td>\n",
       "    </tr>\n",
       "    <tr>\n",
       "      <th>1</th>\n",
       "      <td>1976</td>\n",
       "      <td>Bubar, Benjamin \"\"Ben\"\"</td>\n",
       "      <td>6669</td>\n",
       "    </tr>\n",
       "    <tr>\n",
       "      <th>2</th>\n",
       "      <td>1976</td>\n",
       "      <td>Camejo, Peter</td>\n",
       "      <td>17802</td>\n",
       "    </tr>\n",
       "    <tr>\n",
       "      <th>3</th>\n",
       "      <td>1976</td>\n",
       "      <td>Carter, Jimmy</td>\n",
       "      <td>3742284</td>\n",
       "    </tr>\n",
       "    <tr>\n",
       "      <th>4</th>\n",
       "      <td>1976</td>\n",
       "      <td>Ford, Gerald</td>\n",
       "      <td>3882244</td>\n",
       "    </tr>\n",
       "  </tbody>\n",
       "</table>\n",
       "</div>"
      ],
      "text/plain": [
       "   year                candidate  candidatevotes\n",
       "0  1976      Anderson, Thomas J.           21325\n",
       "1  1976  Bubar, Benjamin \"\"Ben\"\"            6669\n",
       "2  1976            Camejo, Peter           17802\n",
       "3  1976            Carter, Jimmy         3742284\n",
       "4  1976             Ford, Gerald         3882244"
      ]
     },
     "execution_count": 53,
     "metadata": {},
     "output_type": "execute_result"
    }
   ],
   "source": [
    "df['pct_vote'] = (df['candidatevotes'] / df['totalvotes']).astype('float64')\n",
    "\n",
    "#democratic-farmer-labor is a special case for MN\n",
    "df.replace({'party': 'democratic-farmer-labor'}, 'democrat', inplace = True)\n",
    "\n",
    "# replace all minor parties with 'other'\n",
    "df.loc[~df['party'].isin(['republican','democrat']),'party'] = 'other'\n",
    "\n",
    "# retrieve corresponding id for candidate with max votes by year and state\n",
    "winner = df.groupby(['year','state_po'], as_index = False).agg({'candidatevotes':'idxmax',\\\n",
    "                                                              'pct_vote': lambda g: sum(df.loc[g.index].query(\"party == 'democrat'\").pct_vote)})\n",
    "\n",
    "# add column for corresponding party for max votes for candidate\n",
    "winner['party'] = [df.loc[id,'party'] for id in winner['candidatevotes']]\n",
    "\n",
    "# map parties to colors for plotting later on. \n",
    "winner['party_id'] = winner['party'].map({'democrat': 1.0, 'republican': 0.0}) \n",
    "winner.head()"
   ]
  },
  {
   "cell_type": "code",
   "execution_count": 57,
   "metadata": {},
   "outputs": [
    {
     "data": {
      "text/html": [
       "<div>\n",
       "<style scoped>\n",
       "    .dataframe tbody tr th:only-of-type {\n",
       "        vertical-align: middle;\n",
       "    }\n",
       "\n",
       "    .dataframe tbody tr th {\n",
       "        vertical-align: top;\n",
       "    }\n",
       "\n",
       "    .dataframe thead th {\n",
       "        text-align: right;\n",
       "    }\n",
       "</style>\n",
       "<table border=\"1\" class=\"dataframe\">\n",
       "  <thead>\n",
       "    <tr style=\"text-align: right;\">\n",
       "      <th></th>\n",
       "      <th>candidatevotes</th>\n",
       "      <th>candidate</th>\n",
       "    </tr>\n",
       "    <tr>\n",
       "      <th>year</th>\n",
       "      <th></th>\n",
       "      <th></th>\n",
       "    </tr>\n",
       "  </thead>\n",
       "  <tbody>\n",
       "    <tr>\n",
       "      <th>1976</th>\n",
       "      <td>23</td>\n",
       "      <td>Ford, Gerald</td>\n",
       "    </tr>\n",
       "    <tr>\n",
       "      <th>1980</th>\n",
       "      <td>362</td>\n",
       "      <td>Reagan, Ronald</td>\n",
       "    </tr>\n",
       "    <tr>\n",
       "      <th>1984</th>\n",
       "      <td>721</td>\n",
       "      <td>Reagan, Ronald</td>\n",
       "    </tr>\n",
       "    <tr>\n",
       "      <th>1988</th>\n",
       "      <td>1041</td>\n",
       "      <td>Bush, George H.W.</td>\n",
       "    </tr>\n",
       "    <tr>\n",
       "      <th>1992</th>\n",
       "      <td>1332</td>\n",
       "      <td>Clinton, Bill</td>\n",
       "    </tr>\n",
       "  </tbody>\n",
       "</table>\n",
       "</div>"
      ],
      "text/plain": [
       "      candidatevotes          candidate\n",
       "year                                   \n",
       "1976              23       Ford, Gerald\n",
       "1980             362     Reagan, Ronald\n",
       "1984             721     Reagan, Ronald\n",
       "1988            1041  Bush, George H.W.\n",
       "1992            1332      Clinton, Bill"
      ]
     },
     "execution_count": 57,
     "metadata": {},
     "output_type": "execute_result"
    }
   ],
   "source": [
    "#national winner\n",
    "national_winner = df.groupby(['year']).agg({'candidatevotes':'idxmax'})\n",
    "national_winner['candidate'] = [df.loc[id,'candidate'] for id in national_winner['candidatevotes']]\n",
    "national_winner.head()"
   ]
  },
  {
   "cell_type": "code",
   "execution_count": null,
   "metadata": {},
   "outputs": [],
   "source": [
    "# https://python-visualization.github.io/folium/quickstart.html\n",
    "\n",
    "url = 'https://raw.githubusercontent.com/python-visualization/folium/master/examples/data'\n",
    "state_geo = f'{url}/us-states.json'\n",
    "\n",
    "m = folium.Map(location=[48, -102], zoom_start=3)\n",
    "\n",
    "folium.Choropleth(\n",
    "    geo_data=state_geo,\n",
    "    name='choropleth',\n",
    "    data = winner[winner['year'] == 2016],\n",
    "    columns =['state_po', 'pct_vote'],\n",
    "    key_on ='feature.id',\n",
    "    fill_color = 'RdBu',\n",
    "    fill_opacity = 0.7,\n",
    "    line_opacity = 0.2,\n",
    "    #bins = 3,\n",
    "    legend_name='Party'\n",
    ").add_to(m)\n",
    "\n",
    "folium.LayerControl().add_to(m)\n",
    "\n",
    "m"
   ]
  },
  {
   "cell_type": "code",
   "execution_count": 12,
   "metadata": {},
   "outputs": [
    {
     "data": {
      "text/plain": [
       "'temp-plot.html'"
      ]
     },
     "execution_count": 12,
     "metadata": {},
     "output_type": "execute_result"
    }
   ],
   "source": [
    "#https://support.sisense.com/hc/en-us/community/posts/360038301533-Plotly-Choropleth-With-Slider-Map-Charts-Over-Time-\n",
    "min_year = 1976\n",
    "\n",
    "# your color-scale\n",
    "scl = [[0.0, 'red'],[.50, '#5700c9'], [1,'#0515a8']]\n",
    "#scl = [[0.0, 'red'], [1,'blue']]\n",
    "data_slider = []\n",
    "for year in winner['year'].unique():\n",
    "    df_segmented =  winner[(winner['year']== year)]\n",
    "    data_each_yr = dict(\n",
    "                        type='choropleth',\n",
    "                        locations = df_segmented['state_po'],\n",
    "                        z=df_segmented['pct_vote'].astype(float),\n",
    "                        locationmode='USA-states',\n",
    "                        colorscale = scl,\n",
    "                        colorbar= {'title':'Party'})\n",
    "\n",
    "    data_slider.append(data_each_yr)\n",
    "\n",
    "steps = []\n",
    "\n",
    "for i in range(len(data_slider)):\n",
    "    step = dict(method='restyle',\n",
    "                args=['visible', [False] * len(data_slider)],\n",
    "                label='Year {}'.format(i*4 + min_year))\n",
    "    step['args'][1][i] = True\n",
    "    steps.append(step)\n",
    "\n",
    "sliders = [dict(active=0, pad={\"t\": 1}, steps=steps)]\n",
    "\n",
    "layout = dict(title ='Presidential Wins', geo=dict(scope='usa',\n",
    "                       projection={'type': 'albers usa'}),\n",
    "              sliders=sliders)\n",
    "\n",
    "fig = dict(data=data_slider, layout=layout)\n",
    "py.plot(fig)"
   ]
  },
  {
   "cell_type": "code",
   "execution_count": 61,
   "metadata": {},
   "outputs": [
    {
     "data": {
      "text/plain": [
       "'temp-plot.html'"
      ]
     },
     "execution_count": 61,
     "metadata": {},
     "output_type": "execute_result"
    }
   ],
   "source": [
    "min_year = 1976\n",
    "fig = make_subplots(rows=2, cols=2, specs=[[{\"type\": \"pie\"},{\"type\": \"choropleth\",\"rowspan\":2}], \n",
    "                                           [{\"type\": \"indicator\"},None ]],\n",
    "                   subplot_titles=(\"National Split\", \"% Democratic Vote\"), )\n",
    "\n",
    "scl = [[0.0, 'red'],[.50, '#5700c9'], [1,'#0515a8']]\n",
    "\n",
    "\n",
    "data_slider = []\n",
    "for year in winner['year'].unique():\n",
    "    \n",
    "    # Choropleth for each year\n",
    "    df_segmented =  winner[winner['year']== year]\n",
    "    fig.append_trace(\n",
    "        go.Choropleth(\n",
    "            locations = df_segmented['state_po'],\n",
    "            z=df_segmented['pct_vote'].astype(float),\n",
    "            locationmode='USA-states',\n",
    "            colorscale = scl,\n",
    "            colorbar= {'title':'Party'}, text = df_segmented['party'], \n",
    "            hoverinfo = [\"location\", \"z\", \"text\"]),row = 1, col = 2)\n",
    "\n",
    "    # Pie Chart for each year\n",
    "    full_election_year = df[df['year'] == year].groupby('party',as_index = False).agg({'candidatevotes':'sum'}).sort_values(by = 'party')\n",
    "    fig.append_trace(go.Pie(values = full_election_year['candidatevotes'], \n",
    "           labels = full_election_year['party'], marker = {'colors':['blue','green','red']}), row = 1, col = 1)\n",
    "    \n",
    "    # Card\n",
    "    fig.append_trace(\n",
    "        go.Indicator(\n",
    "            mode = \"number\",\n",
    "            value = year,\n",
    "#                 title = {\"text\": \"Accounts<br><span style='font-size:0.8em;color:gray'>Subtitle</span><br><span style='font-size:0.8em;color:gray'>Subsubtitle</span>\"},\n",
    "#                 delta = {'reference': 400, 'relative': True},\n",
    "            title = {\"text\": f\"Popular Vote Winner <br><span style='font-size:0.8em;color:gray'>{national_winner.loc[year,'candidate']} </span>\"}), row =2, col = 1)\n",
    "    \n",
    "steps = []\n",
    "for i in range(0,len(fig.data),3):\n",
    "    step = dict(method='restyle',\n",
    "                args=['visible', [False] * len(fig.data)],\n",
    "                label='Year {}'.format(int(i*(4/3) + min_year)))\n",
    "    step[\"args\"][1][i:i+3] = [True, True, True]\n",
    "    steps.append(step)\n",
    "\n",
    "sliders = [dict(active=0, pad={\"t\": 1}, steps=steps)]\n",
    "\n",
    "fig.update_layout(sliders=sliders, title ='Presidential Wins')\n",
    "fig.update_geos(scope='usa', projection={'type': 'albers usa'})\n",
    "fig.update_layout(legend= {'yanchor':\"top\",  'y':0.99, 'xanchor':\"left\",'x':0.01})\n",
    "#fig.update_layout(showlegend = False)\n",
    "#fig.update_layout(width=1000,height=800)\n",
    "py.plot(fig)"
   ]
  },
  {
   "cell_type": "code",
   "execution_count": 13,
   "metadata": {},
   "outputs": [
    {
     "data": {
      "application/vnd.plotly.v1+json": {
       "config": {
        "plotlyServerURL": "https://plot.ly"
       },
       "data": [
        {
         "coloraxis": "coloraxis",
         "geo": "geo",
         "hovertemplate": "year=1976<br>state_po=%{location}<br>pct_vote=%{z}<extra></extra>",
         "locationmode": "USA-states",
         "locations": [
          "AK",
          "AL",
          "AR",
          "AZ",
          "CA",
          "CO",
          "CT",
          "DC",
          "DE",
          "FL",
          "GA",
          "HI",
          "IA",
          "ID",
          "IL",
          "IN",
          "KS",
          "KY",
          "LA",
          "MA",
          "MD",
          "ME",
          "MI",
          "MN",
          "MO",
          "MS",
          "MT",
          "NC",
          "ND",
          "NE",
          "NH",
          "NJ",
          "NM",
          "NV",
          "NY",
          "OH",
          "OK",
          "OR",
          "PA",
          "RI",
          "SC",
          "SD",
          "TN",
          "TX",
          "UT",
          "VA",
          "VT",
          "WA",
          "WI",
          "WV",
          "WY"
         ],
         "name": "",
         "type": "choropleth",
         "z": [
          0.3565313091750692,
          0.5572726888447394,
          0.6496172812966184,
          0.39799978188251545,
          0.47954821836112543,
          0.4260994599792869,
          0.46733700964038793,
          0.8163122667772316,
          0.5196908870235357,
          0.5192610623078361,
          0.6693829485931742,
          0.5059199934088795,
          0.48458496540694423,
          0.37118545633733413,
          0.48107590268914247,
          0.45700385792947273,
          0.44936393675385894,
          0.5275424926872652,
          0.5177499622274604,
          0.5611157822510813,
          0.5303541992343639,
          0.480940766261947,
          0.46465074118397737,
          0.5489630145887213,
          0.5110498566748567,
          0.4962701232447065,
          0.4540418697183741,
          0.5526918671248569,
          0.4577004318753616,
          0.38449671940126806,
          0.43472692100451377,
          0.4792391503387658,
          0.4828440433039679,
          0.4580980403812241,
          0.4865083285569763,
          0.4889868666639419,
          0.48747220190231,
          0.47618062757069785,
          0.5039567935072532,
          0.5544200455935935,
          0.5616951766982355,
          0.48912125263570994,
          0.5594074830696869,
          0.511389568072175,
          0.3364817873758818,
          0.47958215632133516,
          0.42304053245750456,
          0.46114260440466104,
          0.4950336357441171,
          0.5806951864533234,
          0.39809265525159426
         ]
        }
       ],
       "frames": [
        {
         "data": [
          {
           "coloraxis": "coloraxis",
           "geo": "geo",
           "hovertemplate": "year=1976<br>state_po=%{location}<br>pct_vote=%{z}<extra></extra>",
           "locationmode": "USA-states",
           "locations": [
            "AK",
            "AL",
            "AR",
            "AZ",
            "CA",
            "CO",
            "CT",
            "DC",
            "DE",
            "FL",
            "GA",
            "HI",
            "IA",
            "ID",
            "IL",
            "IN",
            "KS",
            "KY",
            "LA",
            "MA",
            "MD",
            "ME",
            "MI",
            "MN",
            "MO",
            "MS",
            "MT",
            "NC",
            "ND",
            "NE",
            "NH",
            "NJ",
            "NM",
            "NV",
            "NY",
            "OH",
            "OK",
            "OR",
            "PA",
            "RI",
            "SC",
            "SD",
            "TN",
            "TX",
            "UT",
            "VA",
            "VT",
            "WA",
            "WI",
            "WV",
            "WY"
           ],
           "name": "",
           "type": "choropleth",
           "z": [
            0.3565313091750692,
            0.5572726888447394,
            0.6496172812966184,
            0.39799978188251545,
            0.47954821836112543,
            0.4260994599792869,
            0.46733700964038793,
            0.8163122667772316,
            0.5196908870235357,
            0.5192610623078361,
            0.6693829485931742,
            0.5059199934088795,
            0.48458496540694423,
            0.37118545633733413,
            0.48107590268914247,
            0.45700385792947273,
            0.44936393675385894,
            0.5275424926872652,
            0.5177499622274604,
            0.5611157822510813,
            0.5303541992343639,
            0.480940766261947,
            0.46465074118397737,
            0.5489630145887213,
            0.5110498566748567,
            0.4962701232447065,
            0.4540418697183741,
            0.5526918671248569,
            0.4577004318753616,
            0.38449671940126806,
            0.43472692100451377,
            0.4792391503387658,
            0.4828440433039679,
            0.4580980403812241,
            0.4865083285569763,
            0.4889868666639419,
            0.48747220190231,
            0.47618062757069785,
            0.5039567935072532,
            0.5544200455935935,
            0.5616951766982355,
            0.48912125263570994,
            0.5594074830696869,
            0.511389568072175,
            0.3364817873758818,
            0.47958215632133516,
            0.42304053245750456,
            0.46114260440466104,
            0.4950336357441171,
            0.5806951864533234,
            0.39809265525159426
           ]
          }
         ],
         "name": "1976"
        },
        {
         "data": [
          {
           "coloraxis": "coloraxis",
           "geo": "geo",
           "hovertemplate": "year=1980<br>state_po=%{location}<br>pct_vote=%{z}<extra></extra>",
           "locationmode": "USA-states",
           "locations": [
            "AK",
            "AL",
            "AR",
            "AZ",
            "CA",
            "CO",
            "CT",
            "DC",
            "DE",
            "FL",
            "GA",
            "HI",
            "IA",
            "ID",
            "IL",
            "IN",
            "KS",
            "KY",
            "LA",
            "MA",
            "MD",
            "ME",
            "MI",
            "MN",
            "MO",
            "MS",
            "MT",
            "NC",
            "ND",
            "NE",
            "NH",
            "NJ",
            "NM",
            "NV",
            "NY",
            "OH",
            "OK",
            "OR",
            "PA",
            "RI",
            "SC",
            "SD",
            "TN",
            "TX",
            "UT",
            "VA",
            "VT",
            "WA",
            "WI",
            "WV",
            "WY"
           ],
           "name": "",
           "type": "choropleth",
           "z": [
            0.2640790179557575,
            0.47448859067804633,
            0.4752263062004675,
            0.28244683589928427,
            0.35919436910764124,
            0.3107003250453797,
            0.3852220566954778,
            0.7489317898199426,
            0.4487414498362103,
            0.38500219830769633,
            0.5579610534786652,
            0.4480211812573569,
            0.3860416298273987,
            0.25190715792890767,
            0.41716408184817594,
            0.3765319243739945,
            0.33287575462214036,
            0.4765391582608266,
            0.45748231779727505,
            0.41749779128319514,
            0.4713812953749961,
            0.42250354199051265,
            0.42497413500949555,
            0.4650156244212726,
            0.4434571659339068,
            0.48139164564059433,
            0.32430650195630195,
            0.47182855353903075,
            0.262985029025359,
            0.2602273846697512,
            0.28350738300476575,
            0.3855799204485422,
            0.36784828937591646,
            0.2735666332912037,
            0.4399209991552669,
            0.40909813537809175,
            0.3496766135401337,
            0.3866981065004621,
            0.4247593062020594,
            0.4768214786269103,
            0.4820896631384125,
            0.3169180630021696,
            0.4840771851910466,
            0.414200301389191,
            0.20568664839311962,
            0.40308740686118993,
            0.3842118340920492,
            0.3731607202504141,
            0.4318031550825899,
            0.49810834807479853,
            0.27970211586018007
           ]
          }
         ],
         "name": "1980"
        },
        {
         "data": [
          {
           "coloraxis": "coloraxis",
           "geo": "geo",
           "hovertemplate": "year=1984<br>state_po=%{location}<br>pct_vote=%{z}<extra></extra>",
           "locationmode": "USA-states",
           "locations": [
            "AK",
            "AL",
            "AR",
            "AZ",
            "CA",
            "CO",
            "CT",
            "DC",
            "DE",
            "FL",
            "GA",
            "HI",
            "IA",
            "ID",
            "IL",
            "IN",
            "KS",
            "KY",
            "LA",
            "MA",
            "MD",
            "ME",
            "MI",
            "MN",
            "MO",
            "MS",
            "MT",
            "NC",
            "ND",
            "NE",
            "NH",
            "NJ",
            "NM",
            "NV",
            "NY",
            "OH",
            "OK",
            "OR",
            "PA",
            "RI",
            "SC",
            "SD",
            "TN",
            "TX",
            "UT",
            "VA",
            "VT",
            "WA",
            "WI",
            "WV",
            "WY"
           ],
           "name": "",
           "type": "choropleth",
           "z": [
            0.29867777751017555,
            0.38280781265064545,
            0.38290785001458605,
            0.32542643169830887,
            0.41267775699231596,
            0.3512289830011271,
            0.3882998159383734,
            0.853848775131574,
            0.3993212136448627,
            0.3466024696827862,
            0.3978530524412154,
            0.43815915627996166,
            0.4588708180375131,
            0.2639221294728854,
            0.43296553206747834,
            0.3768271378985602,
            0.32598036577621525,
            0.39401246581394755,
            0.38175392630280136,
            0.4843378267340214,
            0.4701639086016661,
            0.3878104074165136,
            0.4023607594370667,
            0.49718846563288427,
            0.39975249332122964,
            0.3742328159268264,
            0.381765818454278,
            0.37891963678672186,
            0.33798964951403204,
            0.28809826864389887,
            0.30945168987719335,
            0.3919754793710855,
            0.392264323347007,
            0.32419345140193195,
            0.4409238688901262,
            0.40003199484576185,
            0.30667146620625063,
            0.43739681230009614,
            0.45989176666694875,
            0.4801736465532572,
            0.3556517151267541,
            0.365287997810405,
            0.4157224941924412,
            0.36113948292667203,
            0.246752194849251,
            0.3709293848278818,
            0.408124112704158,
            0.42580817212559535,
            0.4502170060980545,
            0.44597834567008543,
            0.28242877100884806
           ]
          }
         ],
         "name": "1984"
        },
        {
         "data": [
          {
           "coloraxis": "coloraxis",
           "geo": "geo",
           "hovertemplate": "year=1988<br>state_po=%{location}<br>pct_vote=%{z}<extra></extra>",
           "locationmode": "USA-states",
           "locations": [
            "AK",
            "AL",
            "AR",
            "AZ",
            "CA",
            "CO",
            "CT",
            "DC",
            "DE",
            "FL",
            "GA",
            "HI",
            "IA",
            "ID",
            "IL",
            "IN",
            "KS",
            "KY",
            "LA",
            "MA",
            "MD",
            "ME",
            "MI",
            "MN",
            "MO",
            "MS",
            "MT",
            "NC",
            "ND",
            "NE",
            "NH",
            "NJ",
            "NM",
            "NV",
            "NY",
            "OH",
            "OK",
            "OR",
            "PA",
            "RI",
            "SC",
            "SD",
            "TN",
            "TX",
            "UT",
            "VA",
            "VT",
            "WA",
            "WI",
            "WV",
            "WY"
           ],
           "name": "",
           "type": "choropleth",
           "z": [
            0.362709628415519,
            0.39863298309147205,
            0.4219173216645847,
            0.387438741228785,
            0.4755944256460335,
            0.45282404324122666,
            0.4687451936200372,
            0.8264697190437429,
            0.4347775630174756,
            0.3850721693191546,
            0.394984284444916,
            0.5426944007944456,
            0.5471192398259158,
            0.36010641419377554,
            0.4860455526505115,
            0.39686187674102574,
            0.4255964488985382,
            0.4388359469103233,
            0.4406455710040892,
            0.5322905149306765,
            0.48199034274054775,
            0.4388353887592674,
            0.4567207834593339,
            0.5291283342633263,
            0.4785044916272857,
            0.39067144591622144,
            0.46198526556440983,
            0.41706311464272827,
            0.429720010361265,
            0.39191038074576884,
            0.36334498640475,
            0.4259814237730408,
            0.4689357425482415,
            0.38684125397440644,
            0.5019497561012464,
            0.4414684136075665,
            0.41281651460757823,
            0.5127811239799815,
            0.48386740504438575,
            0.5563785459021012,
            0.37581198548897626,
            0.4650612956922084,
            0.4154585179526356,
            0.433493692203095,
            0.320464352836441,
            0.3923140487194568,
            0.47579809968437664,
            0.5004768790078343,
            0.5141403024628491,
            0.5219811085378939,
            0.3801337857049804
           ]
          }
         ],
         "name": "1988"
        },
        {
         "data": [
          {
           "coloraxis": "coloraxis",
           "geo": "geo",
           "hovertemplate": "year=1992<br>state_po=%{location}<br>pct_vote=%{z}<extra></extra>",
           "locationmode": "USA-states",
           "locations": [
            "AK",
            "AL",
            "AR",
            "AZ",
            "CA",
            "CO",
            "CT",
            "DC",
            "DE",
            "FL",
            "GA",
            "HI",
            "IA",
            "ID",
            "IL",
            "IN",
            "KS",
            "KY",
            "LA",
            "MA",
            "MD",
            "ME",
            "MI",
            "MN",
            "MO",
            "MS",
            "MT",
            "NC",
            "ND",
            "NE",
            "NH",
            "NJ",
            "NM",
            "NV",
            "NY",
            "OH",
            "OK",
            "OR",
            "PA",
            "RI",
            "SC",
            "SD",
            "TN",
            "TX",
            "UT",
            "VA",
            "VT",
            "WA",
            "WI",
            "WV",
            "WY"
           ],
           "name": "",
           "type": "choropleth",
           "z": [
            0.3028711132430195,
            0.4088006350485172,
            0.5320795284925204,
            0.3652045259671481,
            0.46006587840280944,
            0.40128028651907366,
            0.42218572959541034,
            0.8464090485648498,
            0.43523927905531384,
            0.3899012156452978,
            0.4346868533599755,
            0.48092757790163126,
            0.43285838623305506,
            0.2841921205358069,
            0.48579677819917283,
            0.3679390564346401,
            0.3373849413602757,
            0.4455114207247639,
            0.4558453914124838,
            0.47541410927927824,
            0.4981260518598394,
            0.3876679730212995,
            0.43773687484399393,
            0.4348465127847806,
            0.4407168575694087,
            0.40768064143867394,
            0.3763112452293446,
            0.42653368302161304,
            0.32183505174713517,
            0.29403454157435605,
            0.38911795091350765,
            0.42953959123027496,
            0.45898846638338486,
            0.3735754999822246,
            0.4727630691275797,
            0.4018128056321024,
            0.3402473749585539,
            0.42478855058958337,
            0.45146164873251193,
            0.4704796356136888,
            0.4276254117463252,
            0.37140970813730095,
            0.47084793088803906,
            0.37078458334051023,
            0.24654501759413333,
            0.4058607440265809,
            0.46113751764750555,
            0.43410220037463415,
            0.4113155574098482,
            0.4841482161898089,
            0.34099777871165277
           ]
          }
         ],
         "name": "1992"
        },
        {
         "data": [
          {
           "coloraxis": "coloraxis",
           "geo": "geo",
           "hovertemplate": "year=1996<br>state_po=%{location}<br>pct_vote=%{z}<extra></extra>",
           "locationmode": "USA-states",
           "locations": [
            "AK",
            "AL",
            "AR",
            "AZ",
            "CA",
            "CO",
            "CT",
            "DC",
            "DE",
            "FL",
            "GA",
            "HI",
            "IA",
            "ID",
            "IL",
            "IN",
            "KS",
            "KY",
            "LA",
            "MA",
            "MD",
            "ME",
            "MI",
            "MN",
            "MO",
            "MS",
            "MT",
            "NC",
            "ND",
            "NE",
            "NH",
            "NJ",
            "NM",
            "NV",
            "NY",
            "OH",
            "OK",
            "OR",
            "PA",
            "RI",
            "SC",
            "SD",
            "TN",
            "TX",
            "UT",
            "VA",
            "VT",
            "WA",
            "WI",
            "WV",
            "WY"
           ],
           "name": "",
           "type": "choropleth",
           "z": [
            0.33267113649532326,
            0.4315608769582409,
            0.5373644915194817,
            0.4651706594607681,
            0.5109886561852729,
            0.44426498409348764,
            0.5283158147196567,
            0.8519001109160806,
            0.518278497839814,
            0.4802557119781926,
            0.4584146584952188,
            0.5692880151060757,
            0.5026096469015254,
            0.3364638985094903,
            0.5431527783028726,
            0.41557137645749265,
            0.3608479940426324,
            0.4584217848532593,
            0.5200999574541791,
            0.614720987115381,
            0.5425477435186173,
            0.5162395588689167,
            0.5169482057469723,
            0.5110075658200806,
            0.4753957827961623,
            0.4408110022072882,
            0.41250064483164367,
            0.4403553213740164,
            0.4012784757386144,
            0.34950658016134867,
            0.4957057734944029,
            0.5372029286118354,
            0.4918320223567367,
            0.43933496884416484,
            0.5667893903041855,
            0.4737574744720069,
            0.40449137450247075,
            0.4715197131575891,
            0.492261247677619,
            0.5971858848370392,
            0.44006252923450373,
            0.43027119502448846,
            0.4799871179264085,
            0.43831771937065145,
            0.3329677643251721,
            0.45147771163457395,
            0.5335443356329489,
            0.49840472048333573,
            0.48810952162606797,
            0.515055958042859,
            0.3683586124752447
           ]
          }
         ],
         "name": "1996"
        },
        {
         "data": [
          {
           "coloraxis": "coloraxis",
           "geo": "geo",
           "hovertemplate": "year=2000<br>state_po=%{location}<br>pct_vote=%{z}<extra></extra>",
           "locationmode": "USA-states",
           "locations": [
            "AK",
            "AL",
            "AR",
            "AZ",
            "CA",
            "CO",
            "CT",
            "DC",
            "DE",
            "FL",
            "GA",
            "HI",
            "IA",
            "ID",
            "IL",
            "IN",
            "KS",
            "KY",
            "LA",
            "MA",
            "MD",
            "ME",
            "MI",
            "MN",
            "MO",
            "MS",
            "MT",
            "NC",
            "ND",
            "NE",
            "NH",
            "NJ",
            "NM",
            "NV",
            "NY",
            "OH",
            "OK",
            "OR",
            "PA",
            "RI",
            "SC",
            "SD",
            "TN",
            "TX",
            "UT",
            "VA",
            "VT",
            "WA",
            "WI",
            "WV",
            "WY"
           ],
           "name": "",
           "type": "choropleth",
           "z": [
            0.27666339823504693,
            0.4156650294789806,
            0.4586425626043496,
            0.4473458501738885,
            0.5344973682775446,
            0.4239350901130605,
            0.5590962813244035,
            0.8515508137933767,
            0.5497772716309091,
            0.48837821204036147,
            0.4321099965624139,
            0.5579166791230354,
            0.4719191557860848,
            0.27638128843834414,
            0.545965212095549,
            0.4101210293083897,
            0.3723839226424526,
            0.4137818258591055,
            0.44875332454339917,
            0.5912612602067913,
            0.5648830838450493,
            0.4908601647394898,
            0.5127979887069135,
            0.479055720603522,
            0.47084273348102373,
            0.40698100150475164,
            0.3336512679264014,
            0.43145671168683253,
            0.3305533969804618,
            0.33253039013283714,
            0.46803179160787306,
            0.5612560891508792,
            0.47908554054844177,
            0.4594126276200884,
            0.566392704823055,
            0.46440428090356484,
            0.38426904569573395,
            0.46959940024120733,
            0.5060817131276611,
            0.6098770018967911,
            0.40901523373764903,
            0.37564225390411327,
            0.4728489471775341,
            0.37981958091571044,
            0.26344722181136915,
            0.4443561054475593,
            0.5063470921619528,
            0.5015821531675426,
            0.47832819660687437,
            0.4559266436669526,
            0.282983820405566
           ]
          }
         ],
         "name": "2000"
        },
        {
         "data": [
          {
           "coloraxis": "coloraxis",
           "geo": "geo",
           "hovertemplate": "year=2004<br>state_po=%{location}<br>pct_vote=%{z}<extra></extra>",
           "locationmode": "USA-states",
           "locations": [
            "AK",
            "AL",
            "AR",
            "AZ",
            "CA",
            "CO",
            "CT",
            "DC",
            "DE",
            "FL",
            "GA",
            "HI",
            "IA",
            "ID",
            "IL",
            "IN",
            "KS",
            "KY",
            "LA",
            "MA",
            "MD",
            "ME",
            "MI",
            "MN",
            "MO",
            "MS",
            "MT",
            "NC",
            "ND",
            "NE",
            "NH",
            "NJ",
            "NM",
            "NV",
            "NY",
            "OH",
            "OK",
            "OR",
            "PA",
            "RI",
            "SC",
            "SD",
            "TN",
            "TX",
            "UT",
            "VA",
            "VT",
            "WA",
            "WI",
            "WV",
            "WY"
           ],
           "name": "",
           "type": "choropleth",
           "z": [
            0.35516861912104364,
            0.36844402322377173,
            0.44547630445189085,
            0.44396832928795554,
            0.5430555753467436,
            0.47037842254288303,
            0.543137089719902,
            0.8918386895503239,
            0.5334683760228152,
            0.4709111002771423,
            0.41374946053378764,
            0.5400955215809311,
            0.4923313168421695,
            0.3026491704212736,
            0.5482316020902781,
            0.39262974665336575,
            0.3662309430556444,
            0.39687072981409693,
            0.4221586470321228,
            0.616166602048537,
            0.5597176120840286,
            0.5357285569259347,
            0.5123070672905647,
            0.5108968468600654,
            0.46100446516831883,
            0.40161112592821346,
            0.3856502839483698,
            0.435831462205017,
            0.3549881246543683,
            0.3268216082016382,
            0.5020161082255741,
            0.5292340900702746,
            0.490466796420487,
            0.4787804051895702,
            0.5613058126549186,
            0.48706685243153625,
            0.3442959833524394,
            0.5134866304221187,
            0.5092380914415062,
            0.5942342622628302,
            0.40901835939914694,
            0.38443645917854796,
            0.4252529110879618,
            0.3822426046274135,
            0.25995641508701894,
            0.4552591760381672,
            0.5893746257712714,
            0.5282114831183694,
            0.49699717084411216,
            0.43205141097021404,
            0.2902309102316484
           ]
          }
         ],
         "name": "2004"
        },
        {
         "data": [
          {
           "coloraxis": "coloraxis",
           "geo": "geo",
           "hovertemplate": "year=2008<br>state_po=%{location}<br>pct_vote=%{z}<extra></extra>",
           "locationmode": "USA-states",
           "locations": [
            "AK",
            "AL",
            "AR",
            "AZ",
            "CA",
            "CO",
            "CT",
            "DC",
            "DE",
            "FL",
            "GA",
            "HI",
            "IA",
            "ID",
            "IL",
            "IN",
            "KS",
            "KY",
            "LA",
            "MA",
            "MD",
            "ME",
            "MI",
            "MN",
            "MO",
            "MS",
            "MT",
            "NC",
            "ND",
            "NE",
            "NH",
            "NJ",
            "NM",
            "NV",
            "NY",
            "OH",
            "OK",
            "OR",
            "PA",
            "RI",
            "SC",
            "SD",
            "TN",
            "TX",
            "UT",
            "VA",
            "VT",
            "WA",
            "WI",
            "WV",
            "WY"
           ],
           "name": "",
           "type": "choropleth",
           "z": [
            0.37889373599389325,
            0.38740434294574916,
            0.3886465976512423,
            0.4511525087476428,
            0.6101263834713425,
            0.5366023684069159,
            0.6058882967612181,
            0.9245710975614343,
            0.6194266898150393,
            0.5103330527066491,
            0.46990179096065066,
            0.7145291011787819,
            0.5392802007386527,
            0.3609098763283785,
            0.6191811452001323,
            0.4994591163968428,
            0.41651967194013617,
            0.4116811378392879,
            0.3993291380234511,
            0.6136319910280229,
            0.6191934476264593,
            0.5770573729797597,
            0.5743324730745946,
            0.5406029269827984,
            0.49292647865705136,
            0.43001554426238403,
            0.4726846477008176,
            0.49703666399047425,
            0.44620540014717913,
            0.415982657769247,
            0.5412689705613458,
            0.5727213715188599,
            0.5690748026279335,
            0.551466759243187,
            0.6015696154075767,
            0.5150427006052537,
            0.343549188773065,
            0.5674880625692065,
            0.5448552801203738,
            0.6286400461245617,
            0.4489656001736624,
            0.44747431114601743,
            0.4182853806271298,
            0.4368312144588963,
            0.3440574566607516,
            0.5262946987317566,
            0.6745568319560924,
            0.5765289221364835,
            0.5621778651794235,
            0.42589750382296754,
            0.32509493770203685
           ]
          }
         ],
         "name": "2008"
        },
        {
         "data": [
          {
           "coloraxis": "coloraxis",
           "geo": "geo",
           "hovertemplate": "year=2012<br>state_po=%{location}<br>pct_vote=%{z}<extra></extra>",
           "locationmode": "USA-states",
           "locations": [
            "AK",
            "AL",
            "AR",
            "AZ",
            "CA",
            "CO",
            "CT",
            "DC",
            "DE",
            "FL",
            "GA",
            "HI",
            "IA",
            "ID",
            "IL",
            "IN",
            "KS",
            "KY",
            "LA",
            "MA",
            "MD",
            "ME",
            "MI",
            "MN",
            "MO",
            "MS",
            "MT",
            "NC",
            "ND",
            "NE",
            "NH",
            "NJ",
            "NM",
            "NV",
            "NY",
            "OH",
            "OK",
            "OR",
            "PA",
            "RI",
            "SC",
            "SD",
            "TN",
            "TX",
            "UT",
            "VA",
            "VT",
            "WA",
            "WI",
            "WV",
            "WY"
           ],
           "name": "",
           "type": "choropleth",
           "z": [
            0.40812659112464433,
            0.3835903309875247,
            0.36878990301720105,
            0.44589766941799386,
            0.6023895914168964,
            0.5149222655161517,
            0.5808501325885442,
            0.9091311392818725,
            0.5861074198458528,
            0.5000786506869869,
            0.45507959666882086,
            0.7014793244563191,
            0.5198801653414908,
            0.3262233355920978,
            0.5760213536247709,
            0.43927302904058396,
            0.3799457055391902,
            0.37801327834445797,
            0.4057746362330215,
            0.6033830832021647,
            0.6197419077931849,
            0.5537103419348252,
            0.5420820421051875,
            0.5265230315324626,
            0.4438348354545333,
            0.4378935954398935,
            0.41698137374805805,
            0.48350968577067555,
            0.38697310888979725,
            0.38027314417928976,
            0.5197968415071198,
            0.5834235491063761,
            0.5299276052046678,
            0.5235624947040056,
            0.6076098417487449,
            0.5066674765831987,
            0.3322768025698344,
            0.54239326652769,
            0.520768577021407,
            0.627009588632639,
            0.4408803340736147,
            0.3986614075835246,
            0.39075814993795194,
            0.41383358283760857,
            0.2474966582796037,
            0.5115645679621864,
            0.665705503023823,
            0.5616339829967276,
            0.5277616253515459,
            0.3553930415638732,
            0.2763690611525283
           ]
          }
         ],
         "name": "2012"
        },
        {
         "data": [
          {
           "coloraxis": "coloraxis",
           "geo": "geo",
           "hovertemplate": "year=2016<br>state_po=%{location}<br>pct_vote=%{z}<extra></extra>",
           "locationmode": "USA-states",
           "locations": [
            "AK",
            "AL",
            "AR",
            "AZ",
            "CA",
            "CO",
            "CT",
            "DC",
            "DE",
            "FL",
            "GA",
            "HI",
            "IA",
            "ID",
            "IL",
            "IN",
            "KS",
            "KY",
            "LA",
            "MA",
            "MD",
            "ME",
            "MI",
            "MN",
            "MO",
            "MS",
            "MT",
            "NC",
            "ND",
            "NE",
            "NH",
            "NJ",
            "NM",
            "NV",
            "NY",
            "OH",
            "OK",
            "OR",
            "PA",
            "RI",
            "SC",
            "SD",
            "TN",
            "TX",
            "UT",
            "VA",
            "VT",
            "WA",
            "WI",
            "WV",
            "WY"
           ],
           "name": "",
           "type": "choropleth",
           "z": [
            0.36550871290111986,
            0.3435794575797364,
            0.33653124129360934,
            0.45127654075817136,
            0.6172639960455788,
            0.48156980382847403,
            0.5456630109670987,
            0.9048388386787171,
            0.5335333680563419,
            0.4782331580580505,
            0.4563998335736082,
            0.6098079805512905,
            0.41752513445496237,
            0.27492013820979205,
            0.558253666987933,
            0.37774839686752043,
            0.36052370732234496,
            0.3268218833364776,
            0.3844956609851397,
            0.5905006509667129,
            0.6032854853195064,
            0.4634521409730895,
            0.4727453095086684,
            0.4644503396176695,
            0.3813523083523671,
            0.40114788271784096,
            0.35935218775150346,
            0.46172866168209475,
            0.27226739458706006,
            0.33698756377135536,
            0.46826262669690555,
            0.554530844496942,
            0.48255647178634103,
            0.4791782367811904,
            0.5613614259984896,
            0.4355807627672002,
            0.2893168028454389,
            0.5007185200286208,
            0.4785361616456285,
            0.5440660657037472,
            0.4067341978966509,
            0.3173742815994899,
            0.34716332798650096,
            0.4323525798101196,
            0.2746126859226901,
            0.49751352833417695,
            0.5572274212321393,
            0.5253868006182659,
            0.4645384137224266,
            0.26476928017771517,
            0.2162890087639303
           ]
          }
         ],
         "name": "2016"
        }
       ],
       "layout": {
        "coloraxis": {
         "colorbar": {
          "title": {
           "text": "pct_vote"
          }
         },
         "colorscale": [
          [
           0,
           "red"
          ],
          [
           0.5,
           "#5700c9"
          ],
          [
           1,
           "#0515a8"
          ]
         ]
        },
        "geo": {
         "center": {},
         "domain": {
          "x": [
           0,
           1
          ],
          "y": [
           0,
           1
          ]
         },
         "scope": "usa"
        },
        "legend": {
         "tracegroupgap": 0
        },
        "margin": {
         "t": 60
        },
        "sliders": [
         {
          "active": 0,
          "currentvalue": {
           "prefix": "year="
          },
          "len": 0.9,
          "pad": {
           "b": 10,
           "t": 60
          },
          "steps": [
           {
            "args": [
             [
              "1976"
             ],
             {
              "frame": {
               "duration": 0,
               "redraw": true
              },
              "fromcurrent": true,
              "mode": "immediate",
              "transition": {
               "duration": 0,
               "easing": "linear"
              }
             }
            ],
            "label": "1976",
            "method": "animate"
           },
           {
            "args": [
             [
              "1980"
             ],
             {
              "frame": {
               "duration": 0,
               "redraw": true
              },
              "fromcurrent": true,
              "mode": "immediate",
              "transition": {
               "duration": 0,
               "easing": "linear"
              }
             }
            ],
            "label": "1980",
            "method": "animate"
           },
           {
            "args": [
             [
              "1984"
             ],
             {
              "frame": {
               "duration": 0,
               "redraw": true
              },
              "fromcurrent": true,
              "mode": "immediate",
              "transition": {
               "duration": 0,
               "easing": "linear"
              }
             }
            ],
            "label": "1984",
            "method": "animate"
           },
           {
            "args": [
             [
              "1988"
             ],
             {
              "frame": {
               "duration": 0,
               "redraw": true
              },
              "fromcurrent": true,
              "mode": "immediate",
              "transition": {
               "duration": 0,
               "easing": "linear"
              }
             }
            ],
            "label": "1988",
            "method": "animate"
           },
           {
            "args": [
             [
              "1992"
             ],
             {
              "frame": {
               "duration": 0,
               "redraw": true
              },
              "fromcurrent": true,
              "mode": "immediate",
              "transition": {
               "duration": 0,
               "easing": "linear"
              }
             }
            ],
            "label": "1992",
            "method": "animate"
           },
           {
            "args": [
             [
              "1996"
             ],
             {
              "frame": {
               "duration": 0,
               "redraw": true
              },
              "fromcurrent": true,
              "mode": "immediate",
              "transition": {
               "duration": 0,
               "easing": "linear"
              }
             }
            ],
            "label": "1996",
            "method": "animate"
           },
           {
            "args": [
             [
              "2000"
             ],
             {
              "frame": {
               "duration": 0,
               "redraw": true
              },
              "fromcurrent": true,
              "mode": "immediate",
              "transition": {
               "duration": 0,
               "easing": "linear"
              }
             }
            ],
            "label": "2000",
            "method": "animate"
           },
           {
            "args": [
             [
              "2004"
             ],
             {
              "frame": {
               "duration": 0,
               "redraw": true
              },
              "fromcurrent": true,
              "mode": "immediate",
              "transition": {
               "duration": 0,
               "easing": "linear"
              }
             }
            ],
            "label": "2004",
            "method": "animate"
           },
           {
            "args": [
             [
              "2008"
             ],
             {
              "frame": {
               "duration": 0,
               "redraw": true
              },
              "fromcurrent": true,
              "mode": "immediate",
              "transition": {
               "duration": 0,
               "easing": "linear"
              }
             }
            ],
            "label": "2008",
            "method": "animate"
           },
           {
            "args": [
             [
              "2012"
             ],
             {
              "frame": {
               "duration": 0,
               "redraw": true
              },
              "fromcurrent": true,
              "mode": "immediate",
              "transition": {
               "duration": 0,
               "easing": "linear"
              }
             }
            ],
            "label": "2012",
            "method": "animate"
           },
           {
            "args": [
             [
              "2016"
             ],
             {
              "frame": {
               "duration": 0,
               "redraw": true
              },
              "fromcurrent": true,
              "mode": "immediate",
              "transition": {
               "duration": 0,
               "easing": "linear"
              }
             }
            ],
            "label": "2016",
            "method": "animate"
           }
          ],
          "x": 0.1,
          "xanchor": "left",
          "y": 0,
          "yanchor": "top"
         }
        ],
        "template": {
         "data": {
          "bar": [
           {
            "error_x": {
             "color": "#2a3f5f"
            },
            "error_y": {
             "color": "#2a3f5f"
            },
            "marker": {
             "line": {
              "color": "#E5ECF6",
              "width": 0.5
             }
            },
            "type": "bar"
           }
          ],
          "barpolar": [
           {
            "marker": {
             "line": {
              "color": "#E5ECF6",
              "width": 0.5
             }
            },
            "type": "barpolar"
           }
          ],
          "carpet": [
           {
            "aaxis": {
             "endlinecolor": "#2a3f5f",
             "gridcolor": "white",
             "linecolor": "white",
             "minorgridcolor": "white",
             "startlinecolor": "#2a3f5f"
            },
            "baxis": {
             "endlinecolor": "#2a3f5f",
             "gridcolor": "white",
             "linecolor": "white",
             "minorgridcolor": "white",
             "startlinecolor": "#2a3f5f"
            },
            "type": "carpet"
           }
          ],
          "choropleth": [
           {
            "colorbar": {
             "outlinewidth": 0,
             "ticks": ""
            },
            "type": "choropleth"
           }
          ],
          "contour": [
           {
            "colorbar": {
             "outlinewidth": 0,
             "ticks": ""
            },
            "colorscale": [
             [
              0,
              "#0d0887"
             ],
             [
              0.1111111111111111,
              "#46039f"
             ],
             [
              0.2222222222222222,
              "#7201a8"
             ],
             [
              0.3333333333333333,
              "#9c179e"
             ],
             [
              0.4444444444444444,
              "#bd3786"
             ],
             [
              0.5555555555555556,
              "#d8576b"
             ],
             [
              0.6666666666666666,
              "#ed7953"
             ],
             [
              0.7777777777777778,
              "#fb9f3a"
             ],
             [
              0.8888888888888888,
              "#fdca26"
             ],
             [
              1,
              "#f0f921"
             ]
            ],
            "type": "contour"
           }
          ],
          "contourcarpet": [
           {
            "colorbar": {
             "outlinewidth": 0,
             "ticks": ""
            },
            "type": "contourcarpet"
           }
          ],
          "heatmap": [
           {
            "colorbar": {
             "outlinewidth": 0,
             "ticks": ""
            },
            "colorscale": [
             [
              0,
              "#0d0887"
             ],
             [
              0.1111111111111111,
              "#46039f"
             ],
             [
              0.2222222222222222,
              "#7201a8"
             ],
             [
              0.3333333333333333,
              "#9c179e"
             ],
             [
              0.4444444444444444,
              "#bd3786"
             ],
             [
              0.5555555555555556,
              "#d8576b"
             ],
             [
              0.6666666666666666,
              "#ed7953"
             ],
             [
              0.7777777777777778,
              "#fb9f3a"
             ],
             [
              0.8888888888888888,
              "#fdca26"
             ],
             [
              1,
              "#f0f921"
             ]
            ],
            "type": "heatmap"
           }
          ],
          "heatmapgl": [
           {
            "colorbar": {
             "outlinewidth": 0,
             "ticks": ""
            },
            "colorscale": [
             [
              0,
              "#0d0887"
             ],
             [
              0.1111111111111111,
              "#46039f"
             ],
             [
              0.2222222222222222,
              "#7201a8"
             ],
             [
              0.3333333333333333,
              "#9c179e"
             ],
             [
              0.4444444444444444,
              "#bd3786"
             ],
             [
              0.5555555555555556,
              "#d8576b"
             ],
             [
              0.6666666666666666,
              "#ed7953"
             ],
             [
              0.7777777777777778,
              "#fb9f3a"
             ],
             [
              0.8888888888888888,
              "#fdca26"
             ],
             [
              1,
              "#f0f921"
             ]
            ],
            "type": "heatmapgl"
           }
          ],
          "histogram": [
           {
            "marker": {
             "colorbar": {
              "outlinewidth": 0,
              "ticks": ""
             }
            },
            "type": "histogram"
           }
          ],
          "histogram2d": [
           {
            "colorbar": {
             "outlinewidth": 0,
             "ticks": ""
            },
            "colorscale": [
             [
              0,
              "#0d0887"
             ],
             [
              0.1111111111111111,
              "#46039f"
             ],
             [
              0.2222222222222222,
              "#7201a8"
             ],
             [
              0.3333333333333333,
              "#9c179e"
             ],
             [
              0.4444444444444444,
              "#bd3786"
             ],
             [
              0.5555555555555556,
              "#d8576b"
             ],
             [
              0.6666666666666666,
              "#ed7953"
             ],
             [
              0.7777777777777778,
              "#fb9f3a"
             ],
             [
              0.8888888888888888,
              "#fdca26"
             ],
             [
              1,
              "#f0f921"
             ]
            ],
            "type": "histogram2d"
           }
          ],
          "histogram2dcontour": [
           {
            "colorbar": {
             "outlinewidth": 0,
             "ticks": ""
            },
            "colorscale": [
             [
              0,
              "#0d0887"
             ],
             [
              0.1111111111111111,
              "#46039f"
             ],
             [
              0.2222222222222222,
              "#7201a8"
             ],
             [
              0.3333333333333333,
              "#9c179e"
             ],
             [
              0.4444444444444444,
              "#bd3786"
             ],
             [
              0.5555555555555556,
              "#d8576b"
             ],
             [
              0.6666666666666666,
              "#ed7953"
             ],
             [
              0.7777777777777778,
              "#fb9f3a"
             ],
             [
              0.8888888888888888,
              "#fdca26"
             ],
             [
              1,
              "#f0f921"
             ]
            ],
            "type": "histogram2dcontour"
           }
          ],
          "mesh3d": [
           {
            "colorbar": {
             "outlinewidth": 0,
             "ticks": ""
            },
            "type": "mesh3d"
           }
          ],
          "parcoords": [
           {
            "line": {
             "colorbar": {
              "outlinewidth": 0,
              "ticks": ""
             }
            },
            "type": "parcoords"
           }
          ],
          "pie": [
           {
            "automargin": true,
            "type": "pie"
           }
          ],
          "scatter": [
           {
            "marker": {
             "colorbar": {
              "outlinewidth": 0,
              "ticks": ""
             }
            },
            "type": "scatter"
           }
          ],
          "scatter3d": [
           {
            "line": {
             "colorbar": {
              "outlinewidth": 0,
              "ticks": ""
             }
            },
            "marker": {
             "colorbar": {
              "outlinewidth": 0,
              "ticks": ""
             }
            },
            "type": "scatter3d"
           }
          ],
          "scattercarpet": [
           {
            "marker": {
             "colorbar": {
              "outlinewidth": 0,
              "ticks": ""
             }
            },
            "type": "scattercarpet"
           }
          ],
          "scattergeo": [
           {
            "marker": {
             "colorbar": {
              "outlinewidth": 0,
              "ticks": ""
             }
            },
            "type": "scattergeo"
           }
          ],
          "scattergl": [
           {
            "marker": {
             "colorbar": {
              "outlinewidth": 0,
              "ticks": ""
             }
            },
            "type": "scattergl"
           }
          ],
          "scattermapbox": [
           {
            "marker": {
             "colorbar": {
              "outlinewidth": 0,
              "ticks": ""
             }
            },
            "type": "scattermapbox"
           }
          ],
          "scatterpolar": [
           {
            "marker": {
             "colorbar": {
              "outlinewidth": 0,
              "ticks": ""
             }
            },
            "type": "scatterpolar"
           }
          ],
          "scatterpolargl": [
           {
            "marker": {
             "colorbar": {
              "outlinewidth": 0,
              "ticks": ""
             }
            },
            "type": "scatterpolargl"
           }
          ],
          "scatterternary": [
           {
            "marker": {
             "colorbar": {
              "outlinewidth": 0,
              "ticks": ""
             }
            },
            "type": "scatterternary"
           }
          ],
          "surface": [
           {
            "colorbar": {
             "outlinewidth": 0,
             "ticks": ""
            },
            "colorscale": [
             [
              0,
              "#0d0887"
             ],
             [
              0.1111111111111111,
              "#46039f"
             ],
             [
              0.2222222222222222,
              "#7201a8"
             ],
             [
              0.3333333333333333,
              "#9c179e"
             ],
             [
              0.4444444444444444,
              "#bd3786"
             ],
             [
              0.5555555555555556,
              "#d8576b"
             ],
             [
              0.6666666666666666,
              "#ed7953"
             ],
             [
              0.7777777777777778,
              "#fb9f3a"
             ],
             [
              0.8888888888888888,
              "#fdca26"
             ],
             [
              1,
              "#f0f921"
             ]
            ],
            "type": "surface"
           }
          ],
          "table": [
           {
            "cells": {
             "fill": {
              "color": "#EBF0F8"
             },
             "line": {
              "color": "white"
             }
            },
            "header": {
             "fill": {
              "color": "#C8D4E3"
             },
             "line": {
              "color": "white"
             }
            },
            "type": "table"
           }
          ]
         },
         "layout": {
          "annotationdefaults": {
           "arrowcolor": "#2a3f5f",
           "arrowhead": 0,
           "arrowwidth": 1
          },
          "coloraxis": {
           "colorbar": {
            "outlinewidth": 0,
            "ticks": ""
           }
          },
          "colorscale": {
           "diverging": [
            [
             0,
             "#8e0152"
            ],
            [
             0.1,
             "#c51b7d"
            ],
            [
             0.2,
             "#de77ae"
            ],
            [
             0.3,
             "#f1b6da"
            ],
            [
             0.4,
             "#fde0ef"
            ],
            [
             0.5,
             "#f7f7f7"
            ],
            [
             0.6,
             "#e6f5d0"
            ],
            [
             0.7,
             "#b8e186"
            ],
            [
             0.8,
             "#7fbc41"
            ],
            [
             0.9,
             "#4d9221"
            ],
            [
             1,
             "#276419"
            ]
           ],
           "sequential": [
            [
             0,
             "#0d0887"
            ],
            [
             0.1111111111111111,
             "#46039f"
            ],
            [
             0.2222222222222222,
             "#7201a8"
            ],
            [
             0.3333333333333333,
             "#9c179e"
            ],
            [
             0.4444444444444444,
             "#bd3786"
            ],
            [
             0.5555555555555556,
             "#d8576b"
            ],
            [
             0.6666666666666666,
             "#ed7953"
            ],
            [
             0.7777777777777778,
             "#fb9f3a"
            ],
            [
             0.8888888888888888,
             "#fdca26"
            ],
            [
             1,
             "#f0f921"
            ]
           ],
           "sequentialminus": [
            [
             0,
             "#0d0887"
            ],
            [
             0.1111111111111111,
             "#46039f"
            ],
            [
             0.2222222222222222,
             "#7201a8"
            ],
            [
             0.3333333333333333,
             "#9c179e"
            ],
            [
             0.4444444444444444,
             "#bd3786"
            ],
            [
             0.5555555555555556,
             "#d8576b"
            ],
            [
             0.6666666666666666,
             "#ed7953"
            ],
            [
             0.7777777777777778,
             "#fb9f3a"
            ],
            [
             0.8888888888888888,
             "#fdca26"
            ],
            [
             1,
             "#f0f921"
            ]
           ]
          },
          "colorway": [
           "#636efa",
           "#EF553B",
           "#00cc96",
           "#ab63fa",
           "#FFA15A",
           "#19d3f3",
           "#FF6692",
           "#B6E880",
           "#FF97FF",
           "#FECB52"
          ],
          "font": {
           "color": "#2a3f5f"
          },
          "geo": {
           "bgcolor": "white",
           "lakecolor": "white",
           "landcolor": "#E5ECF6",
           "showlakes": true,
           "showland": true,
           "subunitcolor": "white"
          },
          "hoverlabel": {
           "align": "left"
          },
          "hovermode": "closest",
          "mapbox": {
           "style": "light"
          },
          "paper_bgcolor": "white",
          "plot_bgcolor": "#E5ECF6",
          "polar": {
           "angularaxis": {
            "gridcolor": "white",
            "linecolor": "white",
            "ticks": ""
           },
           "bgcolor": "#E5ECF6",
           "radialaxis": {
            "gridcolor": "white",
            "linecolor": "white",
            "ticks": ""
           }
          },
          "scene": {
           "xaxis": {
            "backgroundcolor": "#E5ECF6",
            "gridcolor": "white",
            "gridwidth": 2,
            "linecolor": "white",
            "showbackground": true,
            "ticks": "",
            "zerolinecolor": "white"
           },
           "yaxis": {
            "backgroundcolor": "#E5ECF6",
            "gridcolor": "white",
            "gridwidth": 2,
            "linecolor": "white",
            "showbackground": true,
            "ticks": "",
            "zerolinecolor": "white"
           },
           "zaxis": {
            "backgroundcolor": "#E5ECF6",
            "gridcolor": "white",
            "gridwidth": 2,
            "linecolor": "white",
            "showbackground": true,
            "ticks": "",
            "zerolinecolor": "white"
           }
          },
          "shapedefaults": {
           "line": {
            "color": "#2a3f5f"
           }
          },
          "ternary": {
           "aaxis": {
            "gridcolor": "white",
            "linecolor": "white",
            "ticks": ""
           },
           "baxis": {
            "gridcolor": "white",
            "linecolor": "white",
            "ticks": ""
           },
           "bgcolor": "#E5ECF6",
           "caxis": {
            "gridcolor": "white",
            "linecolor": "white",
            "ticks": ""
           }
          },
          "title": {
           "x": 0.05
          },
          "xaxis": {
           "automargin": true,
           "gridcolor": "white",
           "linecolor": "white",
           "ticks": "",
           "title": {
            "standoff": 15
           },
           "zerolinecolor": "white",
           "zerolinewidth": 2
          },
          "yaxis": {
           "automargin": true,
           "gridcolor": "white",
           "linecolor": "white",
           "ticks": "",
           "title": {
            "standoff": 15
           },
           "zerolinecolor": "white",
           "zerolinewidth": 2
          }
         }
        },
        "updatemenus": [
         {
          "buttons": [
           {
            "args": [
             null,
             {
              "frame": {
               "duration": 500,
               "redraw": true
              },
              "fromcurrent": true,
              "mode": "immediate",
              "transition": {
               "duration": 500,
               "easing": "linear"
              }
             }
            ],
            "label": "&#9654;",
            "method": "animate"
           },
           {
            "args": [
             [
              null
             ],
             {
              "frame": {
               "duration": 0,
               "redraw": true
              },
              "fromcurrent": true,
              "mode": "immediate",
              "transition": {
               "duration": 0,
               "easing": "linear"
              }
             }
            ],
            "label": "&#9724;",
            "method": "animate"
           }
          ],
          "direction": "left",
          "pad": {
           "r": 10,
           "t": 70
          },
          "showactive": false,
          "type": "buttons",
          "x": 0.1,
          "xanchor": "right",
          "y": 0,
          "yanchor": "top"
         }
        ]
       }
      },
      "text/html": [
       "<div>                            <div id=\"a238e486-4a07-4e86-ab98-7e6a9f7d0fe0\" class=\"plotly-graph-div\" style=\"height:525px; width:100%;\"></div>            <script type=\"text/javascript\">                require([\"plotly\"], function(Plotly) {                    window.PLOTLYENV=window.PLOTLYENV || {};                                    if (document.getElementById(\"a238e486-4a07-4e86-ab98-7e6a9f7d0fe0\")) {                    Plotly.newPlot(                        \"a238e486-4a07-4e86-ab98-7e6a9f7d0fe0\",                        [{\"coloraxis\": \"coloraxis\", \"geo\": \"geo\", \"hovertemplate\": \"year=1976<br>state_po=%{location}<br>pct_vote=%{z}<extra></extra>\", \"locationmode\": \"USA-states\", \"locations\": [\"AK\", \"AL\", \"AR\", \"AZ\", \"CA\", \"CO\", \"CT\", \"DC\", \"DE\", \"FL\", \"GA\", \"HI\", \"IA\", \"ID\", \"IL\", \"IN\", \"KS\", \"KY\", \"LA\", \"MA\", \"MD\", \"ME\", \"MI\", \"MN\", \"MO\", \"MS\", \"MT\", \"NC\", \"ND\", \"NE\", \"NH\", \"NJ\", \"NM\", \"NV\", \"NY\", \"OH\", \"OK\", \"OR\", \"PA\", \"RI\", \"SC\", \"SD\", \"TN\", \"TX\", \"UT\", \"VA\", \"VT\", \"WA\", \"WI\", \"WV\", \"WY\"], \"name\": \"\", \"type\": \"choropleth\", \"z\": [0.3565313091750692, 0.5572726888447394, 0.6496172812966184, 0.39799978188251545, 0.47954821836112543, 0.4260994599792869, 0.46733700964038793, 0.8163122667772316, 0.5196908870235357, 0.5192610623078361, 0.6693829485931742, 0.5059199934088795, 0.48458496540694423, 0.37118545633733413, 0.48107590268914247, 0.45700385792947273, 0.44936393675385894, 0.5275424926872652, 0.5177499622274604, 0.5611157822510813, 0.5303541992343639, 0.480940766261947, 0.46465074118397737, 0.5489630145887213, 0.5110498566748567, 0.4962701232447065, 0.4540418697183741, 0.5526918671248569, 0.4577004318753616, 0.38449671940126806, 0.43472692100451377, 0.4792391503387658, 0.4828440433039679, 0.4580980403812241, 0.4865083285569763, 0.4889868666639419, 0.48747220190231, 0.47618062757069785, 0.5039567935072532, 0.5544200455935935, 0.5616951766982355, 0.48912125263570994, 0.5594074830696869, 0.511389568072175, 0.3364817873758818, 0.47958215632133516, 0.42304053245750456, 0.46114260440466104, 0.4950336357441171, 0.5806951864533234, 0.39809265525159426]}],                        {\"coloraxis\": {\"colorbar\": {\"title\": {\"text\": \"pct_vote\"}}, \"colorscale\": [[0.0, \"red\"], [0.5, \"#5700c9\"], [1, \"#0515a8\"]]}, \"geo\": {\"center\": {}, \"domain\": {\"x\": [0.0, 1.0], \"y\": [0.0, 1.0]}, \"scope\": \"usa\"}, \"legend\": {\"tracegroupgap\": 0}, \"margin\": {\"t\": 60}, \"sliders\": [{\"active\": 0, \"currentvalue\": {\"prefix\": \"year=\"}, \"len\": 0.9, \"pad\": {\"b\": 10, \"t\": 60}, \"steps\": [{\"args\": [[\"1976\"], {\"frame\": {\"duration\": 0, \"redraw\": true}, \"fromcurrent\": true, \"mode\": \"immediate\", \"transition\": {\"duration\": 0, \"easing\": \"linear\"}}], \"label\": \"1976\", \"method\": \"animate\"}, {\"args\": [[\"1980\"], {\"frame\": {\"duration\": 0, \"redraw\": true}, \"fromcurrent\": true, \"mode\": \"immediate\", \"transition\": {\"duration\": 0, \"easing\": \"linear\"}}], \"label\": \"1980\", \"method\": \"animate\"}, {\"args\": [[\"1984\"], {\"frame\": {\"duration\": 0, \"redraw\": true}, \"fromcurrent\": true, \"mode\": \"immediate\", \"transition\": {\"duration\": 0, \"easing\": \"linear\"}}], \"label\": \"1984\", \"method\": \"animate\"}, {\"args\": [[\"1988\"], {\"frame\": {\"duration\": 0, \"redraw\": true}, \"fromcurrent\": true, \"mode\": \"immediate\", \"transition\": {\"duration\": 0, \"easing\": \"linear\"}}], \"label\": \"1988\", \"method\": \"animate\"}, {\"args\": [[\"1992\"], {\"frame\": {\"duration\": 0, \"redraw\": true}, \"fromcurrent\": true, \"mode\": \"immediate\", \"transition\": {\"duration\": 0, \"easing\": \"linear\"}}], \"label\": \"1992\", \"method\": \"animate\"}, {\"args\": [[\"1996\"], {\"frame\": {\"duration\": 0, \"redraw\": true}, \"fromcurrent\": true, \"mode\": \"immediate\", \"transition\": {\"duration\": 0, \"easing\": \"linear\"}}], \"label\": \"1996\", \"method\": \"animate\"}, {\"args\": [[\"2000\"], {\"frame\": {\"duration\": 0, \"redraw\": true}, \"fromcurrent\": true, \"mode\": \"immediate\", \"transition\": {\"duration\": 0, \"easing\": \"linear\"}}], \"label\": \"2000\", \"method\": \"animate\"}, {\"args\": [[\"2004\"], {\"frame\": {\"duration\": 0, \"redraw\": true}, \"fromcurrent\": true, \"mode\": \"immediate\", \"transition\": {\"duration\": 0, \"easing\": \"linear\"}}], \"label\": \"2004\", \"method\": \"animate\"}, {\"args\": [[\"2008\"], {\"frame\": {\"duration\": 0, \"redraw\": true}, \"fromcurrent\": true, \"mode\": \"immediate\", \"transition\": {\"duration\": 0, \"easing\": \"linear\"}}], \"label\": \"2008\", \"method\": \"animate\"}, {\"args\": [[\"2012\"], {\"frame\": {\"duration\": 0, \"redraw\": true}, \"fromcurrent\": true, \"mode\": \"immediate\", \"transition\": {\"duration\": 0, \"easing\": \"linear\"}}], \"label\": \"2012\", \"method\": \"animate\"}, {\"args\": [[\"2016\"], {\"frame\": {\"duration\": 0, \"redraw\": true}, \"fromcurrent\": true, \"mode\": \"immediate\", \"transition\": {\"duration\": 0, \"easing\": \"linear\"}}], \"label\": \"2016\", \"method\": \"animate\"}], \"x\": 0.1, \"xanchor\": \"left\", \"y\": 0, \"yanchor\": \"top\"}], \"template\": {\"data\": {\"bar\": [{\"error_x\": {\"color\": \"#2a3f5f\"}, \"error_y\": {\"color\": \"#2a3f5f\"}, \"marker\": {\"line\": {\"color\": \"#E5ECF6\", \"width\": 0.5}}, \"type\": \"bar\"}], \"barpolar\": [{\"marker\": {\"line\": {\"color\": \"#E5ECF6\", \"width\": 0.5}}, \"type\": \"barpolar\"}], \"carpet\": [{\"aaxis\": {\"endlinecolor\": \"#2a3f5f\", \"gridcolor\": \"white\", \"linecolor\": \"white\", \"minorgridcolor\": \"white\", \"startlinecolor\": \"#2a3f5f\"}, \"baxis\": {\"endlinecolor\": \"#2a3f5f\", \"gridcolor\": \"white\", \"linecolor\": \"white\", \"minorgridcolor\": \"white\", \"startlinecolor\": \"#2a3f5f\"}, \"type\": \"carpet\"}], \"choropleth\": [{\"colorbar\": {\"outlinewidth\": 0, \"ticks\": \"\"}, \"type\": \"choropleth\"}], \"contour\": [{\"colorbar\": {\"outlinewidth\": 0, \"ticks\": \"\"}, \"colorscale\": [[0.0, \"#0d0887\"], [0.1111111111111111, \"#46039f\"], [0.2222222222222222, \"#7201a8\"], [0.3333333333333333, \"#9c179e\"], [0.4444444444444444, \"#bd3786\"], [0.5555555555555556, \"#d8576b\"], [0.6666666666666666, \"#ed7953\"], [0.7777777777777778, \"#fb9f3a\"], [0.8888888888888888, \"#fdca26\"], [1.0, \"#f0f921\"]], \"type\": \"contour\"}], \"contourcarpet\": [{\"colorbar\": {\"outlinewidth\": 0, \"ticks\": \"\"}, \"type\": \"contourcarpet\"}], \"heatmap\": [{\"colorbar\": {\"outlinewidth\": 0, \"ticks\": \"\"}, \"colorscale\": [[0.0, \"#0d0887\"], [0.1111111111111111, \"#46039f\"], [0.2222222222222222, \"#7201a8\"], [0.3333333333333333, \"#9c179e\"], [0.4444444444444444, \"#bd3786\"], [0.5555555555555556, \"#d8576b\"], [0.6666666666666666, \"#ed7953\"], [0.7777777777777778, \"#fb9f3a\"], [0.8888888888888888, \"#fdca26\"], [1.0, \"#f0f921\"]], \"type\": \"heatmap\"}], \"heatmapgl\": [{\"colorbar\": {\"outlinewidth\": 0, \"ticks\": \"\"}, \"colorscale\": [[0.0, \"#0d0887\"], [0.1111111111111111, \"#46039f\"], [0.2222222222222222, \"#7201a8\"], [0.3333333333333333, \"#9c179e\"], [0.4444444444444444, \"#bd3786\"], [0.5555555555555556, \"#d8576b\"], [0.6666666666666666, \"#ed7953\"], [0.7777777777777778, \"#fb9f3a\"], [0.8888888888888888, \"#fdca26\"], [1.0, \"#f0f921\"]], \"type\": \"heatmapgl\"}], \"histogram\": [{\"marker\": {\"colorbar\": {\"outlinewidth\": 0, \"ticks\": \"\"}}, \"type\": \"histogram\"}], \"histogram2d\": [{\"colorbar\": {\"outlinewidth\": 0, \"ticks\": \"\"}, \"colorscale\": [[0.0, \"#0d0887\"], [0.1111111111111111, \"#46039f\"], [0.2222222222222222, \"#7201a8\"], [0.3333333333333333, \"#9c179e\"], [0.4444444444444444, \"#bd3786\"], [0.5555555555555556, \"#d8576b\"], [0.6666666666666666, \"#ed7953\"], [0.7777777777777778, \"#fb9f3a\"], [0.8888888888888888, \"#fdca26\"], [1.0, \"#f0f921\"]], \"type\": \"histogram2d\"}], \"histogram2dcontour\": [{\"colorbar\": {\"outlinewidth\": 0, \"ticks\": \"\"}, \"colorscale\": [[0.0, \"#0d0887\"], [0.1111111111111111, \"#46039f\"], [0.2222222222222222, \"#7201a8\"], [0.3333333333333333, \"#9c179e\"], [0.4444444444444444, \"#bd3786\"], [0.5555555555555556, \"#d8576b\"], [0.6666666666666666, \"#ed7953\"], [0.7777777777777778, \"#fb9f3a\"], [0.8888888888888888, \"#fdca26\"], [1.0, \"#f0f921\"]], \"type\": \"histogram2dcontour\"}], \"mesh3d\": [{\"colorbar\": {\"outlinewidth\": 0, \"ticks\": \"\"}, \"type\": \"mesh3d\"}], \"parcoords\": [{\"line\": {\"colorbar\": {\"outlinewidth\": 0, \"ticks\": \"\"}}, \"type\": \"parcoords\"}], \"pie\": [{\"automargin\": true, \"type\": \"pie\"}], \"scatter\": [{\"marker\": {\"colorbar\": {\"outlinewidth\": 0, \"ticks\": \"\"}}, \"type\": \"scatter\"}], \"scatter3d\": [{\"line\": {\"colorbar\": {\"outlinewidth\": 0, \"ticks\": \"\"}}, \"marker\": {\"colorbar\": {\"outlinewidth\": 0, \"ticks\": \"\"}}, \"type\": \"scatter3d\"}], \"scattercarpet\": [{\"marker\": {\"colorbar\": {\"outlinewidth\": 0, \"ticks\": \"\"}}, \"type\": \"scattercarpet\"}], \"scattergeo\": [{\"marker\": {\"colorbar\": {\"outlinewidth\": 0, \"ticks\": \"\"}}, \"type\": \"scattergeo\"}], \"scattergl\": [{\"marker\": {\"colorbar\": {\"outlinewidth\": 0, \"ticks\": \"\"}}, \"type\": \"scattergl\"}], \"scattermapbox\": [{\"marker\": {\"colorbar\": {\"outlinewidth\": 0, \"ticks\": \"\"}}, \"type\": \"scattermapbox\"}], \"scatterpolar\": [{\"marker\": {\"colorbar\": {\"outlinewidth\": 0, \"ticks\": \"\"}}, \"type\": \"scatterpolar\"}], \"scatterpolargl\": [{\"marker\": {\"colorbar\": {\"outlinewidth\": 0, \"ticks\": \"\"}}, \"type\": \"scatterpolargl\"}], \"scatterternary\": [{\"marker\": {\"colorbar\": {\"outlinewidth\": 0, \"ticks\": \"\"}}, \"type\": \"scatterternary\"}], \"surface\": [{\"colorbar\": {\"outlinewidth\": 0, \"ticks\": \"\"}, \"colorscale\": [[0.0, \"#0d0887\"], [0.1111111111111111, \"#46039f\"], [0.2222222222222222, \"#7201a8\"], [0.3333333333333333, \"#9c179e\"], [0.4444444444444444, \"#bd3786\"], [0.5555555555555556, \"#d8576b\"], [0.6666666666666666, \"#ed7953\"], [0.7777777777777778, \"#fb9f3a\"], [0.8888888888888888, \"#fdca26\"], [1.0, \"#f0f921\"]], \"type\": \"surface\"}], \"table\": [{\"cells\": {\"fill\": {\"color\": \"#EBF0F8\"}, \"line\": {\"color\": \"white\"}}, \"header\": {\"fill\": {\"color\": \"#C8D4E3\"}, \"line\": {\"color\": \"white\"}}, \"type\": \"table\"}]}, \"layout\": {\"annotationdefaults\": {\"arrowcolor\": \"#2a3f5f\", \"arrowhead\": 0, \"arrowwidth\": 1}, \"coloraxis\": {\"colorbar\": {\"outlinewidth\": 0, \"ticks\": \"\"}}, \"colorscale\": {\"diverging\": [[0, \"#8e0152\"], [0.1, \"#c51b7d\"], [0.2, \"#de77ae\"], [0.3, \"#f1b6da\"], [0.4, \"#fde0ef\"], [0.5, \"#f7f7f7\"], [0.6, \"#e6f5d0\"], [0.7, \"#b8e186\"], [0.8, \"#7fbc41\"], [0.9, \"#4d9221\"], [1, \"#276419\"]], \"sequential\": [[0.0, \"#0d0887\"], [0.1111111111111111, \"#46039f\"], [0.2222222222222222, \"#7201a8\"], [0.3333333333333333, \"#9c179e\"], [0.4444444444444444, \"#bd3786\"], [0.5555555555555556, \"#d8576b\"], [0.6666666666666666, \"#ed7953\"], [0.7777777777777778, \"#fb9f3a\"], [0.8888888888888888, \"#fdca26\"], [1.0, \"#f0f921\"]], \"sequentialminus\": [[0.0, \"#0d0887\"], [0.1111111111111111, \"#46039f\"], [0.2222222222222222, \"#7201a8\"], [0.3333333333333333, \"#9c179e\"], [0.4444444444444444, \"#bd3786\"], [0.5555555555555556, \"#d8576b\"], [0.6666666666666666, \"#ed7953\"], [0.7777777777777778, \"#fb9f3a\"], [0.8888888888888888, \"#fdca26\"], [1.0, \"#f0f921\"]]}, \"colorway\": [\"#636efa\", \"#EF553B\", \"#00cc96\", \"#ab63fa\", \"#FFA15A\", \"#19d3f3\", \"#FF6692\", \"#B6E880\", \"#FF97FF\", \"#FECB52\"], \"font\": {\"color\": \"#2a3f5f\"}, \"geo\": {\"bgcolor\": \"white\", \"lakecolor\": \"white\", \"landcolor\": \"#E5ECF6\", \"showlakes\": true, \"showland\": true, \"subunitcolor\": \"white\"}, \"hoverlabel\": {\"align\": \"left\"}, \"hovermode\": \"closest\", \"mapbox\": {\"style\": \"light\"}, \"paper_bgcolor\": \"white\", \"plot_bgcolor\": \"#E5ECF6\", \"polar\": {\"angularaxis\": {\"gridcolor\": \"white\", \"linecolor\": \"white\", \"ticks\": \"\"}, \"bgcolor\": \"#E5ECF6\", \"radialaxis\": {\"gridcolor\": \"white\", \"linecolor\": \"white\", \"ticks\": \"\"}}, \"scene\": {\"xaxis\": {\"backgroundcolor\": \"#E5ECF6\", \"gridcolor\": \"white\", \"gridwidth\": 2, \"linecolor\": \"white\", \"showbackground\": true, \"ticks\": \"\", \"zerolinecolor\": \"white\"}, \"yaxis\": {\"backgroundcolor\": \"#E5ECF6\", \"gridcolor\": \"white\", \"gridwidth\": 2, \"linecolor\": \"white\", \"showbackground\": true, \"ticks\": \"\", \"zerolinecolor\": \"white\"}, \"zaxis\": {\"backgroundcolor\": \"#E5ECF6\", \"gridcolor\": \"white\", \"gridwidth\": 2, \"linecolor\": \"white\", \"showbackground\": true, \"ticks\": \"\", \"zerolinecolor\": \"white\"}}, \"shapedefaults\": {\"line\": {\"color\": \"#2a3f5f\"}}, \"ternary\": {\"aaxis\": {\"gridcolor\": \"white\", \"linecolor\": \"white\", \"ticks\": \"\"}, \"baxis\": {\"gridcolor\": \"white\", \"linecolor\": \"white\", \"ticks\": \"\"}, \"bgcolor\": \"#E5ECF6\", \"caxis\": {\"gridcolor\": \"white\", \"linecolor\": \"white\", \"ticks\": \"\"}}, \"title\": {\"x\": 0.05}, \"xaxis\": {\"automargin\": true, \"gridcolor\": \"white\", \"linecolor\": \"white\", \"ticks\": \"\", \"title\": {\"standoff\": 15}, \"zerolinecolor\": \"white\", \"zerolinewidth\": 2}, \"yaxis\": {\"automargin\": true, \"gridcolor\": \"white\", \"linecolor\": \"white\", \"ticks\": \"\", \"title\": {\"standoff\": 15}, \"zerolinecolor\": \"white\", \"zerolinewidth\": 2}}}, \"updatemenus\": [{\"buttons\": [{\"args\": [null, {\"frame\": {\"duration\": 500, \"redraw\": true}, \"fromcurrent\": true, \"mode\": \"immediate\", \"transition\": {\"duration\": 500, \"easing\": \"linear\"}}], \"label\": \"&#9654;\", \"method\": \"animate\"}, {\"args\": [[null], {\"frame\": {\"duration\": 0, \"redraw\": true}, \"fromcurrent\": true, \"mode\": \"immediate\", \"transition\": {\"duration\": 0, \"easing\": \"linear\"}}], \"label\": \"&#9724;\", \"method\": \"animate\"}], \"direction\": \"left\", \"pad\": {\"r\": 10, \"t\": 70}, \"showactive\": false, \"type\": \"buttons\", \"x\": 0.1, \"xanchor\": \"right\", \"y\": 0, \"yanchor\": \"top\"}]},                        {\"responsive\": true}                    ).then(function(){\n",
       "                            Plotly.addFrames('a238e486-4a07-4e86-ab98-7e6a9f7d0fe0', [{\"data\": [{\"coloraxis\": \"coloraxis\", \"geo\": \"geo\", \"hovertemplate\": \"year=1976<br>state_po=%{location}<br>pct_vote=%{z}<extra></extra>\", \"locationmode\": \"USA-states\", \"locations\": [\"AK\", \"AL\", \"AR\", \"AZ\", \"CA\", \"CO\", \"CT\", \"DC\", \"DE\", \"FL\", \"GA\", \"HI\", \"IA\", \"ID\", \"IL\", \"IN\", \"KS\", \"KY\", \"LA\", \"MA\", \"MD\", \"ME\", \"MI\", \"MN\", \"MO\", \"MS\", \"MT\", \"NC\", \"ND\", \"NE\", \"NH\", \"NJ\", \"NM\", \"NV\", \"NY\", \"OH\", \"OK\", \"OR\", \"PA\", \"RI\", \"SC\", \"SD\", \"TN\", \"TX\", \"UT\", \"VA\", \"VT\", \"WA\", \"WI\", \"WV\", \"WY\"], \"name\": \"\", \"z\": [0.3565313091750692, 0.5572726888447394, 0.6496172812966184, 0.39799978188251545, 0.47954821836112543, 0.4260994599792869, 0.46733700964038793, 0.8163122667772316, 0.5196908870235357, 0.5192610623078361, 0.6693829485931742, 0.5059199934088795, 0.48458496540694423, 0.37118545633733413, 0.48107590268914247, 0.45700385792947273, 0.44936393675385894, 0.5275424926872652, 0.5177499622274604, 0.5611157822510813, 0.5303541992343639, 0.480940766261947, 0.46465074118397737, 0.5489630145887213, 0.5110498566748567, 0.4962701232447065, 0.4540418697183741, 0.5526918671248569, 0.4577004318753616, 0.38449671940126806, 0.43472692100451377, 0.4792391503387658, 0.4828440433039679, 0.4580980403812241, 0.4865083285569763, 0.4889868666639419, 0.48747220190231, 0.47618062757069785, 0.5039567935072532, 0.5544200455935935, 0.5616951766982355, 0.48912125263570994, 0.5594074830696869, 0.511389568072175, 0.3364817873758818, 0.47958215632133516, 0.42304053245750456, 0.46114260440466104, 0.4950336357441171, 0.5806951864533234, 0.39809265525159426], \"type\": \"choropleth\"}], \"name\": \"1976\"}, {\"data\": [{\"coloraxis\": \"coloraxis\", \"geo\": \"geo\", \"hovertemplate\": \"year=1980<br>state_po=%{location}<br>pct_vote=%{z}<extra></extra>\", \"locationmode\": \"USA-states\", \"locations\": [\"AK\", \"AL\", \"AR\", \"AZ\", \"CA\", \"CO\", \"CT\", \"DC\", \"DE\", \"FL\", \"GA\", \"HI\", \"IA\", \"ID\", \"IL\", \"IN\", \"KS\", \"KY\", \"LA\", \"MA\", \"MD\", \"ME\", \"MI\", \"MN\", \"MO\", \"MS\", \"MT\", \"NC\", \"ND\", \"NE\", \"NH\", \"NJ\", \"NM\", \"NV\", \"NY\", \"OH\", \"OK\", \"OR\", \"PA\", \"RI\", \"SC\", \"SD\", \"TN\", \"TX\", \"UT\", \"VA\", \"VT\", \"WA\", \"WI\", \"WV\", \"WY\"], \"name\": \"\", \"z\": [0.2640790179557575, 0.47448859067804633, 0.4752263062004675, 0.28244683589928427, 0.35919436910764124, 0.3107003250453797, 0.3852220566954778, 0.7489317898199426, 0.4487414498362103, 0.38500219830769633, 0.5579610534786652, 0.4480211812573569, 0.3860416298273987, 0.25190715792890767, 0.41716408184817594, 0.3765319243739945, 0.33287575462214036, 0.4765391582608266, 0.45748231779727505, 0.41749779128319514, 0.4713812953749961, 0.42250354199051265, 0.42497413500949555, 0.4650156244212726, 0.4434571659339068, 0.48139164564059433, 0.32430650195630195, 0.47182855353903075, 0.262985029025359, 0.2602273846697512, 0.28350738300476575, 0.3855799204485422, 0.36784828937591646, 0.2735666332912037, 0.4399209991552669, 0.40909813537809175, 0.3496766135401337, 0.3866981065004621, 0.4247593062020594, 0.4768214786269103, 0.4820896631384125, 0.3169180630021696, 0.4840771851910466, 0.414200301389191, 0.20568664839311962, 0.40308740686118993, 0.3842118340920492, 0.3731607202504141, 0.4318031550825899, 0.49810834807479853, 0.27970211586018007], \"type\": \"choropleth\"}], \"name\": \"1980\"}, {\"data\": [{\"coloraxis\": \"coloraxis\", \"geo\": \"geo\", \"hovertemplate\": \"year=1984<br>state_po=%{location}<br>pct_vote=%{z}<extra></extra>\", \"locationmode\": \"USA-states\", \"locations\": [\"AK\", \"AL\", \"AR\", \"AZ\", \"CA\", \"CO\", \"CT\", \"DC\", \"DE\", \"FL\", \"GA\", \"HI\", \"IA\", \"ID\", \"IL\", \"IN\", \"KS\", \"KY\", \"LA\", \"MA\", \"MD\", \"ME\", \"MI\", \"MN\", \"MO\", \"MS\", \"MT\", \"NC\", \"ND\", \"NE\", \"NH\", \"NJ\", \"NM\", \"NV\", \"NY\", \"OH\", \"OK\", \"OR\", \"PA\", \"RI\", \"SC\", \"SD\", \"TN\", \"TX\", \"UT\", \"VA\", \"VT\", \"WA\", \"WI\", \"WV\", \"WY\"], \"name\": \"\", \"z\": [0.29867777751017555, 0.38280781265064545, 0.38290785001458605, 0.32542643169830887, 0.41267775699231596, 0.3512289830011271, 0.3882998159383734, 0.853848775131574, 0.3993212136448627, 0.3466024696827862, 0.3978530524412154, 0.43815915627996166, 0.4588708180375131, 0.2639221294728854, 0.43296553206747834, 0.3768271378985602, 0.32598036577621525, 0.39401246581394755, 0.38175392630280136, 0.4843378267340214, 0.4701639086016661, 0.3878104074165136, 0.4023607594370667, 0.49718846563288427, 0.39975249332122964, 0.3742328159268264, 0.381765818454278, 0.37891963678672186, 0.33798964951403204, 0.28809826864389887, 0.30945168987719335, 0.3919754793710855, 0.392264323347007, 0.32419345140193195, 0.4409238688901262, 0.40003199484576185, 0.30667146620625063, 0.43739681230009614, 0.45989176666694875, 0.4801736465532572, 0.3556517151267541, 0.365287997810405, 0.4157224941924412, 0.36113948292667203, 0.246752194849251, 0.3709293848278818, 0.408124112704158, 0.42580817212559535, 0.4502170060980545, 0.44597834567008543, 0.28242877100884806], \"type\": \"choropleth\"}], \"name\": \"1984\"}, {\"data\": [{\"coloraxis\": \"coloraxis\", \"geo\": \"geo\", \"hovertemplate\": \"year=1988<br>state_po=%{location}<br>pct_vote=%{z}<extra></extra>\", \"locationmode\": \"USA-states\", \"locations\": [\"AK\", \"AL\", \"AR\", \"AZ\", \"CA\", \"CO\", \"CT\", \"DC\", \"DE\", \"FL\", \"GA\", \"HI\", \"IA\", \"ID\", \"IL\", \"IN\", \"KS\", \"KY\", \"LA\", \"MA\", \"MD\", \"ME\", \"MI\", \"MN\", \"MO\", \"MS\", \"MT\", \"NC\", \"ND\", \"NE\", \"NH\", \"NJ\", \"NM\", \"NV\", \"NY\", \"OH\", \"OK\", \"OR\", \"PA\", \"RI\", \"SC\", \"SD\", \"TN\", \"TX\", \"UT\", \"VA\", \"VT\", \"WA\", \"WI\", \"WV\", \"WY\"], \"name\": \"\", \"z\": [0.362709628415519, 0.39863298309147205, 0.4219173216645847, 0.387438741228785, 0.4755944256460335, 0.45282404324122666, 0.4687451936200372, 0.8264697190437429, 0.4347775630174756, 0.3850721693191546, 0.394984284444916, 0.5426944007944456, 0.5471192398259158, 0.36010641419377554, 0.4860455526505115, 0.39686187674102574, 0.4255964488985382, 0.4388359469103233, 0.4406455710040892, 0.5322905149306765, 0.48199034274054775, 0.4388353887592674, 0.4567207834593339, 0.5291283342633263, 0.4785044916272857, 0.39067144591622144, 0.46198526556440983, 0.41706311464272827, 0.429720010361265, 0.39191038074576884, 0.36334498640475, 0.4259814237730408, 0.4689357425482415, 0.38684125397440644, 0.5019497561012464, 0.4414684136075665, 0.41281651460757823, 0.5127811239799815, 0.48386740504438575, 0.5563785459021012, 0.37581198548897626, 0.4650612956922084, 0.4154585179526356, 0.433493692203095, 0.320464352836441, 0.3923140487194568, 0.47579809968437664, 0.5004768790078343, 0.5141403024628491, 0.5219811085378939, 0.3801337857049804], \"type\": \"choropleth\"}], \"name\": \"1988\"}, {\"data\": [{\"coloraxis\": \"coloraxis\", \"geo\": \"geo\", \"hovertemplate\": \"year=1992<br>state_po=%{location}<br>pct_vote=%{z}<extra></extra>\", \"locationmode\": \"USA-states\", \"locations\": [\"AK\", \"AL\", \"AR\", \"AZ\", \"CA\", \"CO\", \"CT\", \"DC\", \"DE\", \"FL\", \"GA\", \"HI\", \"IA\", \"ID\", \"IL\", \"IN\", \"KS\", \"KY\", \"LA\", \"MA\", \"MD\", \"ME\", \"MI\", \"MN\", \"MO\", \"MS\", \"MT\", \"NC\", \"ND\", \"NE\", \"NH\", \"NJ\", \"NM\", \"NV\", \"NY\", \"OH\", \"OK\", \"OR\", \"PA\", \"RI\", \"SC\", \"SD\", \"TN\", \"TX\", \"UT\", \"VA\", \"VT\", \"WA\", \"WI\", \"WV\", \"WY\"], \"name\": \"\", \"z\": [0.3028711132430195, 0.4088006350485172, 0.5320795284925204, 0.3652045259671481, 0.46006587840280944, 0.40128028651907366, 0.42218572959541034, 0.8464090485648498, 0.43523927905531384, 0.3899012156452978, 0.4346868533599755, 0.48092757790163126, 0.43285838623305506, 0.2841921205358069, 0.48579677819917283, 0.3679390564346401, 0.3373849413602757, 0.4455114207247639, 0.4558453914124838, 0.47541410927927824, 0.4981260518598394, 0.3876679730212995, 0.43773687484399393, 0.4348465127847806, 0.4407168575694087, 0.40768064143867394, 0.3763112452293446, 0.42653368302161304, 0.32183505174713517, 0.29403454157435605, 0.38911795091350765, 0.42953959123027496, 0.45898846638338486, 0.3735754999822246, 0.4727630691275797, 0.4018128056321024, 0.3402473749585539, 0.42478855058958337, 0.45146164873251193, 0.4704796356136888, 0.4276254117463252, 0.37140970813730095, 0.47084793088803906, 0.37078458334051023, 0.24654501759413333, 0.4058607440265809, 0.46113751764750555, 0.43410220037463415, 0.4113155574098482, 0.4841482161898089, 0.34099777871165277], \"type\": \"choropleth\"}], \"name\": \"1992\"}, {\"data\": [{\"coloraxis\": \"coloraxis\", \"geo\": \"geo\", \"hovertemplate\": \"year=1996<br>state_po=%{location}<br>pct_vote=%{z}<extra></extra>\", \"locationmode\": \"USA-states\", \"locations\": [\"AK\", \"AL\", \"AR\", \"AZ\", \"CA\", \"CO\", \"CT\", \"DC\", \"DE\", \"FL\", \"GA\", \"HI\", \"IA\", \"ID\", \"IL\", \"IN\", \"KS\", \"KY\", \"LA\", \"MA\", \"MD\", \"ME\", \"MI\", \"MN\", \"MO\", \"MS\", \"MT\", \"NC\", \"ND\", \"NE\", \"NH\", \"NJ\", \"NM\", \"NV\", \"NY\", \"OH\", \"OK\", \"OR\", \"PA\", \"RI\", \"SC\", \"SD\", \"TN\", \"TX\", \"UT\", \"VA\", \"VT\", \"WA\", \"WI\", \"WV\", \"WY\"], \"name\": \"\", \"z\": [0.33267113649532326, 0.4315608769582409, 0.5373644915194817, 0.4651706594607681, 0.5109886561852729, 0.44426498409348764, 0.5283158147196567, 0.8519001109160806, 0.518278497839814, 0.4802557119781926, 0.4584146584952188, 0.5692880151060757, 0.5026096469015254, 0.3364638985094903, 0.5431527783028726, 0.41557137645749265, 0.3608479940426324, 0.4584217848532593, 0.5200999574541791, 0.614720987115381, 0.5425477435186173, 0.5162395588689167, 0.5169482057469723, 0.5110075658200806, 0.4753957827961623, 0.4408110022072882, 0.41250064483164367, 0.4403553213740164, 0.4012784757386144, 0.34950658016134867, 0.4957057734944029, 0.5372029286118354, 0.4918320223567367, 0.43933496884416484, 0.5667893903041855, 0.4737574744720069, 0.40449137450247075, 0.4715197131575891, 0.492261247677619, 0.5971858848370392, 0.44006252923450373, 0.43027119502448846, 0.4799871179264085, 0.43831771937065145, 0.3329677643251721, 0.45147771163457395, 0.5335443356329489, 0.49840472048333573, 0.48810952162606797, 0.515055958042859, 0.3683586124752447], \"type\": \"choropleth\"}], \"name\": \"1996\"}, {\"data\": [{\"coloraxis\": \"coloraxis\", \"geo\": \"geo\", \"hovertemplate\": \"year=2000<br>state_po=%{location}<br>pct_vote=%{z}<extra></extra>\", \"locationmode\": \"USA-states\", \"locations\": [\"AK\", \"AL\", \"AR\", \"AZ\", \"CA\", \"CO\", \"CT\", \"DC\", \"DE\", \"FL\", \"GA\", \"HI\", \"IA\", \"ID\", \"IL\", \"IN\", \"KS\", \"KY\", \"LA\", \"MA\", \"MD\", \"ME\", \"MI\", \"MN\", \"MO\", \"MS\", \"MT\", \"NC\", \"ND\", \"NE\", \"NH\", \"NJ\", \"NM\", \"NV\", \"NY\", \"OH\", \"OK\", \"OR\", \"PA\", \"RI\", \"SC\", \"SD\", \"TN\", \"TX\", \"UT\", \"VA\", \"VT\", \"WA\", \"WI\", \"WV\", \"WY\"], \"name\": \"\", \"z\": [0.27666339823504693, 0.4156650294789806, 0.4586425626043496, 0.4473458501738885, 0.5344973682775446, 0.4239350901130605, 0.5590962813244035, 0.8515508137933767, 0.5497772716309091, 0.48837821204036147, 0.4321099965624139, 0.5579166791230354, 0.4719191557860848, 0.27638128843834414, 0.545965212095549, 0.4101210293083897, 0.3723839226424526, 0.4137818258591055, 0.44875332454339917, 0.5912612602067913, 0.5648830838450493, 0.4908601647394898, 0.5127979887069135, 0.479055720603522, 0.47084273348102373, 0.40698100150475164, 0.3336512679264014, 0.43145671168683253, 0.3305533969804618, 0.33253039013283714, 0.46803179160787306, 0.5612560891508792, 0.47908554054844177, 0.4594126276200884, 0.566392704823055, 0.46440428090356484, 0.38426904569573395, 0.46959940024120733, 0.5060817131276611, 0.6098770018967911, 0.40901523373764903, 0.37564225390411327, 0.4728489471775341, 0.37981958091571044, 0.26344722181136915, 0.4443561054475593, 0.5063470921619528, 0.5015821531675426, 0.47832819660687437, 0.4559266436669526, 0.282983820405566], \"type\": \"choropleth\"}], \"name\": \"2000\"}, {\"data\": [{\"coloraxis\": \"coloraxis\", \"geo\": \"geo\", \"hovertemplate\": \"year=2004<br>state_po=%{location}<br>pct_vote=%{z}<extra></extra>\", \"locationmode\": \"USA-states\", \"locations\": [\"AK\", \"AL\", \"AR\", \"AZ\", \"CA\", \"CO\", \"CT\", \"DC\", \"DE\", \"FL\", \"GA\", \"HI\", \"IA\", \"ID\", \"IL\", \"IN\", \"KS\", \"KY\", \"LA\", \"MA\", \"MD\", \"ME\", \"MI\", \"MN\", \"MO\", \"MS\", \"MT\", \"NC\", \"ND\", \"NE\", \"NH\", \"NJ\", \"NM\", \"NV\", \"NY\", \"OH\", \"OK\", \"OR\", \"PA\", \"RI\", \"SC\", \"SD\", \"TN\", \"TX\", \"UT\", \"VA\", \"VT\", \"WA\", \"WI\", \"WV\", \"WY\"], \"name\": \"\", \"z\": [0.35516861912104364, 0.36844402322377173, 0.44547630445189085, 0.44396832928795554, 0.5430555753467436, 0.47037842254288303, 0.543137089719902, 0.8918386895503239, 0.5334683760228152, 0.4709111002771423, 0.41374946053378764, 0.5400955215809311, 0.4923313168421695, 0.3026491704212736, 0.5482316020902781, 0.39262974665336575, 0.3662309430556444, 0.39687072981409693, 0.4221586470321228, 0.616166602048537, 0.5597176120840286, 0.5357285569259347, 0.5123070672905647, 0.5108968468600654, 0.46100446516831883, 0.40161112592821346, 0.3856502839483698, 0.435831462205017, 0.3549881246543683, 0.3268216082016382, 0.5020161082255741, 0.5292340900702746, 0.490466796420487, 0.4787804051895702, 0.5613058126549186, 0.48706685243153625, 0.3442959833524394, 0.5134866304221187, 0.5092380914415062, 0.5942342622628302, 0.40901835939914694, 0.38443645917854796, 0.4252529110879618, 0.3822426046274135, 0.25995641508701894, 0.4552591760381672, 0.5893746257712714, 0.5282114831183694, 0.49699717084411216, 0.43205141097021404, 0.2902309102316484], \"type\": \"choropleth\"}], \"name\": \"2004\"}, {\"data\": [{\"coloraxis\": \"coloraxis\", \"geo\": \"geo\", \"hovertemplate\": \"year=2008<br>state_po=%{location}<br>pct_vote=%{z}<extra></extra>\", \"locationmode\": \"USA-states\", \"locations\": [\"AK\", \"AL\", \"AR\", \"AZ\", \"CA\", \"CO\", \"CT\", \"DC\", \"DE\", \"FL\", \"GA\", \"HI\", \"IA\", \"ID\", \"IL\", \"IN\", \"KS\", \"KY\", \"LA\", \"MA\", \"MD\", \"ME\", \"MI\", \"MN\", \"MO\", \"MS\", \"MT\", \"NC\", \"ND\", \"NE\", \"NH\", \"NJ\", \"NM\", \"NV\", \"NY\", \"OH\", \"OK\", \"OR\", \"PA\", \"RI\", \"SC\", \"SD\", \"TN\", \"TX\", \"UT\", \"VA\", \"VT\", \"WA\", \"WI\", \"WV\", \"WY\"], \"name\": \"\", \"z\": [0.37889373599389325, 0.38740434294574916, 0.3886465976512423, 0.4511525087476428, 0.6101263834713425, 0.5366023684069159, 0.6058882967612181, 0.9245710975614343, 0.6194266898150393, 0.5103330527066491, 0.46990179096065066, 0.7145291011787819, 0.5392802007386527, 0.3609098763283785, 0.6191811452001323, 0.4994591163968428, 0.41651967194013617, 0.4116811378392879, 0.3993291380234511, 0.6136319910280229, 0.6191934476264593, 0.5770573729797597, 0.5743324730745946, 0.5406029269827984, 0.49292647865705136, 0.43001554426238403, 0.4726846477008176, 0.49703666399047425, 0.44620540014717913, 0.415982657769247, 0.5412689705613458, 0.5727213715188599, 0.5690748026279335, 0.551466759243187, 0.6015696154075767, 0.5150427006052537, 0.343549188773065, 0.5674880625692065, 0.5448552801203738, 0.6286400461245617, 0.4489656001736624, 0.44747431114601743, 0.4182853806271298, 0.4368312144588963, 0.3440574566607516, 0.5262946987317566, 0.6745568319560924, 0.5765289221364835, 0.5621778651794235, 0.42589750382296754, 0.32509493770203685], \"type\": \"choropleth\"}], \"name\": \"2008\"}, {\"data\": [{\"coloraxis\": \"coloraxis\", \"geo\": \"geo\", \"hovertemplate\": \"year=2012<br>state_po=%{location}<br>pct_vote=%{z}<extra></extra>\", \"locationmode\": \"USA-states\", \"locations\": [\"AK\", \"AL\", \"AR\", \"AZ\", \"CA\", \"CO\", \"CT\", \"DC\", \"DE\", \"FL\", \"GA\", \"HI\", \"IA\", \"ID\", \"IL\", \"IN\", \"KS\", \"KY\", \"LA\", \"MA\", \"MD\", \"ME\", \"MI\", \"MN\", \"MO\", \"MS\", \"MT\", \"NC\", \"ND\", \"NE\", \"NH\", \"NJ\", \"NM\", \"NV\", \"NY\", \"OH\", \"OK\", \"OR\", \"PA\", \"RI\", \"SC\", \"SD\", \"TN\", \"TX\", \"UT\", \"VA\", \"VT\", \"WA\", \"WI\", \"WV\", \"WY\"], \"name\": \"\", \"z\": [0.40812659112464433, 0.3835903309875247, 0.36878990301720105, 0.44589766941799386, 0.6023895914168964, 0.5149222655161517, 0.5808501325885442, 0.9091311392818725, 0.5861074198458528, 0.5000786506869869, 0.45507959666882086, 0.7014793244563191, 0.5198801653414908, 0.3262233355920978, 0.5760213536247709, 0.43927302904058396, 0.3799457055391902, 0.37801327834445797, 0.4057746362330215, 0.6033830832021647, 0.6197419077931849, 0.5537103419348252, 0.5420820421051875, 0.5265230315324626, 0.4438348354545333, 0.4378935954398935, 0.41698137374805805, 0.48350968577067555, 0.38697310888979725, 0.38027314417928976, 0.5197968415071198, 0.5834235491063761, 0.5299276052046678, 0.5235624947040056, 0.6076098417487449, 0.5066674765831987, 0.3322768025698344, 0.54239326652769, 0.520768577021407, 0.627009588632639, 0.4408803340736147, 0.3986614075835246, 0.39075814993795194, 0.41383358283760857, 0.2474966582796037, 0.5115645679621864, 0.665705503023823, 0.5616339829967276, 0.5277616253515459, 0.3553930415638732, 0.2763690611525283], \"type\": \"choropleth\"}], \"name\": \"2012\"}, {\"data\": [{\"coloraxis\": \"coloraxis\", \"geo\": \"geo\", \"hovertemplate\": \"year=2016<br>state_po=%{location}<br>pct_vote=%{z}<extra></extra>\", \"locationmode\": \"USA-states\", \"locations\": [\"AK\", \"AL\", \"AR\", \"AZ\", \"CA\", \"CO\", \"CT\", \"DC\", \"DE\", \"FL\", \"GA\", \"HI\", \"IA\", \"ID\", \"IL\", \"IN\", \"KS\", \"KY\", \"LA\", \"MA\", \"MD\", \"ME\", \"MI\", \"MN\", \"MO\", \"MS\", \"MT\", \"NC\", \"ND\", \"NE\", \"NH\", \"NJ\", \"NM\", \"NV\", \"NY\", \"OH\", \"OK\", \"OR\", \"PA\", \"RI\", \"SC\", \"SD\", \"TN\", \"TX\", \"UT\", \"VA\", \"VT\", \"WA\", \"WI\", \"WV\", \"WY\"], \"name\": \"\", \"z\": [0.36550871290111986, 0.3435794575797364, 0.33653124129360934, 0.45127654075817136, 0.6172639960455788, 0.48156980382847403, 0.5456630109670987, 0.9048388386787171, 0.5335333680563419, 0.4782331580580505, 0.4563998335736082, 0.6098079805512905, 0.41752513445496237, 0.27492013820979205, 0.558253666987933, 0.37774839686752043, 0.36052370732234496, 0.3268218833364776, 0.3844956609851397, 0.5905006509667129, 0.6032854853195064, 0.4634521409730895, 0.4727453095086684, 0.4644503396176695, 0.3813523083523671, 0.40114788271784096, 0.35935218775150346, 0.46172866168209475, 0.27226739458706006, 0.33698756377135536, 0.46826262669690555, 0.554530844496942, 0.48255647178634103, 0.4791782367811904, 0.5613614259984896, 0.4355807627672002, 0.2893168028454389, 0.5007185200286208, 0.4785361616456285, 0.5440660657037472, 0.4067341978966509, 0.3173742815994899, 0.34716332798650096, 0.4323525798101196, 0.2746126859226901, 0.49751352833417695, 0.5572274212321393, 0.5253868006182659, 0.4645384137224266, 0.26476928017771517, 0.2162890087639303], \"type\": \"choropleth\"}], \"name\": \"2016\"}]);\n",
       "                        }).then(function(){\n",
       "                            \n",
       "var gd = document.getElementById('a238e486-4a07-4e86-ab98-7e6a9f7d0fe0');\n",
       "var x = new MutationObserver(function (mutations, observer) {{\n",
       "        var display = window.getComputedStyle(gd).display;\n",
       "        if (!display || display === 'none') {{\n",
       "            console.log([gd, 'removed!']);\n",
       "            Plotly.purge(gd);\n",
       "            observer.disconnect();\n",
       "        }}\n",
       "}});\n",
       "\n",
       "// Listen for the removal of the full notebook cells\n",
       "var notebookContainer = gd.closest('#notebook-container');\n",
       "if (notebookContainer) {{\n",
       "    x.observe(notebookContainer, {childList: true});\n",
       "}}\n",
       "\n",
       "// Listen for the clearing of the current output cell\n",
       "var outputEl = gd.closest('.output');\n",
       "if (outputEl) {{\n",
       "    x.observe(outputEl, {childList: true});\n",
       "}}\n",
       "\n",
       "                        })                };                });            </script>        </div>"
      ]
     },
     "metadata": {},
     "output_type": "display_data"
    }
   ],
   "source": [
    "scl = [[0.0, 'red'],[.50, '#5700c9'], [1,'#0515a8']]\n",
    "px.choropleth(winner,locations='state_po', locationmode=\"USA-states\", color='pct_vote', \n",
    "              scope=\"usa\", animation_frame =\"year\", color_continuous_scale = scl)"
   ]
  },
  {
   "cell_type": "code",
   "execution_count": 25,
   "metadata": {},
   "outputs": [
    {
     "name": "stdout",
     "output_type": "stream",
     "text": [
      "Dash is running on http://127.0.0.1:8050/\n",
      "\n",
      "Dash is running on http://127.0.0.1:8050/\n",
      "\n",
      " * Serving Flask app \"__main__\" (lazy loading)\n",
      " * Environment: production\n",
      "   WARNING: This is a development server. Do not use it in a production deployment.\n",
      "   Use a production WSGI server instead.\n",
      " * Debug mode: on\n"
     ]
    }
   ],
   "source": []
  },
  {
   "cell_type": "code",
   "execution_count": null,
   "metadata": {},
   "outputs": [],
   "source": []
  }
 ],
 "metadata": {
  "kernelspec": {
   "display_name": "Python 3",
   "language": "python",
   "name": "python3"
  },
  "language_info": {
   "codemirror_mode": {
    "name": "ipython",
    "version": 3
   },
   "file_extension": ".py",
   "mimetype": "text/x-python",
   "name": "python",
   "nbconvert_exporter": "python",
   "pygments_lexer": "ipython3",
   "version": "3.8.3"
  }
 },
 "nbformat": 4,
 "nbformat_minor": 4
}
