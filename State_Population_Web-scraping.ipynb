{
 "cells": [
  {
   "cell_type": "code",
   "execution_count": 1,
   "metadata": {},
   "outputs": [],
   "source": [
    "import requests\n",
    "import pandas as pd\n",
    "import numpy as np\n",
    "from scipy.interpolate import interp1d\n"
   ]
  },
  {
   "cell_type": "code",
   "execution_count": 33,
   "metadata": {},
   "outputs": [],
   "source": [
    "url = 'https://en.wikipedia.org/wiki/List_of_U.S._states_and_territories_by_historical_population'\n",
    "html = requests.get(url).content\n",
    "table = pd.read_html(html)"
   ]
  },
  {
   "cell_type": "code",
   "execution_count": 34,
   "metadata": {},
   "outputs": [],
   "source": [
    "population_by_state = table[3]"
   ]
  },
  {
   "cell_type": "code",
   "execution_count": 35,
   "metadata": {},
   "outputs": [
    {
     "data": {
      "text/html": [
       "<div>\n",
       "<style scoped>\n",
       "    .dataframe tbody tr th:only-of-type {\n",
       "        vertical-align: middle;\n",
       "    }\n",
       "\n",
       "    .dataframe tbody tr th {\n",
       "        vertical-align: top;\n",
       "    }\n",
       "\n",
       "    .dataframe thead th {\n",
       "        text-align: right;\n",
       "    }\n",
       "</style>\n",
       "<table border=\"1\" class=\"dataframe\">\n",
       "  <thead>\n",
       "    <tr style=\"text-align: right;\">\n",
       "      <th></th>\n",
       "      <th>Name</th>\n",
       "      <th>1960</th>\n",
       "      <th>1970</th>\n",
       "      <th>1980</th>\n",
       "      <th>1990</th>\n",
       "      <th>2000</th>\n",
       "      <th>2010</th>\n",
       "    </tr>\n",
       "  </thead>\n",
       "  <tbody>\n",
       "    <tr>\n",
       "      <th>0</th>\n",
       "      <td>Alabama</td>\n",
       "      <td>3266740.0</td>\n",
       "      <td>3444165</td>\n",
       "      <td>3893888.0</td>\n",
       "      <td>4040587.0</td>\n",
       "      <td>4447100.0</td>\n",
       "      <td>4779736.0</td>\n",
       "    </tr>\n",
       "    <tr>\n",
       "      <th>1</th>\n",
       "      <td>Alaska</td>\n",
       "      <td>226167.0</td>\n",
       "      <td>300382</td>\n",
       "      <td>401851.0</td>\n",
       "      <td>550043.0</td>\n",
       "      <td>626932.0</td>\n",
       "      <td>710231.0</td>\n",
       "    </tr>\n",
       "    <tr>\n",
       "      <th>2</th>\n",
       "      <td>American Samoa</td>\n",
       "      <td>20051.0</td>\n",
       "      <td>27159</td>\n",
       "      <td>32297.0</td>\n",
       "      <td>46773.0</td>\n",
       "      <td>57291.0</td>\n",
       "      <td>55519.0</td>\n",
       "    </tr>\n",
       "    <tr>\n",
       "      <th>3</th>\n",
       "      <td>Arizona</td>\n",
       "      <td>1302161.0</td>\n",
       "      <td>1770900</td>\n",
       "      <td>2718215.0</td>\n",
       "      <td>3665228.0</td>\n",
       "      <td>5130632.0</td>\n",
       "      <td>6392017.0</td>\n",
       "    </tr>\n",
       "    <tr>\n",
       "      <th>4</th>\n",
       "      <td>Arkansas</td>\n",
       "      <td>1786272.0</td>\n",
       "      <td>1923295</td>\n",
       "      <td>2286435.0</td>\n",
       "      <td>2350725.0</td>\n",
       "      <td>2673400.0</td>\n",
       "      <td>2915918.0</td>\n",
       "    </tr>\n",
       "  </tbody>\n",
       "</table>\n",
       "</div>"
      ],
      "text/plain": [
       "             Name       1960     1970       1980       1990       2000  \\\n",
       "0         Alabama  3266740.0  3444165  3893888.0  4040587.0  4447100.0   \n",
       "1          Alaska   226167.0   300382   401851.0   550043.0   626932.0   \n",
       "2  American Samoa    20051.0    27159    32297.0    46773.0    57291.0   \n",
       "3         Arizona  1302161.0  1770900  2718215.0  3665228.0  5130632.0   \n",
       "4        Arkansas  1786272.0  1923295  2286435.0  2350725.0  2673400.0   \n",
       "\n",
       "        2010  \n",
       "0  4779736.0  \n",
       "1   710231.0  \n",
       "2    55519.0  \n",
       "3  6392017.0  \n",
       "4  2915918.0  "
      ]
     },
     "execution_count": 35,
     "metadata": {},
     "output_type": "execute_result"
    }
   ],
   "source": [
    "population_by_state.head()"
   ]
  },
  {
   "cell_type": "code",
   "execution_count": 7,
   "metadata": {},
   "outputs": [],
   "source": [
    "x = population_by_state.columns[1:].astype('int')\n",
    "y = population_by_state.iloc[0,1:].astype('int')\n",
    "f = interp1d(x, y, fill_value = 'extrapolate')"
   ]
  },
  {
   "cell_type": "code",
   "execution_count": 36,
   "metadata": {},
   "outputs": [],
   "source": [
    "population_by_state['pop_func'] = [interp1d(x, y, fill_value = 'extrapolate')\\\n",
    "                                   for y in population_by_state[population_by_state.columns[1:]].to_numpy()]\n",
    "\n"
   ]
  },
  {
   "cell_type": "code",
   "execution_count": 19,
   "metadata": {},
   "outputs": [],
   "source": [
    "f  = population_by_state[population_by_state['Name'] == 'Alaska']['pop_func']"
   ]
  },
  {
   "cell_type": "code",
   "execution_count": 24,
   "metadata": {},
   "outputs": [
    {
     "data": {
      "text/plain": [
       "array(226167.)"
      ]
     },
     "execution_count": 24,
     "metadata": {},
     "output_type": "execute_result"
    }
   ],
   "source": [
    "f[1](1960)"
   ]
  },
  {
   "cell_type": "code",
   "execution_count": 37,
   "metadata": {},
   "outputs": [],
   "source": [
    "for year in range(1976,2020,4):\n",
    "    population_by_state[str(year)] = [f(year) for f in population_by_state['pop_func']]"
   ]
  },
  {
   "cell_type": "code",
   "execution_count": 38,
   "metadata": {},
   "outputs": [
    {
     "data": {
      "text/html": [
       "<div>\n",
       "<style scoped>\n",
       "    .dataframe tbody tr th:only-of-type {\n",
       "        vertical-align: middle;\n",
       "    }\n",
       "\n",
       "    .dataframe tbody tr th {\n",
       "        vertical-align: top;\n",
       "    }\n",
       "\n",
       "    .dataframe thead th {\n",
       "        text-align: right;\n",
       "    }\n",
       "</style>\n",
       "<table border=\"1\" class=\"dataframe\">\n",
       "  <thead>\n",
       "    <tr style=\"text-align: right;\">\n",
       "      <th></th>\n",
       "      <th>Name</th>\n",
       "      <th>1960</th>\n",
       "      <th>1970</th>\n",
       "      <th>1980</th>\n",
       "      <th>1990</th>\n",
       "      <th>2000</th>\n",
       "      <th>2010</th>\n",
       "      <th>pop_func</th>\n",
       "      <th>1976</th>\n",
       "      <th>1984</th>\n",
       "      <th>1988</th>\n",
       "      <th>1992</th>\n",
       "      <th>1996</th>\n",
       "      <th>2004</th>\n",
       "      <th>2008</th>\n",
       "      <th>2012</th>\n",
       "      <th>2016</th>\n",
       "    </tr>\n",
       "  </thead>\n",
       "  <tbody>\n",
       "    <tr>\n",
       "      <th>0</th>\n",
       "      <td>Alabama</td>\n",
       "      <td>3266740.0</td>\n",
       "      <td>3444165</td>\n",
       "      <td>3893888.0</td>\n",
       "      <td>4040587.0</td>\n",
       "      <td>4447100.0</td>\n",
       "      <td>4779736.0</td>\n",
       "      <td>&lt;scipy.interpolate.interpolate.interp1d object...</td>\n",
       "      <td>3713998.8</td>\n",
       "      <td>3952567.6</td>\n",
       "      <td>4011247.2</td>\n",
       "      <td>4121889.6</td>\n",
       "      <td>4284494.8</td>\n",
       "      <td>4580154.4</td>\n",
       "      <td>4713208.8</td>\n",
       "      <td>4846263.2</td>\n",
       "      <td>4979317.6</td>\n",
       "    </tr>\n",
       "    <tr>\n",
       "      <th>1</th>\n",
       "      <td>Alaska</td>\n",
       "      <td>226167.0</td>\n",
       "      <td>300382</td>\n",
       "      <td>401851.0</td>\n",
       "      <td>550043.0</td>\n",
       "      <td>626932.0</td>\n",
       "      <td>710231.0</td>\n",
       "      <td>&lt;scipy.interpolate.interpolate.interp1d object...</td>\n",
       "      <td>361263.4</td>\n",
       "      <td>461127.8</td>\n",
       "      <td>520404.6</td>\n",
       "      <td>565420.8</td>\n",
       "      <td>596176.4</td>\n",
       "      <td>660251.6</td>\n",
       "      <td>693571.2</td>\n",
       "      <td>726890.8</td>\n",
       "      <td>760210.4</td>\n",
       "    </tr>\n",
       "    <tr>\n",
       "      <th>2</th>\n",
       "      <td>American Samoa</td>\n",
       "      <td>20051.0</td>\n",
       "      <td>27159</td>\n",
       "      <td>32297.0</td>\n",
       "      <td>46773.0</td>\n",
       "      <td>57291.0</td>\n",
       "      <td>55519.0</td>\n",
       "      <td>&lt;scipy.interpolate.interpolate.interp1d object...</td>\n",
       "      <td>30241.8</td>\n",
       "      <td>38087.4</td>\n",
       "      <td>43877.8</td>\n",
       "      <td>48876.6</td>\n",
       "      <td>53083.8</td>\n",
       "      <td>56582.2</td>\n",
       "      <td>55873.4</td>\n",
       "      <td>55164.6</td>\n",
       "      <td>54455.8</td>\n",
       "    </tr>\n",
       "    <tr>\n",
       "      <th>3</th>\n",
       "      <td>Arizona</td>\n",
       "      <td>1302161.0</td>\n",
       "      <td>1770900</td>\n",
       "      <td>2718215.0</td>\n",
       "      <td>3665228.0</td>\n",
       "      <td>5130632.0</td>\n",
       "      <td>6392017.0</td>\n",
       "      <td>&lt;scipy.interpolate.interpolate.interp1d object...</td>\n",
       "      <td>2339289.0</td>\n",
       "      <td>3097020.2</td>\n",
       "      <td>3475825.4</td>\n",
       "      <td>3958308.8</td>\n",
       "      <td>4544470.4</td>\n",
       "      <td>5635186.0</td>\n",
       "      <td>6139740.0</td>\n",
       "      <td>6644294.0</td>\n",
       "      <td>7148848.0</td>\n",
       "    </tr>\n",
       "    <tr>\n",
       "      <th>4</th>\n",
       "      <td>Arkansas</td>\n",
       "      <td>1786272.0</td>\n",
       "      <td>1923295</td>\n",
       "      <td>2286435.0</td>\n",
       "      <td>2350725.0</td>\n",
       "      <td>2673400.0</td>\n",
       "      <td>2915918.0</td>\n",
       "      <td>&lt;scipy.interpolate.interpolate.interp1d object...</td>\n",
       "      <td>2141179.0</td>\n",
       "      <td>2312151.0</td>\n",
       "      <td>2337867.0</td>\n",
       "      <td>2415260.0</td>\n",
       "      <td>2544330.0</td>\n",
       "      <td>2770407.2</td>\n",
       "      <td>2867414.4</td>\n",
       "      <td>2964421.6</td>\n",
       "      <td>3061428.8</td>\n",
       "    </tr>\n",
       "  </tbody>\n",
       "</table>\n",
       "</div>"
      ],
      "text/plain": [
       "             Name       1960     1970       1980       1990       2000  \\\n",
       "0         Alabama  3266740.0  3444165  3893888.0  4040587.0  4447100.0   \n",
       "1          Alaska   226167.0   300382   401851.0   550043.0   626932.0   \n",
       "2  American Samoa    20051.0    27159    32297.0    46773.0    57291.0   \n",
       "3         Arizona  1302161.0  1770900  2718215.0  3665228.0  5130632.0   \n",
       "4        Arkansas  1786272.0  1923295  2286435.0  2350725.0  2673400.0   \n",
       "\n",
       "        2010                                           pop_func       1976  \\\n",
       "0  4779736.0  <scipy.interpolate.interpolate.interp1d object...  3713998.8   \n",
       "1   710231.0  <scipy.interpolate.interpolate.interp1d object...   361263.4   \n",
       "2    55519.0  <scipy.interpolate.interpolate.interp1d object...    30241.8   \n",
       "3  6392017.0  <scipy.interpolate.interpolate.interp1d object...  2339289.0   \n",
       "4  2915918.0  <scipy.interpolate.interpolate.interp1d object...  2141179.0   \n",
       "\n",
       "        1984       1988       1992       1996       2004       2008  \\\n",
       "0  3952567.6  4011247.2  4121889.6  4284494.8  4580154.4  4713208.8   \n",
       "1   461127.8   520404.6   565420.8   596176.4   660251.6   693571.2   \n",
       "2    38087.4    43877.8    48876.6    53083.8    56582.2    55873.4   \n",
       "3  3097020.2  3475825.4  3958308.8  4544470.4  5635186.0  6139740.0   \n",
       "4  2312151.0  2337867.0  2415260.0  2544330.0  2770407.2  2867414.4   \n",
       "\n",
       "        2012       2016  \n",
       "0  4846263.2  4979317.6  \n",
       "1   726890.8   760210.4  \n",
       "2    55164.6    54455.8  \n",
       "3  6644294.0  7148848.0  \n",
       "4  2964421.6  3061428.8  "
      ]
     },
     "execution_count": 38,
     "metadata": {},
     "output_type": "execute_result"
    }
   ],
   "source": [
    "population_by_state.head()"
   ]
  },
  {
   "cell_type": "code",
   "execution_count": 51,
   "metadata": {},
   "outputs": [],
   "source": [
    "key_years = list(map(str,range(1976,2020,4)))\n",
    "new_df = population_by_state.melt(id_vars = 'Name', value_vars = key_years, var_name = 'year', value_name='pop')"
   ]
  },
  {
   "cell_type": "code",
   "execution_count": 55,
   "metadata": {},
   "outputs": [],
   "source": [
    "new_df.rename(columns = {'Name':'state'}, inplace = True)"
   ]
  },
  {
   "cell_type": "code",
   "execution_count": 58,
   "metadata": {},
   "outputs": [],
   "source": [
    "new_df.to_csv('data/state_populations.csv',index = False)"
   ]
  },
  {
   "cell_type": "code",
   "execution_count": null,
   "metadata": {},
   "outputs": [],
   "source": []
  }
 ],
 "metadata": {
  "kernelspec": {
   "display_name": "Python 3",
   "language": "python",
   "name": "python3"
  },
  "language_info": {
   "codemirror_mode": {
    "name": "ipython",
    "version": 3
   },
   "file_extension": ".py",
   "mimetype": "text/x-python",
   "name": "python",
   "nbconvert_exporter": "python",
   "pygments_lexer": "ipython3",
   "version": "3.8.3"
  }
 },
 "nbformat": 4,
 "nbformat_minor": 4
}
